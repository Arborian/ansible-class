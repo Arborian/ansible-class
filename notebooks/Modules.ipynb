{
 "cells": [
  {
   "cell_type": "markdown",
   "metadata": {
    "slideshow": {
     "slide_type": "slide"
    }
   },
   "source": [
    "# Building Custom Ansible Modules in Python\n",
    "\n",
    "Have you ever wanted to type\n",
    "\n",
    "`ansible -m my-really-cool-custom-module -a 'param1=foo param2=bar'`\n",
    "\n",
    "... and have it actually work?\n",
    "\n",
    "Then this section may be for you!\n",
    "\n",
    "(much of this material is taken from Redhat's [Ansible Module Development Walkthrough][1])\n",
    "\n",
    "[1]: http://docs.ansible.com/ansible/latest/dev_guide/developing_modules_general.html"
   ]
  },
  {
   "cell_type": "markdown",
   "metadata": {
    "slideshow": {
     "slide_type": "fragment"
    }
   },
   "source": [
    "*Don't* create a custom module until\n",
    "\n",
    "- you've looked through all the built-in Ansible modules and can't find something that does what you want\n",
    "- you've decided that using the `raw` and `script` modules is not powerful enough for what you need\n",
    "- you know some Python"
   ]
  },
  {
   "cell_type": "markdown",
   "metadata": {
    "slideshow": {
     "slide_type": "slide"
    }
   },
   "source": [
    "# Environment setup\n",
    "\n",
    "Note: this becomes more useful when you want to do things like _test_ your module. \n",
    "For basic tasks, you should be fine just adding a `library=./modules` to your `ansible.cfg` and creating `.py` files there.\n",
    "\n",
    "- Clone the Ansible repository: `$ git clone https://github.com/ansible/ansible.git`\n",
    "- Change directory into the repository root dir: `$ cd ansible`\n",
    "- Create a virtual environment: `$ python3 -m venv venv` (or for Python 2 $ `virtualenv venv`. Note, this requires you to install the virtualenv package: `$ pip install virtualenv`)\n",
    "- Activate the virtual environment: `$ . venv/bin/activate`\n",
    "- Install development requirements: `$ pip install -r requirements.txt`\n",
    "- Run the environment setup script for each new dev shell process: `$ . hacking/env-setup`\n",
    "\n"
   ]
  },
  {
   "cell_type": "code",
   "execution_count": 9,
   "metadata": {
    "slideshow": {
     "slide_type": "skip"
    }
   },
   "outputs": [
    {
     "name": "stdout",
     "output_type": "stream",
     "text": [
      "/Users/rick446/src/Classes/Ansible\n"
     ]
    }
   ],
   "source": [
    "cd ~/src/Classes/Ansible"
   ]
  },
  {
   "cell_type": "code",
   "execution_count": 10,
   "metadata": {
    "slideshow": {
     "slide_type": "slide"
    }
   },
   "outputs": [
    {
     "name": "stdout",
     "output_type": "stream",
     "text": [
      "Requirement already satisfied: jinja2 in /Users/rick446/.virtualenvs/ansible/lib/python3.6/site-packages (from -r requirements.txt (line 6))\n",
      "Requirement already satisfied: PyYAML in /Users/rick446/.virtualenvs/ansible/lib/python3.6/site-packages (from -r requirements.txt (line 7))\n",
      "Requirement already satisfied: paramiko in /Users/rick446/.virtualenvs/ansible/lib/python3.6/site-packages (from -r requirements.txt (line 8))\n",
      "Requirement already satisfied: cryptography in /Users/rick446/.virtualenvs/ansible/lib/python3.6/site-packages (from -r requirements.txt (line 9))\n",
      "Requirement already satisfied: setuptools in /Users/rick446/.virtualenvs/ansible/lib/python3.6/site-packages (from -r requirements.txt (line 10))\n",
      "Requirement already satisfied: MarkupSafe>=0.23 in /Users/rick446/.virtualenvs/ansible/lib/python3.6/site-packages (from jinja2->-r requirements.txt (line 6))\n",
      "Requirement already satisfied: pynacl>=1.0.1 in /Users/rick446/.virtualenvs/ansible/lib/python3.6/site-packages (from paramiko->-r requirements.txt (line 8))\n",
      "Requirement already satisfied: bcrypt>=3.1.3 in /Users/rick446/.virtualenvs/ansible/lib/python3.6/site-packages (from paramiko->-r requirements.txt (line 8))\n",
      "Requirement already satisfied: pyasn1>=0.1.7 in /Users/rick446/.virtualenvs/ansible/lib/python3.6/site-packages (from paramiko->-r requirements.txt (line 8))\n",
      "Requirement already satisfied: idna>=2.1 in /Users/rick446/.virtualenvs/ansible/lib/python3.6/site-packages (from cryptography->-r requirements.txt (line 9))\n",
      "Requirement already satisfied: cffi>=1.7; platform_python_implementation != \"PyPy\" in /Users/rick446/.virtualenvs/ansible/lib/python3.6/site-packages (from cryptography->-r requirements.txt (line 9))\n",
      "Requirement already satisfied: six>=1.4.1 in /Users/rick446/.virtualenvs/ansible/lib/python3.6/site-packages (from cryptography->-r requirements.txt (line 9))\n",
      "Requirement already satisfied: asn1crypto>=0.21.0 in /Users/rick446/.virtualenvs/ansible/lib/python3.6/site-packages (from cryptography->-r requirements.txt (line 9))\n",
      "Requirement already satisfied: pycparser in /Users/rick446/.virtualenvs/ansible/lib/python3.6/site-packages (from cffi>=1.7; platform_python_implementation != \"PyPy\"->cryptography->-r requirements.txt (line 9))\n",
      "running egg_info\n",
      "creating lib/ansible.egg-info\n",
      "writing lib/ansible.egg-info/PKG-INFO\n",
      "writing dependency_links to lib/ansible.egg-info/dependency_links.txt\n",
      "writing requirements to lib/ansible.egg-info/requires.txt\n",
      "writing top-level names to lib/ansible.egg-info/top_level.txt\n",
      "writing manifest file 'lib/ansible.egg-info/SOURCES.txt'\n",
      "reading manifest file 'lib/ansible.egg-info/SOURCES.txt'\n",
      "reading manifest template 'MANIFEST.in'\n",
      "writing manifest file 'lib/ansible.egg-info/SOURCES.txt'\n",
      "\n",
      "Setting up Ansible to run out of checkout...\n",
      "\n",
      "PATH=/Users/rick446/src/Classes/Ansible/ansible/bin:/Users/rick446/src/Classes/Ansible/ansible/test/runner:/Users/rick446/src/Classes/Ansible/ansible/venv/bin:/Users/rick446/.virtualenvs/ansible/bin:/Users/rick446/.virtualenvs/ansible/bin:/usr/local/heroku/bin:/usr/local/bin:/usr/local/share/python:/usr/bin:/bin:/usr/sbin:/sbin:/usr/local/bin:/opt/X11/bin:/Library/TeX/texbin:/Users/rick446/bin:/Users/rick446/bin\n",
      "PYTHONPATH=/Users/rick446/src/Classes/Ansible/ansible/lib:\n",
      "MANPATH=/Users/rick446/src/Classes/Ansible/ansible/docs/man:\n",
      "\n",
      "Remember, you may wish to specify your host file with -i\n",
      "\n",
      "Done!\n",
      "\n"
     ]
    },
    {
     "name": "stderr",
     "output_type": "stream",
     "text": [
      "fatal: destination path 'ansible' already exists and is not an empty directory.\n",
      "no previously-included directories found matching 'ticket_stubs'\n",
      "no previously-included directories found matching 'hacking'\n",
      "warning: no files found matching 'SYMLINK_CACHE.json'\n"
     ]
    }
   ],
   "source": [
    "%%bash\n",
    "git clone https://github.com/ansible/ansible.git\n",
    "cd ansible\n",
    "python3 -m venv venv\n",
    ". venv/bin/activate\n",
    "pip install -r requirements.txt\n",
    ". hacking/env-setup"
   ]
  },
  {
   "cell_type": "markdown",
   "metadata": {
    "slideshow": {
     "slide_type": "slide"
    }
   },
   "source": [
    "A minimal module can be found in `modules/simple_module.py` (a commented version is available in `modules/my_new_test_module.py`):"
   ]
  },
  {
   "cell_type": "code",
   "execution_count": 4,
   "metadata": {
    "slideshow": {
     "slide_type": "slide"
    }
   },
   "outputs": [
    {
     "name": "stdout",
     "output_type": "stream",
     "text": [
      "import os\r\n",
      "from ansible.module_utils.basic import AnsibleModule\r\n",
      "\r\n",
      "def run_module():\r\n",
      "    module_args = dict(\r\n",
      "        name=dict(type='str', required=True),\r\n",
      "        new=dict(type='bool', required=False, default=False)\r\n",
      "    )\r\n",
      "    result = dict(\r\n",
      "        changed=False,\r\n",
      "        original_message='',\r\n",
      "        message=''\r\n",
      "    )\r\n",
      "    module = AnsibleModule(\r\n",
      "        argument_spec=module_args,\r\n",
      "        supports_check_mode=True\r\n",
      "    )\r\n",
      "    if module.check_mode:\r\n",
      "        return module.exit_json(**result)\r\n",
      "    result['original_message'] = module.params['name']\r\n",
      "    result['message'] = 'goodbye'\r\n",
      "    result['num_files'] = len(os.listdir(os.environ['HOME']))\r\n",
      "    if module.params['new']:\r\n",
      "        result['changed'] = True\r\n",
      "    if module.params['name'] == 'fail me':\r\n",
      "        module.fail_json(msg='You requested this to fail', **result)\r\n",
      "    module.exit_json(**result)\r\n",
      "\r\n",
      "\r\n",
      "if __name__ == '__main__':\r\n",
      "    run_module()\r\n"
     ]
    }
   ],
   "source": [
    "cat modules/simple_module.py"
   ]
  },
  {
   "cell_type": "code",
   "execution_count": 5,
   "metadata": {
    "slideshow": {
     "slide_type": "slide"
    }
   },
   "outputs": [
    {
     "name": "stdout",
     "output_type": "stream",
     "text": [
      "localhost | FAILED! => {\n",
      "    \"changed\": false,\n",
      "    \"msg\": \"missing required arguments: name\"\n",
      "}\n"
     ]
    }
   ],
   "source": [
    "%%bash\n",
    "ansible localhost -m simple_module"
   ]
  },
  {
   "cell_type": "code",
   "execution_count": 6,
   "metadata": {
    "slideshow": {
     "slide_type": "fragment"
    }
   },
   "outputs": [
    {
     "name": "stdout",
     "output_type": "stream",
     "text": [
      "localhost | SUCCESS => {\n",
      "    \"changed\": false,\n",
      "    \"message\": \"goodbye\",\n",
      "    \"num_files\": 151,\n",
      "    \"original_message\": \"foo\"\n",
      "}\n"
     ]
    }
   ],
   "source": [
    "%%bash\n",
    "ansible localhost -m simple_module -a name=foo"
   ]
  },
  {
   "cell_type": "code",
   "execution_count": 7,
   "metadata": {
    "slideshow": {
     "slide_type": "fragment"
    }
   },
   "outputs": [
    {
     "name": "stdout",
     "output_type": "stream",
     "text": [
      "localhost | FAILED! => {\n",
      "    \"changed\": false,\n",
      "    \"message\": \"goodbye\",\n",
      "    \"msg\": \"You requested this to fail\",\n",
      "    \"num_files\": 151,\n",
      "    \"original_message\": \"fail me\"\n",
      "}\n"
     ]
    }
   ],
   "source": [
    "%%bash\n",
    "ansible localhost -m simple_module -a 'name=\"fail me\"'"
   ]
  },
  {
   "cell_type": "code",
   "execution_count": 8,
   "metadata": {
    "slideshow": {
     "slide_type": "slide"
    }
   },
   "outputs": [
    {
     "name": "stdout",
     "output_type": "stream",
     "text": [
      "localhost | SUCCESS => {\n",
      "    \"changed\": true,\n",
      "    \"message\": \"goodbye\",\n",
      "    \"num_files\": 151,\n",
      "    \"original_message\": \"foo\"\n",
      "}\n"
     ]
    }
   ],
   "source": [
    "%%bash\n",
    "ansible localhost -m simple_module -a 'name=foo new=true'"
   ]
  },
  {
   "cell_type": "markdown",
   "metadata": {
    "slideshow": {
     "slide_type": "slide"
    }
   },
   "source": [
    "## Lab: Modify your module\n",
    "\n",
    "~~Modify the module to report on the number of files in the user's home directory (hint: use `os.listdir()` and `os.environ['HOME']`. Confirm that it works locally.~~\n",
    "\n",
    "Modify the module `simple_module` to return the current logged-in user's username\n",
    "\n",
    "(you'll need to update `result` to add a `username=os.environ['USER']` argument)\n",
    "\n",
    "Test it with both Vagrant and remotely (use -i inventory with `ansible`)"
   ]
  }
 ],
 "metadata": {
  "celltoolbar": "Slideshow",
  "kernelspec": {
   "display_name": "Python 3",
   "language": "python",
   "name": "python3"
  },
  "language_info": {
   "codemirror_mode": {
    "name": "ipython",
    "version": 3
   },
   "file_extension": ".py",
   "mimetype": "text/x-python",
   "name": "python",
   "nbconvert_exporter": "python",
   "pygments_lexer": "ipython3",
   "version": "3.6.0"
  }
 },
 "nbformat": 4,
 "nbformat_minor": 2
}
