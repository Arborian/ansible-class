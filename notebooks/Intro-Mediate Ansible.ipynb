{
 "cells": [
  {
   "cell_type": "markdown",
   "metadata": {
    "slideshow": {
     "slide_type": "slide"
    }
   },
   "source": [
    "# \"Intro-mediate\" Ansible \n",
    "\n",
    "## DevelopIntelligence\n",
    "\n",
    "Instructor: Rick Copeland <rick@arborian.com>\n",
    "\n",
    "Class Repository: https://github.com/Arborian/ansible-class\n",
    "\n",
    "Class Times\n",
    "- 09:00 - 05:00\n",
    "- Lunch 11:45 - 12:45\n",
    "\n",
    "Class Format:\n",
    "\n",
    " - Interactive demo / lecture\n",
    " - Hands-on, with frequent labs\n",
    " - In addition to lab times, breaks every 60 ~ 90 minutes"
   ]
  },
  {
   "cell_type": "markdown",
   "metadata": {
    "slideshow": {
     "slide_type": "slide"
    }
   },
   "source": [
    "# Getting to Know You\n",
    "\n",
    "- Name\n",
    "- Programming / operations experience? (e.g. Chef, Puppet, Salt, Fabric?)\n",
    "- Job role\n",
    "- Specific thing you'd like to learn"
   ]
  },
  {
   "cell_type": "markdown",
   "metadata": {
    "slideshow": {
     "slide_type": "slide"
    }
   },
   "source": [
    "# Logistics\n",
    "\n",
    "- Please sign in each day!\n",
    "- Each student will need to fill out a class evaluation via HIVE at the conclusion of the course"
   ]
  },
  {
   "cell_type": "markdown",
   "metadata": {
    "slideshow": {
     "slide_type": "slide"
    }
   },
   "source": [
    "# (Rough) Outline\n",
    "\n",
    "## Day 1\n",
    "\n",
    "- Review of Intro to Ansible Topics\n",
    "\n",
    "  - Why and how of Ansible\n",
    "  - Inventory: static and dynamic\n",
    "  - Running ad-hoc commands\n",
    "  - Grouping operations into playbooks\n",
    "  - Grouping playbooks into roles + Ansible Galaxy\n",
    "  - Building custom modules in Python\n",
    "  \n",
    "- Using the Ansible vault for storing sensitive data\n",
    "- Using fact caching to speed up playbooks\n",
    "- Error handling and debugging playbooks"
   ]
  },
  {
   "cell_type": "markdown",
   "metadata": {
    "slideshow": {
     "slide_type": "slide"
    }
   },
   "source": [
    "## Day 2\n",
    "\n",
    "- Playbook delegation\n",
    "- Ansible Galaxy: Sharing your roles\n",
    "- Ansible + Docker\n",
    "  - Docker modules in core Ansible\n",
    "  - `ansible-container`\n",
    "- More Ansible modules\n",
    "  - Cloud modules\n",
    "    - VMware\n",
    "    - AWS\n",
    "  - Notifications\n",
    "  - Source Control\n",
    "  - Databases\n",
    "  - Monitoring"
   ]
  },
  {
   "cell_type": "markdown",
   "metadata": {
    "slideshow": {
     "slide_type": "slide"
    }
   },
   "source": [
    "# Topic List\n",
    "\n",
    "- [Getting Started with Ansible][start] ([slides][start-slides])\n",
    "- [Ad-Hoc Commands][adhoc] ([slides][adhoc-slides])\n",
    "- [Playbooks][playbooks] ([slides][playbooks-slides])\n",
    "- [Roles][roles] ([slides][roles-slides])\n",
    "- [Custom Modules][modules] ([slides][modules-slides])\n",
    "- [Using the Vault for Sensitive Data][vault] ([slides][vault-slides])\n",
    "- [Fact Caching][factcache] ([slides][factcache-slides])\n",
    "- [Playbook Debugging][playbook-debugging] ([slides][playbook-debugging-slides])\n",
    "<hr>\n",
    "\n",
    "- [Playbook Delegation][playbook-delegation] ([slides][playbook-delegation-slides])\n",
    "- [Ansible Galaxy: Sharing Roles][galaxy] ([slides][galaxy-slides])\n",
    "- [Ansible and Docker][docker] ([slides][docker-slides])\n",
    "- [Cloud Modules][cloud] ([slides][cloud-slides])\n",
    "- [Notifications][notifications] ([slides][notifications-slides])\n",
    "- [Source Control][scm] ([slides][scm-slides])\n",
    "- [Databases][db] ([slides][db-slides])\n",
    "- [Monitoring][monitor] ([monitor][monitor-slides])\n",
    "\n",
    "\n",
    "[start]: ./Getting%20started%20with%20Ansible.ipynb\n",
    "[adhoc]: ./AdHoc.ipynb\n",
    "[playbooks]: ./Playbooks.ipynb\n",
    "[roles]: ./Roles.ipynb\n",
    "[modules]: ./Modules.ipynb\n",
    "[vault]: ./Vault.ipynb\n",
    "[factcache]: ./FactCache.ipynb\n",
    "[playbook-debugging]: ./PlaybookDebugging.ipynb\n",
    "[playbook-delegation]: ./PlaybookDelegation.ipynb\n",
    "[galaxy]: ./Galaxy.ipynb\n",
    "[docker]: ./AnsibleAndDocker.ipynb\n",
    "[cloud]: ./AnsibleCloud.ipynb\n",
    "[notifications]: ./Notifications.ipynb\n",
    "[scm]: ./SourceControl.ipynb\n",
    "[db]: ./Databases.ipynb\n",
    "[monitor]: ./Monitoring.ipynb\n",
    "[start-slides]: ./Getting%20started%20with%20Ansible.slides.html\n",
    "[adhoc-slides]: ./Adhoc.slides.html\n",
    "[playbooks-slides]: ./Playbooks.slides.html\n",
    "[roles-slides]: ./Roles.slides.html\n",
    "[modules-slides]: ./Modules.slides.html\n",
    "[vault-slides]: ./Vault.slides.html\n",
    "[factcache-slides]: ./FactCache.slides.html\n",
    "[playbook-debugging-slides]: ./PlaybookDebugging.slides.html\n",
    "[playbook-delegation-slides]: ./PlaybookDelegation.slides.html\n",
    "[galaxy-slides]: ./Galaxy.slides.html\n",
    "[docker-slides]: ./AnsibleAndDocker.slides.html\n",
    "[cloud-slides]: ./AnsibleCloud.slides.html\n",
    "[notifications-slides]: ./Notifications.slides.html\n",
    "[scm-slides]: ./SourceControl.slides.html\n",
    "[db-slides]: ./Databases.slides.html\n",
    "[monitor-slides]: ./Monitoring.slides.html\n"
   ]
  },
  {
   "cell_type": "markdown",
   "metadata": {},
   "source": [
    "### Comparisons\n",
    "\n",
    "Caveat: the below bullet points are generalizations; there are generally ways to do anything in any of these systems. The bullets below are the *common* way to do things.\n",
    "\n",
    "#### Big Config Management Systems\n",
    "\n",
    "Ansible\n",
    "\n",
    "- push-based\n",
    "- no agent required\n",
    "- implemented in Python\n",
    "- uses SSH to communicate with hosts\n",
    "- config is via YAML+Jinja2\n",
    "- ad-hoc commands are common\n",
    "\n",
    "Puppet\n",
    "\n",
    "- pull-based\n",
    "- requires agent\n",
    "- implemented in Ruby\n",
    "- config is via Ruby-like DSL\n",
    "\n",
    "Chef\n",
    "\n",
    "- pull-based\n",
    "- requires agent\n",
    "- implemented in Ruby\n",
    "- config is via Ruby (they call it a DSL)\n",
    "\n",
    "SaltStack\n",
    "\n",
    "- pull-based (0MQ) - low latency, high scalability\n",
    "- requires agent\n",
    "- implemented in Python\n",
    "- config is via YAML+Jinja2\n",
    "- lots of teminology (Pillars, Masters/Minions, Mine)\n",
    "\n",
    "#### Ad-hoc systems\n",
    "\n",
    "Ruby\n",
    "- capistrano\n",
    "\n",
    "Python\n",
    "- fabric"
   ]
  },
  {
   "cell_type": "code",
   "execution_count": null,
   "metadata": {},
   "outputs": [],
   "source": []
  }
 ],
 "metadata": {
  "celltoolbar": "Slideshow",
  "kernelspec": {
   "display_name": "Python 3",
   "language": "python",
   "name": "python3"
  },
  "language_info": {
   "codemirror_mode": {
    "name": "ipython",
    "version": 3
   },
   "file_extension": ".py",
   "mimetype": "text/x-python",
   "name": "python",
   "nbconvert_exporter": "python",
   "pygments_lexer": "ipython3",
   "version": "3.6.0"
  }
 },
 "nbformat": 4,
 "nbformat_minor": 2
}
