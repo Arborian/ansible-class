{
 "cells": [
  {
   "cell_type": "code",
   "execution_count": 1,
   "metadata": {
    "slideshow": {
     "slide_type": "skip"
    }
   },
   "outputs": [
    {
     "name": "stdout",
     "output_type": "stream",
     "text": [
      "/Users/rick446/src/Classes/Ansible\n"
     ]
    }
   ],
   "source": [
    "cd ~/src/Classes/Ansible"
   ]
  },
  {
   "cell_type": "markdown",
   "metadata": {
    "slideshow": {
     "slide_type": "slide"
    }
   },
   "source": [
    "# Source Control Modules\n",
    "\n",
    "Ansible supports various source control systems:\n",
    "\n",
    "- `git` - Git DVCS\n",
    "- `bzr` - Bazaar DVCS\n",
    "- `hg` - Mercurial DVCS\n",
    "- `subversion` - Subversion VCS\n",
    "\n",
    "Additionally, several Github and Gitlab modules are also included."
   ]
  },
  {
   "cell_type": "code",
   "execution_count": 3,
   "metadata": {
    "slideshow": {
     "slide_type": "slide"
    }
   },
   "outputs": [
    {
     "name": "stdout",
     "output_type": "stream",
     "text": [
      "\n",
      "PLAY [web] *********************************************************************\n",
      "\n",
      "TASK [Gathering Facts] *********************************************************\n",
      "ok: [arborian-02.class.arborian.com]\n",
      "ok: [arborian-01.class.arborian.com]\n",
      "\n",
      "TASK [Get or update repo] ******************************************************\n",
      "changed: [arborian-02.class.arborian.com]\n",
      "changed: [arborian-01.class.arborian.com]\n",
      "\n",
      "PLAY RECAP *********************************************************************\n",
      "arborian-01.class.arborian.com : ok=2    changed=1    unreachable=0    failed=0   \n",
      "arborian-02.class.arborian.com : ok=2    changed=1    unreachable=0    failed=0   \n",
      "\n"
     ]
    }
   ],
   "source": [
    "%%bash \n",
    "ansible-playbook playbooks/updated-repo.yaml"
   ]
  },
  {
   "cell_type": "markdown",
   "metadata": {
    "slideshow": {
     "slide_type": "slide"
    }
   },
   "source": [
    "# Lab: Update your checked-out copy of this repository on the server"
   ]
  }
 ],
 "metadata": {
  "celltoolbar": "Slideshow",
  "kernelspec": {
   "display_name": "Python 3",
   "language": "python",
   "name": "python3"
  },
  "language_info": {
   "codemirror_mode": {
    "name": "ipython",
    "version": 3
   },
   "file_extension": ".py",
   "mimetype": "text/x-python",
   "name": "python",
   "nbconvert_exporter": "python",
   "pygments_lexer": "ipython3",
   "version": "3.6.0"
  }
 },
 "nbformat": 4,
 "nbformat_minor": 2
}
