{
 "cells": [
  {
   "cell_type": "markdown",
   "metadata": {
    "slideshow": {
     "slide_type": "slide"
    }
   },
   "source": [
    "# Ansible Inventory\n",
    "\n",
    "Ansible needs to know which hosts it manages. For this, it uses an *inventory*."
   ]
  },
  {
   "cell_type": "markdown",
   "metadata": {
    "slideshow": {
     "slide_type": "fragment"
    }
   },
   "source": [
    "## Static inventory\n",
    "\n",
    "A static inventory is just a text file (by default, `/etc/ansible/hosts`, but we'll change that). \n",
    "\n",
    "The inventory lists the hosts that Ansible will manage, optionally collecting them into groups.\n",
    "One example is in the class repository as `inventory`:\n",
    "\n",
    "```\n",
    "[web]\n",
    "arborian-01.class.arborian.com\n",
    "arborian-02.class.arborian.com\n",
    "\n",
    "[db]\n",
    "arborian-03.class.arborian.com\n",
    "arborian-04.class.arborian.com\n",
    "\n",
    "[app]\n",
    "arborian-05.class.arborian.com\n",
    "arborian-06.class.arborian.com\n",
    "```"
   ]
  },
  {
   "cell_type": "markdown",
   "metadata": {
    "slideshow": {
     "slide_type": "slide"
    }
   },
   "source": [
    "# Inventory: Dynamic Inventory\n",
    "\n",
    "We can also use Python modules to create our inventory programmatically (as when we might want to enumerate all hosts on AWS, Azure, or Google Compute Engine)\n",
    "\n",
    "Any inventory file that is executable will be run to generate an inventory JSON result when fed certain command-line arguments.\n",
    "\n",
    "Some useful links:\n",
    "\n",
    "- [Dynamic Inventory](http://docs.ansible.com/ansible/intro_dynamic_inventory.html)\n",
    "- [Developing your own inventory script](http://docs.ansible.com/ansible/dev_guide/developing_inventory.html)"
   ]
  },
  {
   "cell_type": "markdown",
   "metadata": {
    "slideshow": {
     "slide_type": "slide"
    }
   },
   "source": [
    "# Hosts and groups\n",
    "\n",
    "Each machine we manage is a _host_. \n",
    "One or more machines can be included in a _group_.\n",
    "\n",
    "Example:\n",
    "\n",
    "```\n",
    "[web]\n",
    "arborian-01.class.arborian.com\n",
    "arborian-02.class.arborian.com\n",
    "\n",
    "[db]\n",
    "arborian-03.class.arborian.com\n",
    "arborian-04.class.arborian.com\n",
    "\n",
    "[app]\n",
    "arborian-05.class.arborian.com\n",
    "arborian-06.class.arborian.com\n",
    "\n",
    "[webapp:children]\n",
    "web\n",
    "app\n",
    "```"
   ]
  },
  {
   "cell_type": "markdown",
   "metadata": {
    "slideshow": {
     "slide_type": "slide"
    }
   },
   "source": [
    "# Host and group Variables\n",
    "\n",
    "You can define variables for each host and group. \n",
    "Variables can be used in `playbooks` and `roles` (which we'll get to later).\n",
    "\n",
    "To define a host variable, just add it to the line where the host is defined:\n",
    "\n",
    "```\n",
    "[web]\n",
    "arborian-01.class.arborian.com maxRequestsPerChild=1000\n",
    "arborian-02.class.arborian.com maxRequestsPerChild=1080\n",
    "```\n",
    "\n",
    "To define variables which apply to all members of a group, we use the `[GROUP:vars]` syntax:\n",
    "\n",
    "```\n",
    "[web:vars]\n",
    "http_port=80\n",
    "datacenter=atl\n",
    "```"
   ]
  },
  {
   "cell_type": "markdown",
   "metadata": {
    "slideshow": {
     "slide_type": "slide"
    }
   },
   "source": [
    "# Variables and groups in Vagrant\n",
    "\n",
    "We can set up our groups and variables in vagrant by using the `ansible.groups` command in our Vagrantfile:\n",
    "\n",
    "```ruby\n",
    "  config.vm.provision \"ansible\" do |ansible|\n",
    "    ansible.playbook = \"playbooks/basic.yaml\"\n",
    "    ansible.groups = {\n",
    "      \"webdb\" => [\"web\", \"db\"],\n",
    "      \"webdb:vars\" => {\"ntp_server\" => \"ntp.atlanta.example.com\",\n",
    "                       \"proxy\" => \"proxy.atlanta.example.com\"}\n",
    "    }\n",
    "  end\n",
    "\n",
    "```\n"
   ]
  },
  {
   "cell_type": "markdown",
   "metadata": {
    "slideshow": {
     "slide_type": "slide"
    }
   },
   "source": [
    "# Checking the value of a variable\n",
    "\n",
    "To check the value of a variable, we can use Ansible's `debug` command:"
   ]
  },
  {
   "cell_type": "code",
   "execution_count": 3,
   "metadata": {
    "slideshow": {
     "slide_type": "fragment"
    }
   },
   "outputs": [
    {
     "name": "stdout",
     "output_type": "stream",
     "text": [
      "/Users/rick446/src/Classes/Ansible\n"
     ]
    }
   ],
   "source": [
    "cd .."
   ]
  },
  {
   "cell_type": "code",
   "execution_count": 4,
   "metadata": {
    "slideshow": {
     "slide_type": "fragment"
    }
   },
   "outputs": [
    {
     "name": "stdout",
     "output_type": "stream",
     "text": [
      "web | SUCCESS => {\n",
      "    \"proxy\": \"proxy.atlanta.example.com\"\n",
      "}\n"
     ]
    }
   ],
   "source": [
    "%%bash\n",
    "ansible web -m debug -a 'var=proxy'"
   ]
  },
  {
   "cell_type": "markdown",
   "metadata": {
    "slideshow": {
     "slide_type": "slide"
    }
   },
   "source": [
    "# Ad-hoc Commands\n",
    "\n",
    "Ansible command line\n",
    "\n",
    "`ansible <host pattern> [options]`\n",
    "\n",
    "Frequently used options\n",
    "\n",
    "- `-m MODULE_NAME` (default is command)\n",
    "- `-a MODULE_ARGS`\n",
    "\n",
    "Frequently used host patterns\n",
    "\n",
    "- Specific hostname\n",
    "- `localhost`\n",
    "- `all`\n",
    "- `GROUP-NAME` (one of the groupings from your inventory)"
   ]
  },
  {
   "cell_type": "markdown",
   "metadata": {
    "slideshow": {
     "slide_type": "slide"
    }
   },
   "source": [
    "# Patterns \n",
    "\n",
    "In simple situations, our pattern will be either a host or a group name. \n",
    "Ansible, however, gives us [quite a bit of flexibility][patterns] in the patterns we use.\n",
    "\n",
    "For instance, you can:\n",
    "\n",
    "- combine hosts and groups `group:group2`\n",
    "- use \"globbing\" expressions `web-*`\n",
    "- exclude hosts `web-*:!web-01`\n",
    "- require membership in a group `web:db:&atlanta` (all `web` OR `db` hosts that are also in the `atlanta` group)\n",
    "- use regular expressions `~(web|db).*\\.example\\.com`\n",
    "\n",
    "[patterns]: http://docs.ansible.com/ansible/latest/intro_patterns.html\n",
    "\n"
   ]
  },
  {
   "cell_type": "markdown",
   "metadata": {
    "slideshow": {
     "slide_type": "slide"
    }
   },
   "source": [
    "# Lab\n",
    "\n",
    "## Update some of the groups and variables in the Vagrant ansible config (in the class directory)\n",
    "\n",
    "(To apply changes to the `Vagrantfile`, the following command is handy:)\n",
    "\n",
    "```vagrant reload --provision```\n",
    "\n",
    "Check your updates using `vagrant all -m debug var=VARNAME`\n",
    "\n",
    "## Use different patterns to target different sets of your infrastructure. \n",
    "\n",
    "Try using the following command to see which hosts respond:\n",
    "\n",
    "```ansible PATTERN -m ping```"
   ]
  },
  {
   "cell_type": "markdown",
   "metadata": {
    "slideshow": {
     "slide_type": "slide"
    }
   },
   "source": [
    "# Lab - for Windows users\n",
    "\n",
    "Update the `inventory` file to create/modify some groups and variables\n",
    "\n",
    "Check your updates using `vagrant all -m debug var=VARNAME`\n",
    "\n",
    "## Use different patterns to target different sets of your infrastructure. \n",
    "\n",
    "Try using the following command to see which hosts respond:\n",
    "\n",
    "```ansible PATTERN -m ping```"
   ]
  }
 ],
 "metadata": {
  "celltoolbar": "Slideshow",
  "kernelspec": {
   "display_name": "Python 3",
   "language": "python",
   "name": "python3"
  },
  "language_info": {
   "codemirror_mode": {
    "name": "ipython",
    "version": 3
   },
   "file_extension": ".py",
   "mimetype": "text/x-python",
   "name": "python",
   "nbconvert_exporter": "python",
   "pygments_lexer": "ipython3",
   "version": "3.6.0"
  }
 },
 "nbformat": 4,
 "nbformat_minor": 2
}
