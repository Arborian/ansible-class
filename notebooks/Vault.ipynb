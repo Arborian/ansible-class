{
 "cells": [
  {
   "cell_type": "code",
   "execution_count": 5,
   "metadata": {
    "slideshow": {
     "slide_type": "skip"
    }
   },
   "outputs": [
    {
     "name": "stdout",
     "output_type": "stream",
     "text": [
      "/Users/rick446/src/Classes/Ansible\n"
     ]
    }
   ],
   "source": [
    "cd ~/src/Classes/Ansible"
   ]
  },
  {
   "cell_type": "markdown",
   "metadata": {
    "slideshow": {
     "slide_type": "slide"
    }
   },
   "source": [
    "# The Ansible Vault\n",
    "\n",
    "We often need to store sensitive data but would prefer not to store it in clear-text (database credentials, third-party API keys, etc.). Ansible's solution to this is the **Vault**\n",
    "\n",
    "Any Ansible yaml file can be encrypted and then used in a playbook. We can create encrypted yaml files using ansible-vault, e.g.:\n",
    "\n",
    "```\n",
    "ansible-vault create vault.yml\n",
    "```\n",
    "\n",
    "We can also edit existing vault files (if we have the `EDITOR` environment variable configured:\n",
    "\n",
    "```\n",
    "export EDITOR='subl -w'    # or vi or whatever\n",
    "ansible-vault edit stack-key.yml\n",
    "```"
   ]
  },
  {
   "cell_type": "markdown",
   "metadata": {
    "slideshow": {
     "slide_type": "slide"
    }
   },
   "source": [
    "We can also use the `--vault-password-file` option. Of course, you need to use restrictive permissions on this file and ensure it's never checked into source control. (The file is just a single line with the password, in plain text.)"
   ]
  },
  {
   "cell_type": "code",
   "execution_count": 8,
   "metadata": {},
   "outputs": [
    {
     "name": "stdout",
     "output_type": "stream",
     "text": [
      "foo: bar\n",
      "baz: bat\n",
      "anything: |\n",
      "  Can go here, but it's usually nice to have YAML so we\n",
      "  can use this in an \"include_vars\" statement....\n"
     ]
    }
   ],
   "source": [
    "%%bash\n",
    "ansible-vault --vault-password-file vault-password.txt view vault.yaml"
   ]
  },
  {
   "cell_type": "markdown",
   "metadata": {
    "slideshow": {
     "slide_type": "slide"
    }
   },
   "source": [
    "## Single string encryption\n",
    "\n",
    "Sometimes you may just want to embed an encrypted value directly in your playbook. For that, we have\n",
    "\n",
    "```ansible-vault encrypt_string```"
   ]
  },
  {
   "cell_type": "code",
   "execution_count": 10,
   "metadata": {},
   "outputs": [
    {
     "name": "stdout",
     "output_type": "stream",
     "text": [
      "!vault |\n",
      "          $ANSIBLE_VAULT;1.1;AES256\n",
      "          31393366356333313566346465333839643761653065623062363230386662376262313663363539\n",
      "          6635366137386261353731323065313832303933313036630a613231363333643363373762373937\n",
      "          31623565316532323132346663343834306562386137313032313537613465336631656630616338\n",
      "          6639306530666464610a313061343966646262393530323931636639353163396637306334616133\n",
      "          36653830323234323330376531363537653965306137623033636136613534356363\n"
     ]
    }
   ],
   "source": [
    "%%bash\n",
    "ansible-vault --vault-password-file vault-password.txt encrypt_string \"this is super seekrit\""
   ]
  },
  {
   "cell_type": "code",
   "execution_count": 12,
   "metadata": {
    "scrolled": true
   },
   "outputs": [
    {
     "name": "stdout",
     "output_type": "stream",
     "text": [
      "\n",
      "PLAY [localhost] ***************************************************************\n",
      "\n",
      "TASK [Show the encrypted value] ************************************************\n",
      "ok: [localhost] => {\n",
      "    \"encrypted_value\": \"this is super seekrit\"\n",
      "}\n",
      "\n",
      "PLAY RECAP *********************************************************************\n",
      "localhost                  : ok=1    changed=0    unreachable=0    failed=0   \n",
      "\n"
     ]
    }
   ],
   "source": [
    "%%bash\n",
    "ansible-playbook --vault-password-file vault-password.txt playbooks/vault-demo2.yaml"
   ]
  },
  {
   "cell_type": "markdown",
   "metadata": {
    "slideshow": {
     "slide_type": "slide"
    }
   },
   "source": [
    "# Encrypting an existing YAML file\n",
    "\n",
    "We can also encrypt and decrypt existing YAML files using `ansible-vault encrypt` and `ansible-vault decrypt`:"
   ]
  },
  {
   "cell_type": "code",
   "execution_count": 15,
   "metadata": {
    "slideshow": {
     "slide_type": "fragment"
    }
   },
   "outputs": [
    {
     "name": "stdout",
     "output_type": "stream",
     "text": [
      "foo: bar\n",
      "baz: bat\n",
      "anything: |\n",
      "  Can go here, but it's usually nice to have YAML so we\n",
      "  can use this in an \"include_vars\" statement...."
     ]
    }
   ],
   "source": [
    "%%bash\n",
    "ansible-vault --vault-password-file vault-password.txt decrypt vault.yaml\n",
    "cat vault.yaml"
   ]
  },
  {
   "cell_type": "code",
   "execution_count": 16,
   "metadata": {
    "slideshow": {
     "slide_type": "slide"
    }
   },
   "outputs": [
    {
     "name": "stdout",
     "output_type": "stream",
     "text": [
      "$ANSIBLE_VAULT;1.1;AES256\n",
      "32383936333163633136343638393430666237393036376333373862303934326134313666313036\n",
      "6134393065396232333134303139643166313235383032660a323534633935353532633133643630\n",
      "63333935363566626235306233303731353033666134626535303364643338613565393131336639\n",
      "6235313939633337310a653739303635323739623634323365653031303438373230333466656236\n",
      "61303638313039363735306163616132663339653936303530386666373966363532633839663630\n",
      "61343831623431323161396336383038313063353336393332353435303032303437623465616165\n",
      "35346233396464613236303465303133653163613331626564363534623337643335323261333566\n",
      "63666434383262333961323462656235396633396463363131633830313534313734353434626536\n",
      "64646163383237336565623561616531386131656131653636343366633932323562643634626636\n",
      "36323866616566653331353339303733393238353532656330313666303236303033363062343165\n",
      "313563643938393665666135656234346231\n"
     ]
    }
   ],
   "source": [
    "%%bash\n",
    "ansible-vault --vault-password-file vault-password.txt encrypt vault.yaml\n",
    "cat vault.yaml"
   ]
  },
  {
   "cell_type": "markdown",
   "metadata": {
    "slideshow": {
     "slide_type": "slide"
    }
   },
   "source": [
    "# Lab\n",
    "\n",
    "Practice using the various `ansible-vault` commands:\n",
    "\n",
    "- encrypt\n",
    "- decrypt\n",
    "- create\n",
    "- edit\n",
    "- view\n",
    "- encrypt_string"
   ]
  }
 ],
 "metadata": {
  "celltoolbar": "Slideshow",
  "kernelspec": {
   "display_name": "Python 3",
   "language": "python",
   "name": "python3"
  },
  "language_info": {
   "codemirror_mode": {
    "name": "ipython",
    "version": 3
   },
   "file_extension": ".py",
   "mimetype": "text/x-python",
   "name": "python",
   "nbconvert_exporter": "python",
   "pygments_lexer": "ipython3",
   "version": "3.6.0"
  }
 },
 "nbformat": 4,
 "nbformat_minor": 2
}
