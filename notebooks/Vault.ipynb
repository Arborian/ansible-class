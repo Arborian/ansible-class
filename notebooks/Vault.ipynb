{
 "cells": [
  {
   "cell_type": "code",
   "execution_count": 5,
   "metadata": {
    "slideshow": {
     "slide_type": "skip"
    }
   },
   "outputs": [
    {
     "name": "stdout",
     "output_type": "stream",
     "text": [
      "/Users/rick446/src/Classes/Ansible\n"
     ]
    }
   ],
   "source": [
    "cd ~/src/Classes/Ansible"
   ]
  },
  {
   "cell_type": "markdown",
   "metadata": {
    "slideshow": {
     "slide_type": "slide"
    }
   },
   "source": [
    "# The Ansible Vault\n",
    "\n",
    "We often need to store sensitive data but would prefer not to store it in clear-text (database credentials, third-party API keys, etc.). Ansible's solution to this is the **Vault**\n",
    "\n",
    "Any Ansible yaml file can be encrypted and then used in a playbook. We can create encrypted yaml files using ansible-vault, e.g.:\n",
    "\n",
    "```\n",
    "ansible-vault create vault.yml\n",
    "```\n",
    "\n",
    "We can also edit existing vault files (if we have the `EDITOR` environment variable configured:\n",
    "\n",
    "```\n",
    "export EDITOR='subl -w'    # or vi or whatever\n",
    "ansible-vault edit stack-key.yml\n",
    "```"
   ]
  },
  {
   "cell_type": "markdown",
   "metadata": {
    "slideshow": {
     "slide_type": "slide"
    }
   },
   "source": [
    "We can also use the `--vault-password-file` option. Of course, you need to use restrictive permissions on this file and ensure it's never checked into source control. (The file is just a single line with the password, in plain text.)"
   ]
  },
  {
   "cell_type": "code",
   "execution_count": 8,
   "metadata": {},
   "outputs": [
    {
     "name": "stdout",
     "output_type": "stream",
     "text": [
      "foo: bar\n",
      "baz: bat\n",
      "anything: |\n",
      "  Can go here, but it's usually nice to have YAML so we\n",
      "  can use this in an \"include_vars\" statement....\n"
     ]
    }
   ],
   "source": [
    "%%bash\n",
    "ansible-vault --vault-password-file vault-password.txt view vault.yaml"
   ]
  },
  {
   "cell_type": "markdown",
   "metadata": {},
   "source": [
    "## Single string encryption\n",
    "\n",
    "Sometimes you may just want to embed an encrypted value directly in your playbook. For that, we have\n",
    "\n",
    "```ansible-vault encrypt_string```"
   ]
  },
  {
   "cell_type": "code",
   "execution_count": 10,
   "metadata": {},
   "outputs": [
    {
     "name": "stdout",
     "output_type": "stream",
     "text": [
      "!vault |\n",
      "          $ANSIBLE_VAULT;1.1;AES256\n",
      "          31393366356333313566346465333839643761653065623062363230386662376262313663363539\n",
      "          6635366137386261353731323065313832303933313036630a613231363333643363373762373937\n",
      "          31623565316532323132346663343834306562386137313032313537613465336631656630616338\n",
      "          6639306530666464610a313061343966646262393530323931636639353163396637306334616133\n",
      "          36653830323234323330376531363537653965306137623033636136613534356363\n"
     ]
    }
   ],
   "source": [
    "%%bash\n",
    "ansible-vault --vault-password-file vault-password.txt encrypt_string \"this is super seekrit\""
   ]
  },
  {
   "cell_type": "code",
   "execution_count": 12,
   "metadata": {
    "scrolled": true
   },
   "outputs": [
    {
     "name": "stdout",
     "output_type": "stream",
     "text": [
      "\n",
      "PLAY [localhost] ***************************************************************\n",
      "\n",
      "TASK [Show the encrypted value] ************************************************\n",
      "ok: [localhost] => {\n",
      "    \"encrypted_value\": \"this is super seekrit\"\n",
      "}\n",
      "\n",
      "PLAY RECAP *********************************************************************\n",
      "localhost                  : ok=1    changed=0    unreachable=0    failed=0   \n",
      "\n"
     ]
    }
   ],
   "source": [
    "%%bash\n",
    "ansible-playbook --vault-password-file vault-password.txt playbooks/vault-demo2.yaml"
   ]
  },
  {
   "cell_type": "markdown",
   "metadata": {
    "slideshow": {
     "slide_type": "slide"
    }
   },
   "source": [
    "# Encrypting an existing YAML file\n",
    "\n",
    "We can also encrypt and decrypt existing YAML files using `ansible-vault encrypt` and `ansible-vault decrypt`:"
   ]
  },
  {
   "cell_type": "code",
   "execution_count": 13,
   "metadata": {
    "slideshow": {
     "slide_type": "fragment"
    }
   },
   "outputs": [
    {
     "name": "stdout",
     "output_type": "stream",
     "text": [
      "foo: bar\n",
      "baz: bat\n",
      "anything: |\n",
      "  Can go here, but it's usually nice to have YAML so we\n",
      "  can use this in an \"include_vars\" statement...."
     ]
    }
   ],
   "source": [
    "%%bash\n",
    "ansible-vault --vault-password-file vault-password.txt decrypt vault.yaml\n",
    "cat vault.yaml"
   ]
  },
  {
   "cell_type": "code",
   "execution_count": 14,
   "metadata": {
    "slideshow": {
     "slide_type": "slide"
    }
   },
   "outputs": [
    {
     "name": "stdout",
     "output_type": "stream",
     "text": [
      "$ANSIBLE_VAULT;1.1;AES256\n",
      "30616165353363393535623863626534303063383661303864343164396631633263646365616165\n",
      "3466343464353461613363343366383238393766316339320a383539393933343064653364386164\n",
      "36313138646366333834376361613038646232646138643563356563383435663163363137316438\n",
      "6433323666386132630a326534346262343636303935373964386563363734646435303432653865\n",
      "38336166633461626662636130343136373237306461636565313466306461653464336161653536\n",
      "61313465323263396434633063613535323962343566313437643664333162323061366535393166\n",
      "33646535373662333533343863623261306530633235656238363237626366366666646638313138\n",
      "65373934666330373563303533356432306333306461653635353437393236653638303434646639\n",
      "35613034666562376236663833663435386633663632303066646663633563306337373064633231\n",
      "62643438373066363366313935343635333563353436646530356464623437373461666531396431\n",
      "333534626130666664633736383635626163\n"
     ]
    }
   ],
   "source": [
    "%%bash\n",
    "ansible-vault --vault-password-file vault-password.txt encrypt vault.yaml\n",
    "cat vault.yaml"
   ]
  },
  {
   "cell_type": "markdown",
   "metadata": {},
   "source": [
    "# Lab\n",
    "\n",
    "Practice using the various `ansible-vault` commands:\n",
    "\n",
    "- encrypt\n",
    "- decrypt\n",
    "- create\n",
    "- edit\n",
    "- view\n",
    "- encrypt_string"
   ]
  }
 ],
 "metadata": {
  "celltoolbar": "Slideshow",
  "kernelspec": {
   "display_name": "Python 3",
   "language": "python",
   "name": "python3"
  },
  "language_info": {
   "codemirror_mode": {
    "name": "ipython",
    "version": 3
   },
   "file_extension": ".py",
   "mimetype": "text/x-python",
   "name": "python",
   "nbconvert_exporter": "python",
   "pygments_lexer": "ipython3",
   "version": "3.6.0"
  }
 },
 "nbformat": 4,
 "nbformat_minor": 2
}
