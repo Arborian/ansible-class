{
 "cells": [
  {
   "cell_type": "code",
   "execution_count": 1,
   "metadata": {},
   "outputs": [
    {
     "name": "stdout",
     "output_type": "stream",
     "text": [
      "/Users/rick446/src/Classes/Ansible\n"
     ]
    }
   ],
   "source": [
    "cd ~/src/Classes/Ansible"
   ]
  },
  {
   "cell_type": "markdown",
   "metadata": {
    "slideshow": {
     "slide_type": "slide"
    }
   },
   "source": [
    "# Notifications Modules\n",
    "\n",
    "Ansible notification modules allow you to have your playbooks send notifications of events to third-party services such as:\n",
    "\n",
    "- mail\n",
    "- hipchat\n",
    "- slack\n",
    "- twilio\n",
    "- syslog\n",
    "\n",
    "and the best one\n",
    "\n",
    "- osx_say"
   ]
  },
  {
   "cell_type": "code",
   "execution_count": 2,
   "metadata": {
    "slideshow": {
     "slide_type": "slide"
    }
   },
   "outputs": [
    {
     "name": "stdout",
     "output_type": "stream",
     "text": [
      "- hosts: web\r\n",
      "  gather_facts: false\r\n",
      "  serial: 1\r\n",
      "  tasks:\r\n",
      "  - osx_say:\r\n",
      "      msg: '{{ inventory_hostname }} is all done'\r\n",
      "    delegate_to: localhost"
     ]
    }
   ],
   "source": [
    "cat playbooks/notifications-demo.yaml"
   ]
  },
  {
   "cell_type": "code",
   "execution_count": 3,
   "metadata": {
    "slideshow": {
     "slide_type": "fragment"
    }
   },
   "outputs": [
    {
     "name": "stdout",
     "output_type": "stream",
     "text": [
      "\n",
      "PLAY [web] *********************************************************************\n",
      "\n",
      "TASK [osx_say] *****************************************************************\n",
      "ok: [arborian-01.class.arborian.com -> localhost]\n",
      "\n",
      "PLAY [web] *********************************************************************\n",
      "\n",
      "TASK [osx_say] *****************************************************************\n",
      "ok: [arborian-02.class.arborian.com -> localhost]\n",
      "\n",
      "PLAY RECAP *********************************************************************\n",
      "arborian-01.class.arborian.com : ok=1    changed=0    unreachable=0    failed=0   \n",
      "arborian-02.class.arborian.com : ok=1    changed=0    unreachable=0    failed=0   \n",
      "\n"
     ]
    }
   ],
   "source": [
    "%%bash\n",
    "ansible-playbook playbooks/notifications-demo.yaml"
   ]
  }
 ],
 "metadata": {
  "celltoolbar": "Slideshow",
  "kernelspec": {
   "display_name": "Python 3",
   "language": "python",
   "name": "python3"
  },
  "language_info": {
   "codemirror_mode": {
    "name": "ipython",
    "version": 3
   },
   "file_extension": ".py",
   "mimetype": "text/x-python",
   "name": "python",
   "nbconvert_exporter": "python",
   "pygments_lexer": "ipython3",
   "version": "3.6.0"
  }
 },
 "nbformat": 4,
 "nbformat_minor": 2
}
