{
 "cells": [
  {
   "cell_type": "markdown",
   "metadata": {},
   "source": [
    "# Monitoring Modules\n",
    "\n",
    "Ansible includes a number of modules for configuring various monitoring services. A few notable ones:\n",
    "\n",
    "- nagios\n",
    "- datadog\n",
    "- logstash\n",
    "- pagerduty\n",
    "- newrelic\n",
    "\n",
    "... and many more:\n",
    "\n",
    "http://docs.ansible.com/ansible/latest/list_of_monitoring_modules.html"
   ]
  },
  {
   "cell_type": "code",
   "execution_count": null,
   "metadata": {},
   "outputs": [],
   "source": []
  }
 ],
 "metadata": {
  "kernelspec": {
   "display_name": "Python 3",
   "language": "python",
   "name": "python3"
  },
  "language_info": {
   "codemirror_mode": {
    "name": "ipython",
    "version": 3
   },
   "file_extension": ".py",
   "mimetype": "text/x-python",
   "name": "python",
   "nbconvert_exporter": "python",
   "pygments_lexer": "ipython3",
   "version": "3.6.0"
  }
 },
 "nbformat": 4,
 "nbformat_minor": 2
}
