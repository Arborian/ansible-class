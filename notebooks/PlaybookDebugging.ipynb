{
 "cells": [
  {
   "cell_type": "code",
   "execution_count": 1,
   "metadata": {
    "slideshow": {
     "slide_type": "skip"
    }
   },
   "outputs": [
    {
     "name": "stdout",
     "output_type": "stream",
     "text": [
      "/Users/rick446/src/Classes/Ansible\n"
     ]
    }
   ],
   "source": [
    "cd ~/src/Classes/Ansible"
   ]
  },
  {
   "cell_type": "markdown",
   "metadata": {
    "slideshow": {
     "slide_type": "slide"
    }
   },
   "source": [
    "# Playbook error handling and debugging\n",
    "\n",
    "What to do when it doesn't \"just work\""
   ]
  },
  {
   "cell_type": "markdown",
   "metadata": {},
   "source": [
    "## Before trying it, you should test with a dry run"
   ]
  },
  {
   "cell_type": "code",
   "execution_count": 3,
   "metadata": {},
   "outputs": [
    {
     "name": "stdout",
     "output_type": "stream",
     "text": [
      "\n",
      "PLAY [all] *********************************************************************\n",
      "\n",
      "TASK [Gathering Facts] *********************************************************\n",
      "ok: [db]\n",
      "ok: [web]\n",
      "ok: [arborian-02.class.arborian.com]\n",
      "ok: [arborian-03.class.arborian.com]\n",
      "ok: [arborian-05.class.arborian.com]\n",
      "ok: [arborian-06.class.arborian.com]\n",
      "ok: [arborian-04.class.arborian.com]\n",
      "ok: [arborian-01.class.arborian.com]\n",
      "\n",
      "TASK [Let the sudo group use sudo without a password] **************************\n",
      "ok: [db]\n",
      "ok: [web]\n",
      "ok: [arborian-02.class.arborian.com]\n",
      "ok: [arborian-03.class.arborian.com]\n",
      "ok: [arborian-01.class.arborian.com]\n",
      "ok: [arborian-05.class.arborian.com]\n",
      "ok: [arborian-04.class.arborian.com]\n",
      "ok: [arborian-06.class.arborian.com]\n",
      "\n",
      "TASK [create user] *************************************************************\n",
      "ok: [db]\n",
      "ok: [web]\n",
      "ok: [arborian-02.class.arborian.com]\n",
      "ok: [arborian-01.class.arborian.com]\n",
      "ok: [arborian-03.class.arborian.com]\n",
      "ok: [arborian-05.class.arborian.com]\n",
      "ok: [arborian-04.class.arborian.com]\n",
      "ok: [arborian-06.class.arborian.com]\n",
      "\n",
      "TASK [Authorize the public key] ************************************************\n",
      "ok: [web]\n",
      "ok: [db]\n",
      "ok: [arborian-02.class.arborian.com]\n",
      "ok: [arborian-03.class.arborian.com]\n",
      "ok: [arborian-01.class.arborian.com]\n",
      "ok: [arborian-05.class.arborian.com]\n",
      "ok: [arborian-04.class.arborian.com]\n",
      "ok: [arborian-06.class.arborian.com]\n",
      "\n",
      "PLAY RECAP *********************************************************************\n",
      "arborian-01.class.arborian.com : ok=4    changed=0    unreachable=0    failed=0   \n",
      "arborian-02.class.arborian.com : ok=4    changed=0    unreachable=0    failed=0   \n",
      "arborian-03.class.arborian.com : ok=4    changed=0    unreachable=0    failed=0   \n",
      "arborian-04.class.arborian.com : ok=4    changed=0    unreachable=0    failed=0   \n",
      "arborian-05.class.arborian.com : ok=4    changed=0    unreachable=0    failed=0   \n",
      "arborian-06.class.arborian.com : ok=4    changed=0    unreachable=0    failed=0   \n",
      "db                         : ok=4    changed=0    unreachable=0    failed=0   \n",
      "web                        : ok=4    changed=0    unreachable=0    failed=0   \n",
      "\n"
     ]
    }
   ],
   "source": [
    "%%bash\n",
    "ansible-playbook -i inventory --check playbooks/setup-user.yaml -e username=rick"
   ]
  },
  {
   "cell_type": "markdown",
   "metadata": {
    "slideshow": {
     "slide_type": "slide"
    }
   },
   "source": [
    "## First Attempt: Rerun in verbose mode\n",
    "\n",
    "Sometimes you just need to see the actual commands that Ansible is running:"
   ]
  },
  {
   "cell_type": "code",
   "execution_count": 4,
   "metadata": {
    "slideshow": {
     "slide_type": "slide"
    }
   },
   "outputs": [
    {
     "name": "stdout",
     "output_type": "stream",
     "text": [
      "ansible-playbook 2.4.2.0\n",
      "  config file = /Users/rick446/src/Classes/Ansible/ansible.cfg\n",
      "  configured module search path = ['/Users/rick446/.ansible/plugins/modules', '/usr/share/ansible/plugins/modules']\n",
      "  ansible python module location = /Users/rick446/.virtualenvs/ansible/lib/python3.6/site-packages/ansible\n",
      "  executable location = /Users/rick446/.virtualenvs/ansible/bin/ansible-playbook\n",
      "  python version = 3.6.0 (default, Dec 30 2016, 13:36:14) [GCC 4.2.1 Compatible Apple LLVM 8.0.0 (clang-800.0.42.1)]\n",
      "Using /Users/rick446/src/Classes/Ansible/ansible.cfg as config file\n",
      "\n",
      "PLAYBOOK: setup-user.yaml ******************************************************\n",
      "1 plays in playbooks/setup-user.yaml\n",
      "\n",
      "PLAY [all] *********************************************************************\n",
      "\n",
      "TASK [Gathering Facts] *********************************************************\n",
      "ok: [db]\n",
      "ok: [web]\n",
      "META: ran handlers\n",
      "\n",
      "TASK [Let the sudo group use sudo without a password] **************************\n",
      "task path: /Users/rick446/src/Classes/Ansible/playbooks/setup-user.yaml:8\n",
      "ok: [db] => {\"backup\": \"\", \"changed\": false, \"msg\": \"\"}\n",
      "ok: [web] => {\"backup\": \"\", \"changed\": false, \"msg\": \"\"}\n",
      "\n",
      "TASK [create user] *************************************************************\n",
      "task path: /Users/rick446/src/Classes/Ansible/playbooks/setup-user.yaml:10\n",
      "ok: [db] => {\"append\": false, \"changed\": false, \"comment\": \"\", \"group\": 1002, \"groups\": \"sudo\", \"home\": \"/home/rick\", \"move_home\": false, \"name\": \"rick\", \"shell\": \"/bin/bash\", \"state\": \"present\", \"uid\": 1002}\n",
      "ok: [web] => {\"append\": false, \"changed\": false, \"comment\": \"\", \"group\": 1002, \"groups\": \"sudo\", \"home\": \"/home/rick\", \"move_home\": false, \"name\": \"rick\", \"shell\": \"/bin/bash\", \"state\": \"present\", \"uid\": 1002}\n",
      "\n",
      "TASK [Authorize the public key] ************************************************\n",
      "task path: /Users/rick446/src/Classes/Ansible/playbooks/setup-user.yaml:15\n",
      "ok: [db] => {\"changed\": false, \"comment\": null, \"exclusive\": false, \"key\": \"https://raw.githubusercontent.com/Arborian/ansible-class/master/training-ssh-key.pub\", \"key_options\": null, \"keyfile\": \"/home/rick/.ssh/authorized_keys\", \"manage_dir\": true, \"path\": null, \"state\": \"present\", \"unique\": false, \"user\": \"rick\", \"validate_certs\": true}\n",
      "ok: [web] => {\"changed\": false, \"comment\": null, \"exclusive\": false, \"key\": \"https://raw.githubusercontent.com/Arborian/ansible-class/master/training-ssh-key.pub\", \"key_options\": null, \"keyfile\": \"/home/rick/.ssh/authorized_keys\", \"manage_dir\": true, \"path\": null, \"state\": \"present\", \"unique\": false, \"user\": \"rick\", \"validate_certs\": true}\n",
      "META: ran handlers\n",
      "META: ran handlers\n",
      "\n",
      "PLAY RECAP *********************************************************************\n",
      "db                         : ok=4    changed=0    unreachable=0    failed=0   \n",
      "web                        : ok=4    changed=0    unreachable=0    failed=0   \n",
      "\n"
     ]
    }
   ],
   "source": [
    "%%bash\n",
    "ansible-playbook -vv playbooks/setup-user.yaml -e username=rick"
   ]
  },
  {
   "cell_type": "markdown",
   "metadata": {
    "slideshow": {
     "slide_type": "slide"
    }
   },
   "source": [
    "## Second attempt: Playbook debugger\n",
    "\n",
    "We can also add a `strategy: debug` to a play which will drop us into an interactive debugger if a task fails:\n"
   ]
  },
  {
   "cell_type": "code",
   "execution_count": 6,
   "metadata": {
    "slideshow": {
     "slide_type": "fragment"
    }
   },
   "outputs": [
    {
     "name": "stdout",
     "output_type": "stream",
     "text": [
      "- hosts: localhost\r\n",
      "  gather_facts: false\r\n",
      "  strategy: debug\r\n",
      "  tasks:\r\n",
      "  - name: Run my simple module\r\n",
      "    simple_module:\r\n",
      "      # name: fail me Missing name!\r\n",
      "      new: true\r\n"
     ]
    }
   ],
   "source": [
    "cat playbooks/debug-demo.yaml"
   ]
  },
  {
   "cell_type": "markdown",
   "metadata": {
    "slideshow": {
     "slide_type": "slide"
    }
   },
   "source": [
    "## Third attempt: spam `debug` module statements\n",
    "\n",
    "Sometimes when you need visibility, you can just have Ansible print out messages as it executes your playbook:"
   ]
  },
  {
   "cell_type": "code",
   "execution_count": 5,
   "metadata": {
    "slideshow": {
     "slide_type": "fragment"
    }
   },
   "outputs": [
    {
     "name": "stdout",
     "output_type": "stream",
     "text": [
      "- hosts: localhost\r\n",
      "  gather_facts: false\r\n",
      "  vars:\r\n",
      "    encrypted_value: !vault |\r\n",
      "          $ANSIBLE_VAULT;1.1;AES256\r\n",
      "          31393366356333313566346465333839643761653065623062363230386662376262313663363539\r\n",
      "          6635366137386261353731323065313832303933313036630a613231363333643363373762373937\r\n",
      "          31623565316532323132346663343834306562386137313032313537613465336631656630616338\r\n",
      "          6639306530666464610a313061343966646262393530323931636639353163396637306334616133\r\n",
      "          36653830323234323330376531363537653965306137623033636136613534356363\r\n",
      "  tasks:\r\n",
      "    - name: Show the encrypted value\r\n",
      "      debug: var=encrypted_value\r\n"
     ]
    }
   ],
   "source": [
    "cat playbooks/vault-demo2.yaml"
   ]
  },
  {
   "cell_type": "code",
   "execution_count": 6,
   "metadata": {
    "scrolled": true,
    "slideshow": {
     "slide_type": "fragment"
    }
   },
   "outputs": [
    {
     "name": "stdout",
     "output_type": "stream",
     "text": [
      "web | SUCCESS => {\n",
      "    \"changed\": false,\n",
      "    \"msg\": \"This is running on 127.0.0.1\"\n",
      "}\n"
     ]
    }
   ],
   "source": [
    "%%bash\n",
    "ansible web -m debug -a 'msg=\"This is running on {{ansible_host}}\"'"
   ]
  },
  {
   "cell_type": "markdown",
   "metadata": {
    "slideshow": {
     "slide_type": "slide"
    }
   },
   "source": [
    "## Final attempt: single-stepping\n",
    "\n",
    "Ansible supports single-stepping through a playbook, allowing you to manually examine the hosts as the playbook runs.\n",
    "\n",
    "`ansible-playbook --step setup-stack-cached.yaml`"
   ]
  },
  {
   "cell_type": "markdown",
   "metadata": {
    "slideshow": {
     "slide_type": "slide"
    }
   },
   "source": [
    "# Playbook Error Handling\n",
    "\n",
    "How to handle cases where your playbook is fine, but the command running remotely had an error?"
   ]
  },
  {
   "cell_type": "markdown",
   "metadata": {
    "slideshow": {
     "slide_type": "fragment"
    }
   },
   "source": [
    "### Ignoring failed commands\n",
    "\n",
    "You can always include `ignore_errors: true` on any task and Ansible just won't care"
   ]
  },
  {
   "cell_type": "markdown",
   "metadata": {
    "slideshow": {
     "slide_type": "fragment"
    }
   },
   "source": [
    "### Unreachable hosts\n",
    "\n",
    "If a host is unreachable for *one* task, it is removed from *all* tasks and plays for that playbook. To re-enable it (and any other hosts that are being suppressed), you can include\n",
    "\n",
    "```\n",
    "meta: clear_host_errors\n",
    "```\n",
    "\n",
    "to re-activate all failed hosts."
   ]
  },
  {
   "cell_type": "markdown",
   "metadata": {
    "slideshow": {
     "slide_type": "slide"
    }
   },
   "source": [
    "### Handler behavior in errors\n",
    "\n",
    "If a task fails in a play, any handlers which were notified will, by default, *not* run. To change this behavior, you can:\n",
    "\n",
    "- Use the `--force-handlers` command-line option\n",
    "- Include `force_handlers: true` in a play\n",
    "- Include `force_handlers = True` in `ansible.cfg`"
   ]
  },
  {
   "cell_type": "markdown",
   "metadata": {
    "slideshow": {
     "slide_type": "slide"
    }
   },
   "source": [
    "### What does it really mean to \"fail\", anyway?\n",
    "\n",
    "Normally, Ansible uses the result code of a command to define failure. Sometimes you want something else (like checking for some string in a command output). You can configure this using the `failed_when` flag on a task. Some examples from http://docs.ansible.com/ansible/latest/playbooks_error_handling.html:\n",
    "```\n",
    "- name: Fail task when the command error output prints FAILED\n",
    "  command: /usr/bin/example-command -x -y -z\n",
    "  register: command_result\n",
    "  failed_when: \"'FAILED' in command_result.stderr\"\n",
    "- name: Fail task when both files are identical\n",
    "  raw: diff foo/file1 bar/file2\n",
    "  register: diff_cmd\n",
    "  failed_when: diff_cmd.rc == 0 or diff_cmd.rc >= 2\n",
    "```"
   ]
  },
  {
   "cell_type": "markdown",
   "metadata": {
    "slideshow": {
     "slide_type": "slide"
    }
   },
   "source": [
    "### And what about \"changed\"?\n",
    "\n",
    "Ansible also similarly supports a `changed_when` key in tasks to determine when a task has changed something (and thus its notifiers should run). For instance, the following task will never report 'changed':\n",
    "\n",
    "```\n",
    "  - shell: wall 'beep'\n",
    "    changed_when: False\n",
    "```"
   ]
  },
  {
   "cell_type": "markdown",
   "metadata": {
    "slideshow": {
     "slide_type": "slide"
    }
   },
   "source": [
    "### Aborting the whole play\n",
    "\n",
    "Normally, Ansible tries to complete a play for as many hosts as possible. You may instead have Ansible mark *all* hosts failed by including the `any_errors_fatal: true` flag in a play.\n"
   ]
  },
  {
   "cell_type": "markdown",
   "metadata": {
    "slideshow": {
     "slide_type": "slide"
    }
   },
   "source": [
    "# Lab: Modify error handling\n",
    "\n",
    "Using the custom module that we created before, make a playbook that fails a task when running on 'all' hosts"
   ]
  }
 ],
 "metadata": {
  "celltoolbar": "Slideshow",
  "kernelspec": {
   "display_name": "Python 3",
   "language": "python",
   "name": "python3"
  },
  "language_info": {
   "codemirror_mode": {
    "name": "ipython",
    "version": 3
   },
   "file_extension": ".py",
   "mimetype": "text/x-python",
   "name": "python",
   "nbconvert_exporter": "python",
   "pygments_lexer": "ipython3",
   "version": "3.6.0"
  }
 },
 "nbformat": 4,
 "nbformat_minor": 2
}
