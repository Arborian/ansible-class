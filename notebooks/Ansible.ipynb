{
 "cells": [
  {
   "cell_type": "markdown",
   "metadata": {
    "slideshow": {
     "slide_type": "slide"
    }
   },
   "source": [
    "# \"Intro-mediate\" Ansible \n",
    "\n",
    "## DevelopIntelligence\n",
    "\n",
    "Instructor: Rick Copeland <rick@arborian.com>\n",
    "\n",
    "\n",
    "Class Times\n",
    "- 09:00 - 05:00\n",
    "- Lunch 11:45 - 12:45\n",
    "\n",
    "Class Format:\n",
    "\n",
    " - Interactive demo / lecture\n",
    " - Hands-on, with frequent labs\n",
    " - In addition to lab times, breaks every 60 ~ 90 minutes"
   ]
  },
  {
   "cell_type": "markdown",
   "metadata": {
    "slideshow": {
     "slide_type": "slide"
    }
   },
   "source": [
    "# Getting to Know You\n",
    "\n",
    "- Name\n",
    "- Programming / operations experience? (e.g. Chef, Puppet, Salt, Fabric?)\n",
    "- Job role\n",
    "- Specific thing you'd like to learn"
   ]
  },
  {
   "cell_type": "markdown",
   "metadata": {
    "slideshow": {
     "slide_type": "slide"
    }
   },
   "source": [
    "# Logistics\n",
    "\n",
    "- Please sign in each day!\n",
    "- Each student will need to fill out a class evaluation via HIVE at the conclusion of the course"
   ]
  },
  {
   "cell_type": "markdown",
   "metadata": {
    "slideshow": {
     "slide_type": "slide"
    }
   },
   "source": [
    "# (Rough) Outline\n",
    "\n",
    "## Day 1\n",
    "\n",
    "- Review of Intro to Ansible Topics\n",
    "\n",
    "  - Why and how of Ansible\n",
    "  - Inventory: static and dynamic\n",
    "  - Running ad-hoc commands\n",
    "  - Grouping operations into playbooks\n",
    "  - Grouping playbooks into roles\n",
    "  - Building custom modules in Python\n",
    "  \n",
    "- Using the Ansible vault for storing sensitive data\n",
    "- Using fact caching to speed up playbooks\n",
    "- Error handling and debugging playbooks"
   ]
  },
  {
   "cell_type": "markdown",
   "metadata": {
    "slideshow": {
     "slide_type": "slide"
    }
   },
   "source": [
    "## Day 2\n",
    "\n",
    "- Playbook delegation\n",
    "- Ansible Galaxy: Sharing roles\n",
    "- Ansible + Docker\n",
    "  - Docker modules in core Ansible\n",
    "  - `ansible-container`\n",
    "- More Ansible modules\n",
    "  - Cloud modules\n",
    "    - VMware\n",
    "    - AWS\n",
    "  - Notifications\n",
    "  - Source Control\n",
    "  - Databases\n",
    "  - Monitoring"
   ]
  },
  {
   "cell_type": "markdown",
   "metadata": {
    "slideshow": {
     "slide_type": "slide"
    }
   },
   "source": [
    "# Why and How of Ansible\n",
    "\n",
    "- Manages the configuration of \n",
    "- Python library / tool\n",
    "- \"Push\" model (generally via ssh)\n",
    "- Managed hosts need minimal \"bootstrapping\"\n",
    "  - Puppet, Chef, Salt, etc. all need an agent on the managed host.\n",
    "  - Ansible only needs sshd (Python is helpful, as well, but we can bootstrap that)"
   ]
  },
  {
   "cell_type": "markdown",
   "metadata": {
    "slideshow": {
     "slide_type": "slide"
    }
   },
   "source": [
    "# Ansible Inventory\n",
    "\n",
    "Ansible needs to know which hosts it manages. For this, it uses an *inventory*."
   ]
  },
  {
   "cell_type": "markdown",
   "metadata": {
    "slideshow": {
     "slide_type": "fragment"
    }
   },
   "source": [
    "## Static inventory\n",
    "\n",
    "A static inventory is just a text file (by default, `/etc/ansible/hosts`, but we'll change that). \n",
    "\n",
    "The inventory lists the hosts that Ansible will manage, optionally collecting them into groups.\n",
    "One example is in the class repository as `inventory`:\n",
    "\n",
    "```\n",
    "[web]\n",
    "arborian-01.class.arborian.com\n",
    "arborian-02.class.arborian.com\n",
    "\n",
    "[db]\n",
    "arborian-03.class.arborian.com\n",
    "arborian-04.class.arborian.com\n",
    "\n",
    "[app]\n",
    "arborian-05.class.arborian.com\n",
    "arborian-06.class.arborian.com\n",
    "```"
   ]
  },
  {
   "cell_type": "markdown",
   "metadata": {
    "slideshow": {
     "slide_type": "slide"
    }
   },
   "source": [
    "# Inventory: Dynamic Inventory\n",
    "\n",
    "We can also use Python modules to create our inventory programmatically (as when we might want to enumerate all hosts on AWS, Azure, or Google Compute Engine)\n",
    "\n",
    "Any inventory file that is executable will be run to generate an inventory JSON result when fed certain command-line arguments.\n",
    "\n",
    "Some useful links:\n",
    "\n",
    "- [Dynamic Inventory](http://docs.ansible.com/ansible/intro_dynamic_inventory.html)\n",
    "- [Developing your own inventory script](http://docs.ansible.com/ansible/dev_guide/developing_inventory.html)"
   ]
  },
  {
   "cell_type": "markdown",
   "metadata": {
    "slideshow": {
     "slide_type": "slide"
    }
   },
   "source": [
    "# Ad-hoc Commands\n",
    "\n",
    "Ansible command line\n",
    "\n",
    "`ansible <host pattern> [options]`\n",
    "\n",
    "Frequently used options\n",
    "\n",
    "- `-m MODULE_NAME` (default is command)\n",
    "- `-a MODULE_ARGS`\n",
    "\n",
    "Frequently used host patterns\n",
    "\n",
    "- `localhost`\n",
    "- `all`\n",
    "- `GROUP-NAME` (one of the groupings from your inventory)"
   ]
  },
  {
   "cell_type": "code",
   "execution_count": 5,
   "metadata": {
    "slideshow": {
     "slide_type": "skip"
    }
   },
   "outputs": [
    {
     "name": "stdout",
     "output_type": "stream",
     "text": [
      "/Users/rick446/src/Classes/Ansible\n"
     ]
    }
   ],
   "source": [
    "cd ~/src/Classes/Ansible"
   ]
  },
  {
   "cell_type": "markdown",
   "metadata": {
    "slideshow": {
     "slide_type": "slide"
    }
   },
   "source": [
    "# Ad-hoc command demos\n",
    "\n",
    "The default module is `command`, so we can leave it out in the command line:"
   ]
  },
  {
   "cell_type": "code",
   "execution_count": 11,
   "metadata": {
    "slideshow": {
     "slide_type": "fragment"
    }
   },
   "outputs": [
    {
     "name": "stdout",
     "output_type": "stream",
     "text": [
      "localhost | SUCCESS | rc=0 >>\n",
      "hello\n"
     ]
    }
   ],
   "source": [
    "%%bash\n",
    "ansible localhost -m command -a 'echo \"hello\"'"
   ]
  },
  {
   "cell_type": "code",
   "execution_count": 12,
   "metadata": {
    "scrolled": true,
    "slideshow": {
     "slide_type": "fragment"
    }
   },
   "outputs": [
    {
     "name": "stdout",
     "output_type": "stream",
     "text": [
      "localhost | SUCCESS | rc=0 >>\n",
      "hello\n"
     ]
    }
   ],
   "source": [
    "%%bash\n",
    "ansible localhost -a 'echo \"hello\"'"
   ]
  },
  {
   "cell_type": "code",
   "execution_count": 13,
   "metadata": {
    "slideshow": {
     "slide_type": "subslide"
    }
   },
   "outputs": [
    {
     "name": "stdout",
     "output_type": "stream",
     "text": [
      "arborian-01.class.arborian.com | SUCCESS | rc=0 >>\n",
      "hi\n"
     ]
    }
   ],
   "source": [
    "%%bash\n",
    "ansible arborian-01.class.arborian.com -a 'echo \"hi\"'"
   ]
  },
  {
   "cell_type": "code",
   "execution_count": 14,
   "metadata": {
    "slideshow": {
     "slide_type": "fragment"
    }
   },
   "outputs": [
    {
     "name": "stdout",
     "output_type": "stream",
     "text": [
      "arborian-01.class.arborian.com | SUCCESS | rc=0 >>\n",
      "hi\n",
      "arborian-02.class.arborian.com | SUCCESS | rc=0 >>\n",
      "hi\n"
     ]
    }
   ],
   "source": [
    "%%bash\n",
    "ansible web -a 'echo \"hi\"'"
   ]
  },
  {
   "cell_type": "code",
   "execution_count": 15,
   "metadata": {
    "slideshow": {
     "slide_type": "fragment"
    }
   },
   "outputs": [
    {
     "name": "stdout",
     "output_type": "stream",
     "text": [
      "arborian-01.class.arborian.com | SUCCESS | rc=0 >>\n",
      "hi\n",
      "arborian-05.class.arborian.com | SUCCESS | rc=0 >>\n",
      "hi\n",
      "arborian-02.class.arborian.com | SUCCESS | rc=0 >>\n",
      "hi\n",
      "arborian-03.class.arborian.com | SUCCESS | rc=0 >>\n",
      "hi\n",
      "arborian-04.class.arborian.com | SUCCESS | rc=0 >>\n",
      "hi\n",
      "arborian-06.class.arborian.com | SUCCESS | rc=0 >>\n",
      "hi\n"
     ]
    }
   ],
   "source": [
    "%%bash\n",
    "ansible all -a 'echo \"hi\"'"
   ]
  },
  {
   "cell_type": "markdown",
   "metadata": {},
   "source": []
  }
 ],
 "metadata": {
  "celltoolbar": "Slideshow",
  "kernelspec": {
   "display_name": "Python 3",
   "language": "python",
   "name": "python3"
  },
  "language_info": {
   "codemirror_mode": {
    "name": "ipython",
    "version": 3
   },
   "file_extension": ".py",
   "mimetype": "text/x-python",
   "name": "python",
   "nbconvert_exporter": "python",
   "pygments_lexer": "ipython3",
   "version": "3.6.0"
  }
 },
 "nbformat": 4,
 "nbformat_minor": 2
}
