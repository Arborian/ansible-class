{
 "cells": [
  {
   "cell_type": "markdown",
   "metadata": {
    "slideshow": {
     "slide_type": "slide"
    }
   },
   "source": [
    "# Building Custom Ansible Modules in Python\n",
    "\n",
    "Have you ever wanted to type\n",
    "\n",
    "`ansible -m my-really-cool-custom-module -a 'param1=foo param2=bar'`\n",
    "\n",
    "... and have it actually work?\n",
    "\n",
    "Then this section may be for you!\n",
    "\n",
    "(much of this material is taken from Redhat's [Ansible Module Development Walkthrough][1])\n",
    "\n",
    "[1]: http://docs.ansible.com/ansible/latest/dev_guide/developing_modules_general.html"
   ]
  },
  {
   "cell_type": "markdown",
   "metadata": {
    "slideshow": {
     "slide_type": "fragment"
    }
   },
   "source": [
    "*Don't* create a custom module until\n",
    "\n",
    "- you've looked through all the built-in Ansible modules and can't find something that does what you want\n",
    "- you've decided that using the `raw` and `script` modules is not powerful enough for what you need\n",
    "- you know some Python"
   ]
  },
  {
   "cell_type": "markdown",
   "metadata": {
    "slideshow": {
     "slide_type": "slide"
    }
   },
   "source": [
    "# Environment setup\n",
    "\n",
    "- Clone the Ansible repository: `$ git clone https://github.com/ansible/ansible.git`\n",
    "- Change directory into the repository root dir: `$ cd ansible`\n",
    "- Create a virtual environment: `$ python3 -m venv venv` (or for Python 2 $ `virtualenv venv`. Note, this requires you to install the virtualenv package: `$ pip install virtualenv`)\n",
    "- Activate the virtual environment: `$ . venv/bin/activate`\n",
    "- Install development requirements: `$ pip install -r requirements.txt`\n",
    "- Run the environment setup script for each new dev shell process: `$ . hacking/env-setup`\n",
    "\n"
   ]
  },
  {
   "cell_type": "code",
   "execution_count": 3,
   "metadata": {
    "slideshow": {
     "slide_type": "skip"
    }
   },
   "outputs": [
    {
     "name": "stdout",
     "output_type": "stream",
     "text": [
      "/Users/rick446/src/Classes/Ansible\n"
     ]
    }
   ],
   "source": [
    "cd ~/src/Classes/Ansible"
   ]
  },
  {
   "cell_type": "code",
   "execution_count": null,
   "metadata": {
    "slideshow": {
     "slide_type": "slide"
    }
   },
   "outputs": [],
   "source": [
    "%%bash\n",
    "git clone https://github.com/ansible/ansible.git\n",
    "cd ansible\n",
    "python3 -m venv venv\n",
    ". venv/bin/activate\n",
    "pip install -r requirements.txt\n",
    ". hacking/env-setup"
   ]
  },
  {
   "cell_type": "code",
   "execution_count": null,
   "metadata": {},
   "outputs": [],
   "source": []
  }
 ],
 "metadata": {
  "celltoolbar": "Slideshow",
  "kernelspec": {
   "display_name": "Python 3",
   "language": "python",
   "name": "python3"
  },
  "language_info": {
   "codemirror_mode": {
    "name": "ipython",
    "version": 3
   },
   "file_extension": ".py",
   "mimetype": "text/x-python",
   "name": "python",
   "nbconvert_exporter": "python",
   "pygments_lexer": "ipython3",
   "version": "3.6.0"
  }
 },
 "nbformat": 4,
 "nbformat_minor": 2
}
