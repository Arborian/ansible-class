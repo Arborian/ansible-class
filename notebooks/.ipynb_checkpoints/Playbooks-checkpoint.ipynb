{
 "cells": [
  {
   "cell_type": "markdown",
   "metadata": {
    "slideshow": {
     "slide_type": "slide"
    }
   },
   "source": [
    "# Simple Playbooks\n",
    "\n",
    "**Playbooks** are files that specify **plays** which consist of one or more **tasks** to run on various hosts.\n",
    "\n",
    "Playbooks are written as [YAML](http://yaml.org) files.\n",
    "\n",
    "A simple playbook with one play:"
   ]
  },
  {
   "cell_type": "code",
   "execution_count": 1,
   "metadata": {
    "slideshow": {
     "slide_type": "skip"
    }
   },
   "outputs": [
    {
     "name": "stdout",
     "output_type": "stream",
     "text": [
      "/Users/rick446/src/Classes/Ansible\n"
     ]
    }
   ],
   "source": [
    "cd ~/src/Classes/Ansible"
   ]
  },
  {
   "cell_type": "code",
   "execution_count": 2,
   "metadata": {
    "slideshow": {
     "slide_type": "fragment"
    }
   },
   "outputs": [
    {
     "name": "stdout",
     "output_type": "stream",
     "text": [
      "- name: First play\r\n",
      "  hosts: all\r\n",
      "  remote_user: root\r\n",
      "  tasks:\r\n",
      "  - name: Say my name\r\n",
      "    command: whoami\r\n",
      "    notify: \"demo notify\"\r\n",
      "  - name: Get the system date and time\r\n",
      "    command: date\r\n",
      "    notify: \"demo notify\"\r\n",
      "  - name: Ping just for fun\r\n",
      "    ping: {}\r\n",
      "  handlers:\r\n",
      "  - name: demo notify\r\n",
      "    command: 'echo Running the demo notify'\r\n"
     ]
    }
   ],
   "source": [
    "cat playbooks/basic.yaml"
   ]
  },
  {
   "cell_type": "markdown",
   "metadata": {
    "slideshow": {
     "slide_type": "slide"
    }
   },
   "source": [
    "To run the playbook, we use the `ansible-playbook` command:"
   ]
  },
  {
   "cell_type": "code",
   "execution_count": 7,
   "metadata": {
    "slideshow": {
     "slide_type": "fragment"
    }
   },
   "outputs": [
    {
     "name": "stdout",
     "output_type": "stream",
     "text": [
      "\n",
      "PLAY [First play] **************************************************************\n",
      "\n",
      "TASK [Gathering Facts] *********************************************************\n",
      "ok: [arborian-02.class.arborian.com]\n",
      "ok: [arborian-01.class.arborian.com]\n",
      "\n",
      "TASK [Say my name] *************************************************************\n",
      "changed: [arborian-02.class.arborian.com]\n",
      "changed: [arborian-01.class.arborian.com]\n",
      "\n",
      "TASK [Get the system date and time] ********************************************\n",
      "changed: [arborian-02.class.arborian.com]\n",
      "changed: [arborian-01.class.arborian.com]\n",
      "\n",
      "TASK [Ping just for fun] *******************************************************\n",
      "ok: [arborian-02.class.arborian.com]\n",
      "ok: [arborian-01.class.arborian.com]\n",
      "\n",
      "RUNNING HANDLER [demo notify] **************************************************\n",
      "changed: [arborian-02.class.arborian.com]\n",
      "changed: [arborian-01.class.arborian.com]\n",
      "\n",
      "PLAY RECAP *********************************************************************\n",
      "arborian-01.class.arborian.com : ok=5    changed=3    unreachable=0    failed=0   \n",
      "arborian-02.class.arborian.com : ok=5    changed=3    unreachable=0    failed=0   \n",
      "\n"
     ]
    }
   ],
   "source": [
    "%%bash\n",
    "ansible-playbook playbooks/basic.yaml"
   ]
  },
  {
   "cell_type": "markdown",
   "metadata": {
    "slideshow": {
     "slide_type": "slide"
    }
   },
   "source": [
    "You can also get the output of each task by running in *verbose* mode:"
   ]
  },
  {
   "cell_type": "code",
   "execution_count": 8,
   "metadata": {
    "slideshow": {
     "slide_type": "fragment"
    }
   },
   "outputs": [
    {
     "name": "stdout",
     "output_type": "stream",
     "text": [
      "Using /Users/rick446/src/Classes/Ansible/ansible.cfg as config file\n",
      "\n",
      "PLAY [First play] **************************************************************\n",
      "\n",
      "TASK [Gathering Facts] *********************************************************\n",
      "ok: [arborian-02.class.arborian.com]\n",
      "ok: [arborian-01.class.arborian.com]\n",
      "\n",
      "TASK [Say my name] *************************************************************\n",
      "changed: [arborian-02.class.arborian.com] => {\"changed\": true, \"cmd\": [\"whoami\"], \"delta\": \"0:00:00.003563\", \"end\": \"2017-10-11 20:42:15.127325\", \"failed\": false, \"rc\": 0, \"start\": \"2017-10-11 20:42:15.123762\", \"stderr\": \"\", \"stderr_lines\": [], \"stdout\": \"root\", \"stdout_lines\": [\"root\"]}\n",
      "changed: [arborian-01.class.arborian.com] => {\"changed\": true, \"cmd\": [\"whoami\"], \"delta\": \"0:00:00.004047\", \"end\": \"2017-10-11 20:42:15.223374\", \"failed\": false, \"rc\": 0, \"start\": \"2017-10-11 20:42:15.219327\", \"stderr\": \"\", \"stderr_lines\": [], \"stdout\": \"root\", \"stdout_lines\": [\"root\"]}\n",
      "\n",
      "TASK [Get the system date and time] ********************************************\n",
      "changed: [arborian-02.class.arborian.com] => {\"changed\": true, \"cmd\": [\"date\"], \"delta\": \"0:00:00.003089\", \"end\": \"2017-10-11 20:42:19.029011\", \"failed\": false, \"rc\": 0, \"start\": \"2017-10-11 20:42:19.025922\", \"stderr\": \"\", \"stderr_lines\": [], \"stdout\": \"Wed Oct 11 20:42:19 UTC 2017\", \"stdout_lines\": [\"Wed Oct 11 20:42:19 UTC 2017\"]}\n",
      "changed: [arborian-01.class.arborian.com] => {\"changed\": true, \"cmd\": [\"date\"], \"delta\": \"0:00:00.003590\", \"end\": \"2017-10-11 20:42:19.208073\", \"failed\": false, \"rc\": 0, \"start\": \"2017-10-11 20:42:19.204483\", \"stderr\": \"\", \"stderr_lines\": [], \"stdout\": \"Wed Oct 11 20:42:19 UTC 2017\", \"stdout_lines\": [\"Wed Oct 11 20:42:19 UTC 2017\"]}\n",
      "\n",
      "TASK [Ping just for fun] *******************************************************\n",
      "ok: [arborian-02.class.arborian.com] => {\"changed\": false, \"failed\": false, \"ping\": \"pong\"}\n",
      "ok: [arborian-01.class.arborian.com] => {\"changed\": false, \"failed\": false, \"ping\": \"pong\"}\n",
      "\n",
      "RUNNING HANDLER [demo notify] **************************************************\n",
      "changed: [arborian-02.class.arborian.com] => {\"changed\": true, \"cmd\": [\"echo\", \"Running\", \"the\", \"demo\", \"notify\"], \"delta\": \"0:00:00.003122\", \"end\": \"2017-10-11 20:42:26.168894\", \"failed\": false, \"rc\": 0, \"start\": \"2017-10-11 20:42:26.165772\", \"stderr\": \"\", \"stderr_lines\": [], \"stdout\": \"Running the demo notify\", \"stdout_lines\": [\"Running the demo notify\"]}\n",
      "changed: [arborian-01.class.arborian.com] => {\"changed\": true, \"cmd\": [\"echo\", \"Running\", \"the\", \"demo\", \"notify\"], \"delta\": \"0:00:00.003109\", \"end\": \"2017-10-11 20:42:27.513982\", \"failed\": false, \"rc\": 0, \"start\": \"2017-10-11 20:42:27.510873\", \"stderr\": \"\", \"stderr_lines\": [], \"stdout\": \"Running the demo notify\", \"stdout_lines\": [\"Running the demo notify\"]}\n",
      "\n",
      "PLAY RECAP *********************************************************************\n",
      "arborian-01.class.arborian.com : ok=5    changed=3    unreachable=0    failed=0   \n",
      "arborian-02.class.arborian.com : ok=5    changed=3    unreachable=0    failed=0   \n",
      "\n"
     ]
    }
   ],
   "source": [
    "%%bash\n",
    "ansible-playbook -v playbooks/basic.yaml"
   ]
  },
  {
   "cell_type": "markdown",
   "metadata": {
    "slideshow": {
     "slide_type": "slide"
    }
   },
   "source": [
    "# (Aside) Bootstrapping without Python\n",
    "\n",
    "To bootstrap your hosts in a playbook, you can do the following:"
   ]
  },
  {
   "cell_type": "code",
   "execution_count": 9,
   "metadata": {
    "slideshow": {
     "slide_type": "fragment"
    }
   },
   "outputs": [
    {
     "name": "stdout",
     "output_type": "stream",
     "text": [
      "- hosts: all\r\n",
      "  gather_facts: off\r\n",
      "  become: on\r\n",
      "  tasks:\r\n",
      "  - name: Boostrap Ansible requirements\r\n",
      "    raw: apt-get install -y python python-simplejson\r\n"
     ]
    }
   ],
   "source": [
    "cat playbooks/bootstrap.yaml"
   ]
  },
  {
   "cell_type": "code",
   "execution_count": 20,
   "metadata": {
    "slideshow": {
     "slide_type": "fragment"
    }
   },
   "outputs": [
    {
     "name": "stderr",
     "output_type": "stream",
     "text": [
      "bash: line 1: ansible-playbooks: command not found\n"
     ]
    }
   ],
   "source": [
    "%%bash\n",
    "ansible-playbooks -v playbooks/bootstrap.yaml"
   ]
  },
  {
   "cell_type": "markdown",
   "metadata": {
    "slideshow": {
     "slide_type": "slide"
    }
   },
   "source": [
    "# Playbook Variables\n",
    "\n",
    "When running `ansible-playbook`, we can use *variables* to change the way the playbook operates. \n",
    "\n",
    "When variables are defined, we can use their value in the playbook using the [Jinja2](http://jinja.pocoo.org/docs/dev/templates/) variable substitution syntax:\n",
    "\n",
    "`{{var_name}}`\n"
   ]
  },
  {
   "cell_type": "markdown",
   "metadata": {
    "slideshow": {
     "slide_type": "fragment"
    }
   },
   "source": [
    "This playbook uses a `username` variable:\n",
    "\n",
    "```\n",
    "- hosts: all\n",
    "  remote_user: root\n",
    "  vars:\n",
    "    username: YOU-NEED-TO-OVERRIDE-THIS\n",
    "  tasks:\n",
    "  - name: create user\n",
    "    user:\n",
    "        name: '{{username}}'\n",
    "        groups: sudo\n",
    "        generate_ssh_key: yes\n",
    "        shell: /bin/bash\n",
    "```\n"
   ]
  },
  {
   "cell_type": "markdown",
   "metadata": {},
   "source": [
    "\n",
    "If we don't override the `username` variable, then this playbook would create a user with the username `YOU-NEED-TO-OVERRIDE-THIS`. Fortunately, we can override the variable with the `-e username NEWUSERNAME` argument to `ansible-playbook`."
   ]
  },
  {
   "cell_type": "markdown",
   "metadata": {
    "slideshow": {
     "slide_type": "slide"
    }
   },
   "source": [
    "We can also prompt the user running Ansible for values of various variables using `vars_prompt`:\n",
    "\n",
    "```\n",
    "  vars_prompt:\n",
    "    - name: username\n",
    "      prompt: What is your username?\n",
    "```"
   ]
  },
  {
   "cell_type": "code",
   "execution_count": 16,
   "metadata": {
    "slideshow": {
     "slide_type": "fragment"
    }
   },
   "outputs": [
    {
     "name": "stdout",
     "output_type": "stream",
     "text": [
      "\n",
      "PLAY [web] *********************************************************************\n",
      "\n",
      "TASK [Gathering Facts] *********************************************************\n",
      "ok: [arborian-02.class.arborian.com]\n",
      "ok: [arborian-01.class.arborian.com]\n",
      "\n",
      "TASK [Let the sudo group use sudo without a password] **************************\n",
      "ok: [arborian-02.class.arborian.com]\n",
      "ok: [arborian-01.class.arborian.com]\n",
      "\n",
      "TASK [create user] *************************************************************\n",
      "ok: [arborian-01.class.arborian.com]\n",
      "ok: [arborian-02.class.arborian.com]\n",
      "\n",
      "TASK [Authorize the newly-created ssh key] *************************************\n",
      "ok: [arborian-01.class.arborian.com]\n",
      "ok: [arborian-02.class.arborian.com]\n",
      "\n",
      "TASK [Retrieve newly-created ssh (private) key] ********************************\n",
      "fatal: [arborian-01.class.arborian.com]: FAILED! => {\"changed\": false, \"checksum\": \"701217ee6e759e8a7b2b038e9bd5e47a1a34a30d\", \"dest\": \"/Users/rick446/src/Classes/Ansible/someone_id_rsa\", \"failed\": true, \"file\": \"/home/someone/.ssh/id_rsa\", \"md5sum\": \"ffda7cc79d64c72a87d198b3bec935a1\", \"msg\": \"checksum mismatch\", \"remote_checksum\": \"ac902ab2e1bd75d598128d5dc8ec3aa8d2f782c5\", \"remote_md5sum\": null}\n",
      "changed: [arborian-02.class.arborian.com]\n",
      "\tto retry, use: --limit @/Users/rick446/src/Classes/Ansible/playbooks/setup-user.retry\n",
      "\n",
      "PLAY RECAP *********************************************************************\n",
      "arborian-01.class.arborian.com : ok=4    changed=0    unreachable=0    failed=1   \n",
      "arborian-02.class.arborian.com : ok=5    changed=1    unreachable=0    failed=0   \n",
      "\n"
     ]
    }
   ],
   "source": [
    "%%bash\n",
    "ansible-playbook playbooks/setup-user.yaml -e username=someone  # does not prompt since we supply the username"
   ]
  },
  {
   "cell_type": "markdown",
   "metadata": {
    "slideshow": {
     "slide_type": "slide"
    }
   },
   "source": [
    "# Lab: Update Ansible to update your user on the remote server\n",
    "\n",
    "- `git pull` to update your checkout of the `ansible-class` repository\n",
    "- Use the playbook in `playbooks/setup-user.yaml` to update your user account on the class server (`ansible-playbook playbooks/setup-user.yaml -e username=YOUR-USER-NAME`)\n",
    "- Update the `ansible.cfg` file to reflect your username and your newly-retrieved ssh key file\n",
    "- Verify that you can run things as your own user by doing a `ansible all -m ping`"
   ]
  },
  {
   "cell_type": "markdown",
   "metadata": {
    "slideshow": {
     "slide_type": "slide"
    }
   },
   "source": [
    "# Facts: Information discovered from remote systems\n",
    "\n",
    "We can get a lot of information to be used in playbooks from *Facts* collected by Ansible. To get a feel for what's available, you can use the `setup` module:"
   ]
  },
  {
   "cell_type": "code",
   "execution_count": 17,
   "metadata": {
    "slideshow": {
     "slide_type": "fragment"
    }
   },
   "outputs": [
    {
     "name": "stdout",
     "output_type": "stream",
     "text": [
      "localhost | SUCCESS => {\n",
      "    \"ansible_facts\": {\n",
      "        \"ansible_all_ipv4_addresses\": [\n",
      "            \"192.168.43.12\"\n",
      "        ],\n",
      "        \"ansible_all_ipv6_addresses\": [\n",
      "            \"fe80::2815:7cff:fe63:cf6c%awdl0\",\n",
      "            \"fe80::9822:2add:c15d:ecd3%utun0\",\n",
      "            \"fe80::75fe:a194:e8a3:4cfa%utun1\"\n",
      "        ],\n",
      "        \"ansible_apparmor\": {\n",
      "            \"status\": \"disabled\"\n",
      "        },\n",
      "        \"ansible_architecture\": \"x86_64\",\n",
      "        \"ansible_awdl0\": {\n",
      "            \"device\": \"awdl0\",\n",
      "            \"flags\": [\n",
      "                \"UP\",\n",
      "                \"BROADCAST\",\n",
      "                \"RUNNING\",\n",
      "                \"PROMISC\",\n",
      "                \"SIMPLEX\",\n",
      "                \"MULTICAST\"\n",
      "            ],\n",
      "            \"ipv4\": [],\n",
      "            \"ipv6\": [\n",
      "                {\n",
      "                    \"address\": \"fe80::2815:7cff:fe63:cf6c%awdl0\",\n",
      "                    \"prefix\": \"64\",\n",
      "                    \"scope\": \"0x8\"\n",
      "                }\n",
      "            ],\n",
      "            \"macaddress\": \"2a:15:7c:63:cf:6c\",\n",
      "            \"media\": \"Unknown\",\n",
      "            \"media_select\": \"autoselect\",\n",
      "            \"mtu\": \"1484\",\n",
      "            \"options\": [\n",
      "                \"PERFORMNUD\",\n",
      "                \"DAD\"\n",
      "            ],\n",
      "            \"status\": \"active\",\n",
      "            \"type\": \"ether\"\n",
      "        },\n",
      "        \"ansible_bridge0\": {\n",
      "            \"device\": \"bridge0\",\n",
      "            \"flags\": [\n",
      "                \"UP\",\n",
      "                \"BROADCAST\",\n",
      "                \"SMART\",\n",
      "                \"RUNNING\",\n",
      "                \"SIMPLEX\",\n",
      "                \"MULTICAST\"\n",
      "            ],\n",
      "            \"ipv4\": [],\n",
      "            \"ipv6\": [],\n",
      "            \"macaddress\": \"6a:00:02:2e:02:c0\",\n",
      "            \"media\": \"Unknown\",\n",
      "            \"media_select\": \"Unknown\",\n",
      "            \"media_type\": \"unknown type\",\n",
      "            \"mtu\": \"1500\",\n",
      "            \"options\": [\n",
      "                \"PERFORMNUD\",\n",
      "                \"DAD\"\n",
      "            ],\n",
      "            \"status\": \"inactive\",\n",
      "            \"type\": \"ether\"\n",
      "        },\n",
      "        \"ansible_date_time\": {\n",
      "            \"date\": \"2017-10-11\",\n",
      "            \"day\": \"11\",\n",
      "            \"epoch\": \"1507755967\",\n",
      "            \"hour\": \"17\",\n",
      "            \"iso8601\": \"2017-10-11T21:06:07Z\",\n",
      "            \"iso8601_basic\": \"20171011T170607426157\",\n",
      "            \"iso8601_basic_short\": \"20171011T170607\",\n",
      "            \"iso8601_micro\": \"2017-10-11T21:06:07.426270Z\",\n",
      "            \"minute\": \"06\",\n",
      "            \"month\": \"10\",\n",
      "            \"second\": \"07\",\n",
      "            \"time\": \"17:06:07\",\n",
      "            \"tz\": \"EDT\",\n",
      "            \"tz_offset\": \"-0400\",\n",
      "            \"weekday\": \"Wednesday\",\n",
      "            \"weekday_number\": \"3\",\n",
      "            \"weeknumber\": \"41\",\n",
      "            \"year\": \"2017\"\n",
      "        },\n",
      "        \"ansible_default_ipv4\": {\n",
      "            \"address\": \"192.168.43.12\",\n",
      "            \"broadcast\": \"192.168.43.255\",\n",
      "            \"device\": \"en0\",\n",
      "            \"flags\": [\n",
      "                \"UP\",\n",
      "                \"BROADCAST\",\n",
      "                \"SMART\",\n",
      "                \"RUNNING\",\n",
      "                \"SIMPLEX\",\n",
      "                \"MULTICAST\"\n",
      "            ],\n",
      "            \"gateway\": \"192.168.43.1\",\n",
      "            \"interface\": \"en0\",\n",
      "            \"macaddress\": \"98:01:a7:99:07:a3\",\n",
      "            \"media\": \"Unknown\",\n",
      "            \"media_select\": \"autoselect\",\n",
      "            \"mtu\": \"1500\",\n",
      "            \"netmask\": \"255.255.255.0\",\n",
      "            \"network\": \"192.168.43.0\",\n",
      "            \"status\": \"active\",\n",
      "            \"type\": \"ether\"\n",
      "        },\n",
      "        \"ansible_default_ipv6\": {},\n",
      "        \"ansible_distribution\": \"MacOSX\",\n",
      "        \"ansible_distribution_release\": \"16.7.0\",\n",
      "        \"ansible_distribution_version\": \"10.12.6\",\n",
      "        \"ansible_dns\": {\n",
      "            \"nameservers\": [\n",
      "                \"192.168.43.1\"\n",
      "            ]\n",
      "        },\n",
      "        \"ansible_domain\": \"43.168.192.in-addr.arpa\",\n",
      "        \"ansible_effective_group_id\": 20,\n",
      "        \"ansible_effective_user_id\": 501,\n",
      "        \"ansible_en0\": {\n",
      "            \"device\": \"en0\",\n",
      "            \"flags\": [\n",
      "                \"UP\",\n",
      "                \"BROADCAST\",\n",
      "                \"SMART\",\n",
      "                \"RUNNING\",\n",
      "                \"SIMPLEX\",\n",
      "                \"MULTICAST\"\n",
      "            ],\n",
      "            \"ipv4\": [\n",
      "                {\n",
      "                    \"address\": \"192.168.43.12\",\n",
      "                    \"broadcast\": \"192.168.43.255\",\n",
      "                    \"netmask\": \"255.255.255.0\",\n",
      "                    \"network\": \"192.168.43.0\"\n",
      "                }\n",
      "            ],\n",
      "            \"ipv6\": [],\n",
      "            \"macaddress\": \"98:01:a7:99:07:a3\",\n",
      "            \"media\": \"Unknown\",\n",
      "            \"media_select\": \"autoselect\",\n",
      "            \"mtu\": \"1500\",\n",
      "            \"status\": \"active\",\n",
      "            \"type\": \"ether\"\n",
      "        },\n",
      "        \"ansible_en1\": {\n",
      "            \"device\": \"en1\",\n",
      "            \"flags\": [\n",
      "                \"UP\",\n",
      "                \"BROADCAST\",\n",
      "                \"SMART\",\n",
      "                \"RUNNING\",\n",
      "                \"PROMISC\",\n",
      "                \"SIMPLEX\"\n",
      "            ],\n",
      "            \"ipv4\": [],\n",
      "            \"ipv6\": [],\n",
      "            \"macaddress\": \"6a:00:02:2e:02:c1\",\n",
      "            \"media\": \"Unknown\",\n",
      "            \"media_select\": \"autoselect\",\n",
      "            \"media_type\": \"full-duplex\",\n",
      "            \"mtu\": \"1500\",\n",
      "            \"options\": [\n",
      "                \"TSO4\",\n",
      "                \"TSO6\"\n",
      "            ],\n",
      "            \"status\": \"inactive\",\n",
      "            \"type\": \"ether\"\n",
      "        },\n",
      "        \"ansible_en2\": {\n",
      "            \"device\": \"en2\",\n",
      "            \"flags\": [\n",
      "                \"UP\",\n",
      "                \"BROADCAST\",\n",
      "                \"SMART\",\n",
      "                \"RUNNING\",\n",
      "                \"PROMISC\",\n",
      "                \"SIMPLEX\"\n",
      "            ],\n",
      "            \"ipv4\": [],\n",
      "            \"ipv6\": [],\n",
      "            \"macaddress\": \"6a:00:02:2e:02:c0\",\n",
      "            \"media\": \"Unknown\",\n",
      "            \"media_select\": \"autoselect\",\n",
      "            \"media_type\": \"full-duplex\",\n",
      "            \"mtu\": \"1500\",\n",
      "            \"options\": [\n",
      "                \"TSO4\",\n",
      "                \"TSO6\"\n",
      "            ],\n",
      "            \"status\": \"inactive\",\n",
      "            \"type\": \"ether\"\n",
      "        },\n",
      "        \"ansible_env\": {\n",
      "            \"Apple_PubSub_Socket_Render\": \"/private/tmp/com.apple.launchd.QKdFjhlTah/Render\",\n",
      "            \"CLICOLOR\": \"1\",\n",
      "            \"COLORFGBG\": \"7;0\",\n",
      "            \"COLORTERM\": \"truecolor\",\n",
      "            \"COMMAND_MODE\": \"unix2003\",\n",
      "            \"DISPLAY\": \"/private/tmp/com.apple.launchd.aYC8Ldg2d1/org.macosforge.xquartz:0\",\n",
      "            \"EDITOR\": \"subl -w\",\n",
      "            \"GIT_PAGER\": \"cat\",\n",
      "            \"HOME\": \"/Users/rick446\",\n",
      "            \"HOMEBREW_GITHUB_API_TOKEN\": \"5ee69dc00ccd37a0e429933823f1b99b82c94ecd\",\n",
      "            \"ITERM_PROFILE\": \"Default\",\n",
      "            \"ITERM_SESSION_ID\": \"w1t0p0:E06106B6-7DE8-456A-9228-5E567D41100C\",\n",
      "            \"JPY_PARENT_PID\": \"26048\",\n",
      "            \"LANG\": \"en_US.UTF-8\",\n",
      "            \"LOGNAME\": \"rick446\",\n",
      "            \"MPLBACKEND\": \"module://ipykernel.pylab.backend_inline\",\n",
      "            \"NODE_PATH\": \":/usr/local/lib/node_modules\",\n",
      "            \"PAGER\": \"cat\",\n",
      "            \"PATH\": \"/Users/rick446/.virtualenvs/ansible/bin:/Users/rick446/.virtualenvs/ansible/bin:/usr/local/heroku/bin:/usr/local/bin:/usr/local/share/python:/usr/bin:/bin:/usr/sbin:/sbin:/usr/local/bin:/opt/X11/bin:/Library/TeX/texbin:/Users/rick446/bin:/Users/rick446/bin\",\n",
      "            \"PWD\": \"/Users/rick446/src/Classes/Ansible\",\n",
      "            \"SECURITYSESSIONID\": \"186a7\",\n",
      "            \"SHELL\": \"/bin/bash\",\n",
      "            \"SHLVL\": \"4\",\n",
      "            \"SSH_AUTH_SOCK\": \"/private/tmp/com.apple.launchd.S9qFWTCjEw/Listeners\",\n",
      "            \"TERM\": \"xterm-color\",\n",
      "            \"TERM_PROGRAM\": \"iTerm.app\",\n",
      "            \"TERM_PROGRAM_VERSION\": \"3.1.1\",\n",
      "            \"TERM_SESSION_ID\": \"w1t0p0:E06106B6-7DE8-456A-9228-5E567D41100C\",\n",
      "            \"TMPDIR\": \"/var/folders/9k/n5kcz5zn0yn6y3xcbv2kfxhr0000gn/T/\",\n",
      "            \"USER\": \"rick446\",\n",
      "            \"VIRTUALENVWRAPPER_HOOK_DIR\": \"/Users/rick446/.virtualenvs\",\n",
      "            \"VIRTUALENVWRAPPER_LOG_DIR\": \"/Users/rick446/.virtualenvs\",\n",
      "            \"VIRTUALENVWRAPPER_PROJECT_FILENAME\": \".project\",\n",
      "            \"VIRTUAL_ENV\": \"/Users/rick446/.virtualenvs/ansible\",\n",
      "            \"VISUAL\": \"subl -w\",\n",
      "            \"WORKON_HOME\": \"/Users/rick446/.virtualenvs\",\n",
      "            \"XPC_FLAGS\": \"0x0\",\n",
      "            \"XPC_SERVICE_NAME\": \"0\",\n",
      "            \"_\": \"/Users/rick446/.virtualenvs/ansible/bin/python3.6\",\n",
      "            \"__CF_USER_TEXT_ENCODING\": \"0x1F5:0x0:0x0\"\n",
      "        },\n",
      "        \"ansible_fips\": false,\n",
      "        \"ansible_fqdn\": \"12.43.168.192.in-addr.arpa\",\n",
      "        \"ansible_gif0\": {\n",
      "            \"device\": \"gif0\",\n",
      "            \"flags\": [\n",
      "                \"POINTOPOINT\",\n",
      "                \"MULTICAST\"\n",
      "            ],\n",
      "            \"ipv4\": [],\n",
      "            \"ipv6\": [],\n",
      "            \"macaddress\": \"unknown\",\n",
      "            \"mtu\": \"1280\",\n",
      "            \"type\": \"unknown\"\n",
      "        },\n",
      "        \"ansible_hostname\": \"faramir\",\n",
      "        \"ansible_interfaces\": [\n",
      "            \"awdl0\",\n",
      "            \"bridge0\",\n",
      "            \"en0\",\n",
      "            \"en1\",\n",
      "            \"en2\",\n",
      "            \"gif0\",\n",
      "            \"lo0\",\n",
      "            \"p2p0\",\n",
      "            \"stf0\",\n",
      "            \"utun0\",\n",
      "            \"utun1\"\n",
      "        ],\n",
      "        \"ansible_kernel\": \"16.7.0\",\n",
      "        \"ansible_lo0\": {\n",
      "            \"device\": \"lo0\",\n",
      "            \"flags\": [\n",
      "                \"UP\",\n",
      "                \"LOOPBACK\",\n",
      "                \"RUNNING\",\n",
      "                \"MULTICAST\"\n",
      "            ],\n",
      "            \"ipv4\": [\n",
      "                {\n",
      "                    \"address\": \"127.0.0.1\",\n",
      "                    \"broadcast\": \"127.255.255.255\",\n",
      "                    \"netmask\": \"255.0.0.0\",\n",
      "                    \"network\": \"127.0.0.0\"\n",
      "                }\n",
      "            ],\n",
      "            \"ipv6\": [\n",
      "                {\n",
      "                    \"address\": \"::1\",\n",
      "                    \"prefix\": \"128\"\n",
      "                },\n",
      "                {\n",
      "                    \"address\": \"fe80::1%lo0\",\n",
      "                    \"prefix\": \"64\",\n",
      "                    \"scope\": \"0x1\"\n",
      "                }\n",
      "            ],\n",
      "            \"macaddress\": \"unknown\",\n",
      "            \"mtu\": \"16384\",\n",
      "            \"options\": [\n",
      "                \"PERFORMNUD\",\n",
      "                \"DAD\"\n",
      "            ],\n",
      "            \"type\": \"loopback\"\n",
      "        },\n",
      "        \"ansible_local\": {},\n",
      "        \"ansible_lsb\": {},\n",
      "        \"ansible_machine\": \"x86_64\",\n",
      "        \"ansible_memfree_mb\": -1104,\n",
      "        \"ansible_memtotal_mb\": 16384,\n",
      "        \"ansible_model\": \"MacBookPro11,5\",\n",
      "        \"ansible_nodename\": \"faramir\",\n",
      "        \"ansible_os_family\": \"Darwin\",\n",
      "        \"ansible_osrevision\": \"199506\",\n",
      "        \"ansible_osversion\": \"16G29\",\n",
      "        \"ansible_p2p0\": {\n",
      "            \"device\": \"p2p0\",\n",
      "            \"flags\": [\n",
      "                \"UP\",\n",
      "                \"BROADCAST\",\n",
      "                \"RUNNING\",\n",
      "                \"SIMPLEX\",\n",
      "                \"MULTICAST\"\n",
      "            ],\n",
      "            \"ipv4\": [],\n",
      "            \"ipv6\": [],\n",
      "            \"macaddress\": \"0a:01:a7:99:07:a3\",\n",
      "            \"media\": \"Unknown\",\n",
      "            \"media_select\": \"autoselect\",\n",
      "            \"mtu\": \"2304\",\n",
      "            \"status\": \"inactive\",\n",
      "            \"type\": \"ether\"\n",
      "        },\n",
      "        \"ansible_pkg_mgr\": \"homebrew\",\n",
      "        \"ansible_processor\": \"Intel(R) Core(TM) i7-4980HQ CPU @ 2.80GHz\",\n",
      "        \"ansible_processor_cores\": \"4\",\n",
      "        \"ansible_python\": {\n",
      "            \"executable\": \"/Users/rick446/.virtualenvs/ansible/bin/python3.6\",\n",
      "            \"has_sslcontext\": true,\n",
      "            \"type\": \"cpython\",\n",
      "            \"version\": {\n",
      "                \"major\": 3,\n",
      "                \"micro\": 0,\n",
      "                \"minor\": 6,\n",
      "                \"releaselevel\": \"final\",\n",
      "                \"serial\": 0\n",
      "            },\n",
      "            \"version_info\": [\n",
      "                3,\n",
      "                6,\n",
      "                0,\n",
      "                \"final\",\n",
      "                0\n",
      "            ]\n",
      "        },\n",
      "        \"ansible_python_version\": \"3.6.0\",\n",
      "        \"ansible_real_group_id\": 20,\n",
      "        \"ansible_real_user_id\": 501,\n",
      "        \"ansible_selinux\": false,\n",
      "        \"ansible_selinux_python_present\": false,\n",
      "        \"ansible_service_mgr\": \"launchd\",\n",
      "        \"ansible_ssh_host_key_dsa_public\": \"AAAAB3NzaC1kc3MAAACBAP8uloENmH0p1cQ/65tOyP8zb9bovQl55yXlLZLG2Oz852OzgpWf6mwNz9Agd3c86IpPIGW3WU9864xjzIV8DO/pL7UADqsqVbcU6iydLalD2DxDlIZqAMPWfs9UblAqnPgLp4+/Y9E5ghFt3QXInyAmj/TWszUlKvcaeDAmfZh7AAAAFQCLM7njtgxXKY7Wperoj0A1e46lKwAAAIBFpHS306j8a8i3GNMg6fPfyBu0mP6A/6U1afIxZh020qjym36OEYPHXSuOyVytmk7RU8SzA2wDkhe63k2w871zov0Ndl+LIB5cYXy1Ti13iYpdwXym53bmHT5AHh4C+eSbd4PrzVlxcBhOTZleUQfQMmGtsRjox3KWuG4z9lL9CwAAAIBCvv6GOxkGTqQ8jCxVJHZ4xcYMCKfeyFdP5UPh1zNpNgXKK3RuNgikKu3UUIUrsaDaNKgnitc6dJcxZXnXyMn/p7DGy4AvDQZuT49Z13sfNeDhMjCN0SZPBJrpo4CzgmSvHB14COSFmozpOGHaSUDTKSiJ3vWnKoiRVYhLOOi+WA==\",\n",
      "        \"ansible_ssh_host_key_ecdsa_public\": \"AAAAE2VjZHNhLXNoYTItbmlzdHAyNTYAAAAIbmlzdHAyNTYAAABBBNW+rqyskzhwXGGQSkR4u8POvqfrFCbsDP/M4Wfco1hdH6dty+6m//XgcSnK12xU5sPJycoz5fHWlPU/7ufM0GM=\",\n",
      "        \"ansible_ssh_host_key_ed25519_public\": \"AAAAC3NzaC1lZDI1NTE5AAAAIN871PTv/KsWS3MWbKKFUFini4IxnzhUCpB98HxYQ6Vv\",\n",
      "        \"ansible_ssh_host_key_rsa_public\": \"AAAAB3NzaC1yc2EAAAADAQABAAABAQC1HLoXVAkCqdvq47r2YTwVDsDy4Omwtb0wsVcBwVAcUH8sGjaJGeqlNdsZyv28cGAWQ5UooIAamOfCBGGu0ulDQqVCekIz4OFImDpEeswyL4SSqWMYmLBZByudeYtTYGdfxd9YkSMPftuk7mt1QdeeLjEOAb4GU2eX46NNLHXpkVRNsr8PA1nRBS2kAiKY+LbBfHzo5x8khZTnNZeMV4V0FX36pq/jPlBYbEdZjuUBLdTnAiYIIWAstS7eQ/KN/cRmnMs2XTRMw6VjChR9/RzadNhjmD5Svb7wcYTnnbsTRQYCWUicrnp76l7xCRQclVhBx524t438/NM62IhkZnKD\",\n",
      "        \"ansible_stf0\": {\n",
      "            \"device\": \"stf0\",\n",
      "            \"flags\": [],\n",
      "            \"ipv4\": [],\n",
      "            \"ipv6\": [],\n",
      "            \"macaddress\": \"unknown\",\n",
      "            \"mtu\": \"1280\",\n",
      "            \"type\": \"unknown\"\n",
      "        },\n",
      "        \"ansible_system\": \"Darwin\",\n",
      "        \"ansible_user_dir\": \"/Users/rick446\",\n",
      "        \"ansible_user_gecos\": \"Rick Copeland\",\n",
      "        \"ansible_user_gid\": 20,\n",
      "        \"ansible_user_id\": \"rick446\",\n",
      "        \"ansible_user_shell\": \"/bin/bash\",\n",
      "        \"ansible_user_uid\": 501,\n",
      "        \"ansible_userspace_architecture\": \"x86_64\",\n",
      "        \"ansible_userspace_bits\": \"64\",\n",
      "        \"ansible_utun0\": {\n",
      "            \"device\": \"utun0\",\n",
      "            \"flags\": [\n",
      "                \"UP\",\n",
      "                \"POINTOPOINT\",\n",
      "                \"RUNNING\",\n",
      "                \"MULTICAST\"\n",
      "            ],\n",
      "            \"ipv4\": [],\n",
      "            \"ipv6\": [\n",
      "                {\n",
      "                    \"address\": \"fe80::9822:2add:c15d:ecd3%utun0\",\n",
      "                    \"prefix\": \"64\",\n",
      "                    \"scope\": \"0xa\"\n",
      "                }\n",
      "            ],\n",
      "            \"macaddress\": \"unknown\",\n",
      "            \"mtu\": \"2000\",\n",
      "            \"options\": [\n",
      "                \"PERFORMNUD\",\n",
      "                \"DAD\"\n",
      "            ],\n",
      "            \"type\": \"unknown\"\n",
      "        },\n",
      "        \"ansible_utun1\": {\n",
      "            \"device\": \"utun1\",\n",
      "            \"flags\": [\n",
      "                \"UP\",\n",
      "                \"POINTOPOINT\",\n",
      "                \"RUNNING\",\n",
      "                \"MULTICAST\"\n",
      "            ],\n",
      "            \"ipv4\": [],\n",
      "            \"ipv6\": [\n",
      "                {\n",
      "                    \"address\": \"fe80::75fe:a194:e8a3:4cfa%utun1\",\n",
      "                    \"prefix\": \"64\",\n",
      "                    \"scope\": \"0xb\"\n",
      "                }\n",
      "            ],\n",
      "            \"macaddress\": \"unknown\",\n",
      "            \"mtu\": \"1380\",\n",
      "            \"options\": [\n",
      "                \"PERFORMNUD\",\n",
      "                \"DAD\"\n",
      "            ],\n",
      "            \"type\": \"unknown\"\n",
      "        },\n",
      "        \"ansible_virtualization_role\": \"\",\n",
      "        \"ansible_virtualization_type\": \"\",\n",
      "        \"gather_subset\": [\n",
      "            \"all\"\n",
      "        ],\n",
      "        \"module_setup\": true\n",
      "    },\n",
      "    \"changed\": false,\n",
      "    \"failed\": false\n",
      "}\n"
     ]
    }
   ],
   "source": [
    "%%bash\n",
    "ansible localhost -m setup"
   ]
  },
  {
   "cell_type": "code",
   "execution_count": 25,
   "metadata": {
    "slideshow": {
     "slide_type": "slide"
    }
   },
   "outputs": [
    {
     "name": "stdout",
     "output_type": "stream",
     "text": [
      "arborian-01.class.arborian.com | SUCCESS => {\n",
      "    \"ansible_facts\": {\n",
      "        \"ansible_interfaces\": [\n",
      "            \"lo\",\n",
      "            \"eth0\"\n",
      "        ]\n",
      "    },\n",
      "    \"changed\": false,\n",
      "    \"failed\": false\n",
      "}\n",
      "arborian-02.class.arborian.com | SUCCESS => {\n",
      "    \"ansible_facts\": {\n",
      "        \"ansible_interfaces\": [\n",
      "            \"lo\",\n",
      "            \"eth0\"\n",
      "        ]\n",
      "    },\n",
      "    \"changed\": false,\n",
      "    \"failed\": false\n",
      "}\n"
     ]
    }
   ],
   "source": [
    "%%bash\n",
    "ansible web -m setup -a 'filter=ansible_interfaces'"
   ]
  },
  {
   "cell_type": "markdown",
   "metadata": {
    "slideshow": {
     "slide_type": "slide"
    }
   },
   "source": [
    "Once we have these facts, we can use them in subsequent tasks (`setup` is always run at the beginning of the play)."
   ]
  },
  {
   "cell_type": "code",
   "execution_count": 26,
   "metadata": {
    "slideshow": {
     "slide_type": "fragment"
    }
   },
   "outputs": [
    {
     "name": "stdout",
     "output_type": "stream",
     "text": [
      "- hosts: web\r\n",
      "  tasks:\r\n",
      "  - name: Create a file using some facts\r\n",
      "    template: src=templates/dump-facts.j2 dest=~/dump-facts.txt\r\n"
     ]
    }
   ],
   "source": [
    "cat playbooks/dump-facts.yaml"
   ]
  },
  {
   "cell_type": "code",
   "execution_count": 27,
   "metadata": {
    "slideshow": {
     "slide_type": "fragment"
    }
   },
   "outputs": [
    {
     "name": "stdout",
     "output_type": "stream",
     "text": [
      "ansible_cmdline:\r\n",
      "{% for k, v in ansible_cmdline.items() %}\r\n",
      "    {{ k }}: {{ v }}\r\n",
      "{% endfor %}\r\n",
      "\r\n",
      "\r\n",
      "ansible_default_ipv4:\r\n",
      "{% for k, v in ansible_default_ipv4.items() %}\r\n",
      "    {{ k }}: {{ v }}\r\n",
      "{% endfor %}"
     ]
    }
   ],
   "source": [
    "cat templates/dump-facts.j2"
   ]
  },
  {
   "cell_type": "code",
   "execution_count": 28,
   "metadata": {},
   "outputs": [
    {
     "name": "stdout",
     "output_type": "stream",
     "text": [
      "Process is interrupted.\n"
     ]
    }
   ],
   "source": [
    "%%bash\n",
    "ansible-playbook playbooks/dump-facts.yaml"
   ]
  },
  {
   "cell_type": "markdown",
   "metadata": {
    "slideshow": {
     "slide_type": "slide"
    }
   },
   "source": [
    "# Building bigger playbooks\n",
    "\n",
    "Ansible encourages reuse by letting you `import_tasks` into a playbook. You can also set variables when you do so, as in `make-roster.yaml`:"
   ]
  },
  {
   "cell_type": "code",
   "execution_count": 29,
   "metadata": {
    "slideshow": {
     "slide_type": "fragment"
    }
   },
   "outputs": [
    {
     "name": "stdout",
     "output_type": "stream",
     "text": [
      "- hosts: arborian-01.class.arborian.com\r\n",
      "  become: true\r\n",
      "  tasks:\r\n",
      "    - name: Ensure file exists\r\n",
      "      file: path=~/roster.txt state=touch\r\n",
      "    - name: Include rick\r\n",
      "      include: tasks/roster-user.yaml name=\"Rick Copeland\" email=\"rick@arborian.com\" regexp=rick\r\n"
     ]
    }
   ],
   "source": [
    "cat playbooks/books/make-roster.yaml"
   ]
  },
  {
   "cell_type": "code",
   "execution_count": 30,
   "metadata": {
    "slideshow": {
     "slide_type": "fragment"
    }
   },
   "outputs": [
    {
     "name": "stdout",
     "output_type": "stream",
     "text": [
      "- name: Add user to roster\r\n",
      "  lineinfile: line=\"{{name}} {{email}}\" dest=~/roster.txt regexp={{regexp}}\r\n"
     ]
    }
   ],
   "source": [
    "cat tasks/roster-user.yaml"
   ]
  },
  {
   "cell_type": "code",
   "execution_count": 34,
   "metadata": {
    "slideshow": {
     "slide_type": "slide"
    }
   },
   "outputs": [
    {
     "name": "stdout",
     "output_type": "stream",
     "text": [
      "\n",
      "PLAY [arborian-01.class.arborian.com] ******************************************\n",
      "\n",
      "TASK [Gathering Facts] *********************************************************\n",
      "ok: [arborian-01.class.arborian.com]\n",
      "\n",
      "TASK [Ensure file exists] ******************************************************\n",
      "changed: [arborian-01.class.arborian.com]\n",
      "\n",
      "TASK [Add user to roster] ******************************************************\n",
      "changed: [arborian-01.class.arborian.com]\n",
      "\n",
      "PLAY RECAP *********************************************************************\n",
      "arborian-01.class.arborian.com : ok=3    changed=2    unreachable=0    failed=0   \n",
      "\n"
     ]
    }
   ],
   "source": [
    "%%bash\n",
    "ansible-playbook playbooks/make-roster.yaml"
   ]
  },
  {
   "cell_type": "markdown",
   "metadata": {
    "slideshow": {
     "slide_type": "slide"
    }
   },
   "source": [
    "We can also use variables and loops when doing our includes via the `with_items` key, as in make-roster2.yaml, but in this case we must use `include_tasks`:"
   ]
  },
  {
   "cell_type": "code",
   "execution_count": 37,
   "metadata": {
    "slideshow": {
     "slide_type": "fragment"
    }
   },
   "outputs": [
    {
     "name": "stdout",
     "output_type": "stream",
     "text": [
      "- hosts: arborian-01.class.arborian.com\r\n",
      "  become: true\r\n",
      "  vars:\r\n",
      "    users:\r\n",
      "        - name: Rick Copeland\r\n",
      "          email: rick@arborian.com\r\n",
      "          regexp: rick\r\n",
      "  tasks:\r\n",
      "    - name: Ensure file exists\r\n",
      "      file: path=~/roster.txt state=touch\r\n",
      "    - name: Perform some dynamic includes\r\n",
      "      include_tasks: \"tasks/roster-user.yaml name={{item.name}} email={{item.email}} regexp={{item.regexp}}\"\r\n",
      "      with_items: '{{users}}'\r\n"
     ]
    }
   ],
   "source": [
    "cat playbooks/make-roster2.yaml"
   ]
  },
  {
   "cell_type": "code",
   "execution_count": 39,
   "metadata": {
    "scrolled": true,
    "slideshow": {
     "slide_type": "fragment"
    }
   },
   "outputs": [
    {
     "name": "stdout",
     "output_type": "stream",
     "text": [
      "\n",
      "PLAY [arborian-01.class.arborian.com] ******************************************\n",
      "\n",
      "TASK [Gathering Facts] *********************************************************\n",
      "ok: [arborian-01.class.arborian.com]\n",
      "\n",
      "TASK [Ensure file exists] ******************************************************\n",
      "fatal: [arborian-01.class.arborian.com]: UNREACHABLE! => {\"changed\": false, \"msg\": \"Failed to connect to the host via ssh: mux_client_request_session: read from master failed: Broken pipe\\r\\nConnection timed out during banner exchange\\r\\n\", \"unreachable\": true}\n",
      "\tto retry, use: --limit @/Users/rick446/src/Classes/Ansible/playbooks/make-roster2.retry\n",
      "\n",
      "PLAY RECAP *********************************************************************\n",
      "arborian-01.class.arborian.com : ok=1    changed=0    unreachable=1    failed=0   \n",
      "\n"
     ]
    }
   ],
   "source": [
    "%%bash\n",
    "ansible-playbook playbooks/make-roster2.yaml"
   ]
  },
  {
   "cell_type": "markdown",
   "metadata": {
    "slideshow": {
     "slide_type": "slide"
    }
   },
   "source": [
    "Finally, there's an alternate syntax we can use for the arguments to `include_tasks`:"
   ]
  },
  {
   "cell_type": "code",
   "execution_count": 40,
   "metadata": {
    "slideshow": {
     "slide_type": "fragment"
    }
   },
   "outputs": [
    {
     "name": "stdout",
     "output_type": "stream",
     "text": [
      "- hosts: arborian-01.class.arborian.com\r\n",
      "  become: true\r\n",
      "  vars:\r\n",
      "    users:\r\n",
      "        - name: Rick Copeland\r\n",
      "          email: rick@arborian.com\r\n",
      "          regexp: rick\r\n",
      "  tasks:\r\n",
      "    - name: Ensure file exists\r\n",
      "      file: path=~/roster.txt state=touch\r\n",
      "    - name: Perform some dynamic includes\r\n",
      "      include_tasks: ../tasks/roster-user.yaml\r\n",
      "      vars:\r\n",
      "        name: \"{{item.name}}\"\r\n",
      "        email: \"{{item.email}}\"\r\n",
      "        regexp: \"{{item.regexp}}\"\r\n",
      "      with_items: '{{users}}'\r\n"
     ]
    }
   ],
   "source": [
    "cat playbooks/make-roster3.yaml"
   ]
  },
  {
   "cell_type": "code",
   "execution_count": 41,
   "metadata": {
    "slideshow": {
     "slide_type": "fragment"
    }
   },
   "outputs": [
    {
     "name": "stdout",
     "output_type": "stream",
     "text": [
      "\n",
      "PLAY [arborian-01.class.arborian.com] ******************************************\n",
      "\n",
      "TASK [Gathering Facts] *********************************************************\n",
      "ok: [arborian-01.class.arborian.com]\n",
      "\n",
      "TASK [Ensure file exists] ******************************************************\n",
      "changed: [arborian-01.class.arborian.com]\n",
      "\n",
      "TASK [Perform some dynamic includes] *******************************************\n",
      "included: /Users/rick446/src/Classes/Ansible/tasks/roster-user.yaml for arborian-01.class.arborian.com\n",
      "\n",
      "TASK [Add user to roster] ******************************************************\n",
      "ok: [arborian-01.class.arborian.com]\n",
      "\n",
      "PLAY RECAP *********************************************************************\n",
      "arborian-01.class.arborian.com : ok=4    changed=1    unreachable=0    failed=0   \n",
      "\n"
     ]
    }
   ],
   "source": [
    "%%bash\n",
    "ansible-playbook playbooks/make-roster3.yaml"
   ]
  },
  {
   "cell_type": "markdown",
   "metadata": {
    "slideshow": {
     "slide_type": "slide"
    }
   },
   "source": [
    "# Lab: Add yourself to the roster\n",
    "\n",
    "Using the `make-roster.yaml` files as templates, create a class roster in your home directory on arborian-01.class.arborian.com"
   ]
  },
  {
   "cell_type": "markdown",
   "metadata": {
    "slideshow": {
     "slide_type": "slide"
    }
   },
   "source": [
    "# Some reference information"
   ]
  },
  {
   "cell_type": "markdown",
   "metadata": {
    "slideshow": {
     "slide_type": "slide"
    }
   },
   "source": [
    "# Anatomy of a Play\n",
    "\n",
    "A play has several different keys which may be present:\n",
    "\n",
    "- `hosts` - list the hosts on which this play should run\n",
    "- `tasks` - list of tasks to run\n",
    "- `handlers` - list of handlers to run *if notified by a task*\n",
    "- `gather_facts` - allows you to disable running `setup` on each host at the beginning of a play\n",
    "- `become` - if True, become root during the play\n",
    "- `remote_user` - override the default remote_user\n",
    "- `vars` - variables which can be used later via Jinja\n",
    "- `vars_prompt` - variables whose values can be interactively prompted for\n"
   ]
  },
  {
   "cell_type": "markdown",
   "metadata": {
    "slideshow": {
     "slide_type": "slide"
    }
   },
   "source": [
    "# Task Modifiers\n",
    "\n",
    "- `when` - only execute the task when the condition is true\n",
    "- `with_items` - repeat the task with each of the items listed\n",
    "- `with_nested` - nested loops of tasks\n",
    "- `with_dict` - iterate over items in a hash (`item.key` and `item.value` are available each iteration)\n",
    "- `with_...` - many other ways to repeat tasks (see http://docs.ansible.com/ansible/latest/playbooks_loops.html for a full list)\n",
    "- `with_fileglob` - iterate over a globbed list of files\n",
    "- `with_filetree` - iterate over all files in a tree\n",
    "- `register` - the result of this task gets put in a variable to be used in a later task"
   ]
  }
 ],
 "metadata": {
  "celltoolbar": "Slideshow",
  "kernelspec": {
   "display_name": "Python 3",
   "language": "python",
   "name": "python3"
  },
  "language_info": {
   "codemirror_mode": {
    "name": "ipython",
    "version": 3
   },
   "file_extension": ".py",
   "mimetype": "text/x-python",
   "name": "python",
   "nbconvert_exporter": "python",
   "pygments_lexer": "ipython3",
   "version": "3.6.0"
  }
 },
 "nbformat": 4,
 "nbformat_minor": 2
}
