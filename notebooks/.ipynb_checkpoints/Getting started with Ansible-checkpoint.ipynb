{
 "cells": [
  {
   "cell_type": "markdown",
   "metadata": {
    "slideshow": {
     "slide_type": "slide"
    }
   },
   "source": [
    "# Getting Started with Ansible"
   ]
  },
  {
   "cell_type": "markdown",
   "metadata": {
    "slideshow": {
     "slide_type": "slide"
    }
   },
   "source": [
    "# Why and How of Ansible\n",
    "\n",
    "- Manages the configuration of \n",
    "- Python library / tool\n",
    "- \"Push\" model (generally via ssh)\n",
    "- Managed hosts need minimal \"bootstrapping\"\n",
    "  - Puppet, Chef, Salt, etc. all need an agent on the managed host.\n",
    "  - Ansible only needs sshd (Python is helpful, as well, but we can bootstrap that)"
   ]
  },
  {
   "cell_type": "markdown",
   "metadata": {
    "slideshow": {
     "slide_type": "slide"
    }
   },
   "source": [
    "# Ansible Inventory\n",
    "\n",
    "Ansible needs to know which hosts it manages. For this, it uses an *inventory*."
   ]
  },
  {
   "cell_type": "markdown",
   "metadata": {
    "slideshow": {
     "slide_type": "fragment"
    }
   },
   "source": [
    "## Static inventory\n",
    "\n",
    "A static inventory is just a text file (by default, `/etc/ansible/hosts`, but we'll change that). \n",
    "\n",
    "The inventory lists the hosts that Ansible will manage, optionally collecting them into groups.\n",
    "One example is in the class repository as `inventory`:\n",
    "\n",
    "```\n",
    "[web]\n",
    "arborian-01.class.arborian.com\n",
    "arborian-02.class.arborian.com\n",
    "\n",
    "[db]\n",
    "arborian-03.class.arborian.com\n",
    "arborian-04.class.arborian.com\n",
    "\n",
    "[app]\n",
    "arborian-05.class.arborian.com\n",
    "arborian-06.class.arborian.com\n",
    "```"
   ]
  },
  {
   "cell_type": "markdown",
   "metadata": {
    "slideshow": {
     "slide_type": "slide"
    }
   },
   "source": [
    "# Inventory: Dynamic Inventory\n",
    "\n",
    "We can also use Python modules to create our inventory programmatically (as when we might want to enumerate all hosts on AWS, Azure, or Google Compute Engine)\n",
    "\n",
    "Any inventory file that is executable will be run to generate an inventory JSON result when fed certain command-line arguments.\n",
    "\n",
    "Some useful links:\n",
    "\n",
    "- [Dynamic Inventory](http://docs.ansible.com/ansible/intro_dynamic_inventory.html)\n",
    "- [Developing your own inventory script](http://docs.ansible.com/ansible/dev_guide/developing_inventory.html)"
   ]
  },
  {
   "cell_type": "markdown",
   "metadata": {
    "slideshow": {
     "slide_type": "slide"
    }
   },
   "source": [
    "# Ad-hoc Commands\n",
    "\n",
    "Ansible command line\n",
    "\n",
    "`ansible <host pattern> [options]`\n",
    "\n",
    "Frequently used options\n",
    "\n",
    "- `-m MODULE_NAME` (default is command)\n",
    "- `-a MODULE_ARGS`\n",
    "\n",
    "Frequently used host patterns\n",
    "\n",
    "- `localhost`\n",
    "- `all`\n",
    "- `GROUP-NAME` (one of the groupings from your inventory)"
   ]
  },
  {
   "cell_type": "code",
   "execution_count": 5,
   "metadata": {
    "slideshow": {
     "slide_type": "skip"
    }
   },
   "outputs": [
    {
     "name": "stdout",
     "output_type": "stream",
     "text": [
      "/Users/rick446/src/Classes/Ansible\n"
     ]
    }
   ],
   "source": [
    "cd ~/src/Classes/Ansible"
   ]
  },
  {
   "cell_type": "markdown",
   "metadata": {
    "slideshow": {
     "slide_type": "slide"
    }
   },
   "source": [
    "# Ad-hoc command demos\n",
    "\n",
    "The default module is `command`, so we can leave it out in the command line:"
   ]
  },
  {
   "cell_type": "code",
   "execution_count": 11,
   "metadata": {
    "slideshow": {
     "slide_type": "fragment"
    }
   },
   "outputs": [
    {
     "name": "stdout",
     "output_type": "stream",
     "text": [
      "localhost | SUCCESS | rc=0 >>\n",
      "hello\n"
     ]
    }
   ],
   "source": [
    "%%bash\n",
    "ansible localhost -m command -a 'echo \"hello\"'"
   ]
  },
  {
   "cell_type": "code",
   "execution_count": 12,
   "metadata": {
    "scrolled": true,
    "slideshow": {
     "slide_type": "fragment"
    }
   },
   "outputs": [
    {
     "name": "stdout",
     "output_type": "stream",
     "text": [
      "localhost | SUCCESS | rc=0 >>\n",
      "hello\n"
     ]
    }
   ],
   "source": [
    "%%bash\n",
    "ansible localhost -a 'echo \"hello\"'"
   ]
  },
  {
   "cell_type": "code",
   "execution_count": 13,
   "metadata": {
    "slideshow": {
     "slide_type": "subslide"
    }
   },
   "outputs": [
    {
     "name": "stdout",
     "output_type": "stream",
     "text": [
      "arborian-01.class.arborian.com | SUCCESS | rc=0 >>\n",
      "hi\n"
     ]
    }
   ],
   "source": [
    "%%bash\n",
    "ansible arborian-01.class.arborian.com -a 'echo \"hi\"'"
   ]
  },
  {
   "cell_type": "code",
   "execution_count": 14,
   "metadata": {
    "slideshow": {
     "slide_type": "fragment"
    }
   },
   "outputs": [
    {
     "name": "stdout",
     "output_type": "stream",
     "text": [
      "arborian-01.class.arborian.com | SUCCESS | rc=0 >>\n",
      "hi\n",
      "arborian-02.class.arborian.com | SUCCESS | rc=0 >>\n",
      "hi\n"
     ]
    }
   ],
   "source": [
    "%%bash\n",
    "ansible web -a 'echo \"hi\"'"
   ]
  },
  {
   "cell_type": "code",
   "execution_count": 15,
   "metadata": {
    "slideshow": {
     "slide_type": "fragment"
    }
   },
   "outputs": [
    {
     "name": "stdout",
     "output_type": "stream",
     "text": [
      "arborian-01.class.arborian.com | SUCCESS | rc=0 >>\n",
      "hi\n",
      "arborian-05.class.arborian.com | SUCCESS | rc=0 >>\n",
      "hi\n",
      "arborian-02.class.arborian.com | SUCCESS | rc=0 >>\n",
      "hi\n",
      "arborian-03.class.arborian.com | SUCCESS | rc=0 >>\n",
      "hi\n",
      "arborian-04.class.arborian.com | SUCCESS | rc=0 >>\n",
      "hi\n",
      "arborian-06.class.arborian.com | SUCCESS | rc=0 >>\n",
      "hi\n"
     ]
    }
   ],
   "source": [
    "%%bash\n",
    "ansible all -a 'echo \"hi\"'"
   ]
  },
  {
   "cell_type": "markdown",
   "metadata": {
    "slideshow": {
     "slide_type": "slide"
    }
   },
   "source": [
    "# Lab 1: Getting started with Ansible\n",
    "\n",
    "## Clone the class repository\n",
    "\n",
    "https://github.com/Arborian/ansible-class\n",
    "\n",
    "`git clone https://github.com/Arborian/ansible-class.git`\n",
    "\n",
    "## Install Ansible\n",
    "\n",
    "http://docs.ansible.com/ansible/latest/intro_installation.html\n",
    "\n",
    "(For Python users, you can also just `pip install ansible`)\n",
    "\n",
    "## Verify that you can execute some ad-hoc commands\n",
    "\n",
    "*Make sure you enter the directory where you've checked out the class repository*\n",
    "\n",
    "You'll need to unzip / decrypt the key files with the password given in class.\n",
    "\n",
    "- `ansible localhost -a 'echo hi'`\n",
    "- `ansible all -a 'echo hi'`\n",
    "\n"
   ]
  }
 ],
 "metadata": {
  "celltoolbar": "Slideshow",
  "kernelspec": {
   "display_name": "Python 3",
   "language": "python",
   "name": "python3"
  },
  "language_info": {
   "codemirror_mode": {
    "name": "ipython",
    "version": 3
   },
   "file_extension": ".py",
   "mimetype": "text/x-python",
   "name": "python",
   "nbconvert_exporter": "python",
   "pygments_lexer": "ipython3",
   "version": "3.6.0"
  }
 },
 "nbformat": 4,
 "nbformat_minor": 2
}
