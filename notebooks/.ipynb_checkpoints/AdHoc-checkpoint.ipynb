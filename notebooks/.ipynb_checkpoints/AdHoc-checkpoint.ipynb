{
 "cells": [
  {
   "cell_type": "markdown",
   "metadata": {
    "slideshow": {
     "slide_type": "slide"
    }
   },
   "source": [
    "# Ad-Hoc Commands"
   ]
  },
  {
   "cell_type": "markdown",
   "metadata": {
    "slideshow": {
     "slide_type": "slide"
    }
   },
   "source": [
    "# Ansible Configuration"
   ]
  },
  {
   "cell_type": "code",
   "execution_count": 2,
   "metadata": {
    "slideshow": {
     "slide_type": "skip"
    }
   },
   "outputs": [
    {
     "name": "stdout",
     "output_type": "stream",
     "text": [
      "/Users/rick446/src/Classes/Ansible\n"
     ]
    }
   ],
   "source": [
    "cd ~/src/Classes/Ansible"
   ]
  },
  {
   "cell_type": "code",
   "execution_count": 4,
   "metadata": {
    "slideshow": {
     "slide_type": "fragment"
    }
   },
   "outputs": [
    {
     "name": "stdout",
     "output_type": "stream",
     "text": [
      "[defaults]\r\n",
      "inventory = ./inventory\r\n",
      "remote_user = root\r\n",
      "private_key_file = ./training-ssh-key\r\n",
      "\r\n"
     ]
    }
   ],
   "source": [
    "cat ansible.cfg"
   ]
  },
  {
   "cell_type": "code",
   "execution_count": 5,
   "metadata": {
    "slideshow": {
     "slide_type": "fragment"
    }
   },
   "outputs": [
    {
     "name": "stdout",
     "output_type": "stream",
     "text": [
      "[web]\r\n",
      "arborian-01.class.arborian.com\r\n",
      "arborian-02.class.arborian.com\r\n",
      "\r\n",
      "[db]\r\n",
      "arborian-03.class.arborian.com\r\n",
      "arborian-04.class.arborian.com\r\n",
      "\r\n",
      "[app]\r\n",
      "arborian-05.class.arborian.com\r\n",
      "arborian-06.class.arborian.com\r\n"
     ]
    }
   ],
   "source": [
    "cat inventory"
   ]
  },
  {
   "cell_type": "markdown",
   "metadata": {
    "slideshow": {
     "slide_type": "slide"
    }
   },
   "source": [
    "# Commands Modules\n",
    "\n",
    "- command\n",
    "- expect\n",
    "- raw\n",
    "- script\n",
    "- shell\n",
    "- telnet"
   ]
  },
  {
   "cell_type": "markdown",
   "metadata": {
    "slideshow": {
     "slide_type": "slide"
    }
   },
   "source": [
    "We've already seen the `command` (default) module:"
   ]
  },
  {
   "cell_type": "code",
   "execution_count": 6,
   "metadata": {
    "slideshow": {
     "slide_type": "fragment"
    }
   },
   "outputs": [
    {
     "name": "stdout",
     "output_type": "stream",
     "text": [
      "arborian-02.class.arborian.com | SUCCESS | rc=0 >>\n",
      "arborian-02\n",
      "arborian-01.class.arborian.com | SUCCESS | rc=0 >>\n",
      "arborian-01\n"
     ]
    }
   ],
   "source": [
    "%%bash\n",
    "ansible web -m command -a 'hostname'"
   ]
  },
  {
   "cell_type": "markdown",
   "metadata": {
    "slideshow": {
     "slide_type": "slide"
    }
   },
   "source": [
    "The `raw` module can be used to 'bootstrap' Ansible:"
   ]
  },
  {
   "cell_type": "code",
   "execution_count": 9,
   "metadata": {
    "slideshow": {
     "slide_type": "fragment"
    }
   },
   "outputs": [
    {
     "name": "stdout",
     "output_type": "stream",
     "text": [
      "arborian-03.class.arborian.com | SUCCESS | rc=0 >>\n",
      "\r",
      "Reading package lists... 0%\r",
      "\r",
      "Reading package lists... 100%\r",
      "\r",
      "Reading package lists... Done\r",
      "\r\n",
      "\r",
      "Building dependency tree... 0%\r",
      "\r",
      "Building dependency tree... 0%\r",
      "\r",
      "Building dependency tree... 50%\r",
      "\r",
      "Building dependency tree... 50%\r",
      "\r",
      "Building dependency tree       \r",
      "\r\n",
      "\r",
      "Reading state information... 0%\r",
      "\r",
      "Reading state information... 3%\r",
      "\r",
      "Reading state information... Done\r",
      "\r\n",
      "python is already the newest version (2.7.11-1).\r\n",
      "python-simplejson is already the newest version (3.8.1-1ubuntu2).\r\n",
      "The following package was automatically installed and is no longer required:\r\n",
      "  grub-pc-bin\r\n",
      "Use 'apt autoremove' to remove it.\r\n",
      "0 upgraded, 0 newly installed, 0 to remove and 24 not upgraded.\r\n",
      "Shared connection to arborian-03.class.arborian.com closed.\r\n",
      "\n",
      "arborian-04.class.arborian.com | SUCCESS | rc=0 >>\n",
      "\r",
      "Reading package lists... 0%\r",
      "\r",
      "Reading package lists... 100%\r",
      "\r",
      "Reading package lists... Done\r",
      "\r\n",
      "\r",
      "Building dependency tree... 0%\r",
      "\r",
      "Building dependency tree... 0%\r",
      "\r",
      "Building dependency tree... 50%\r",
      "\r",
      "Building dependency tree... 50%\r",
      "\r",
      "Building dependency tree       \r",
      "\r\n",
      "\r",
      "Reading state information... 0%\r",
      "\r",
      "Reading state information... 3%\r",
      "\r",
      "Reading state information... Done\r",
      "\r\n",
      "python is already the newest version (2.7.11-1).\r\n",
      "python-simplejson is already the newest version (3.8.1-1ubuntu2).\r\n",
      "The following package was automatically installed and is no longer required:\r\n",
      "  grub-pc-bin\r\n",
      "Use 'apt autoremove' to remove it.\r\n",
      "0 upgraded, 0 newly installed, 0 to remove and 24 not upgraded.\r\n",
      "Shared connection to arborian-04.class.arborian.com closed.\r\n",
      "\n",
      "arborian-01.class.arborian.com | SUCCESS | rc=0 >>\n",
      "\r",
      "Reading package lists... 0%\r",
      "\r",
      "Reading package lists... 100%\r",
      "\r",
      "Reading package lists... Done\r",
      "\r\n",
      "\r",
      "Building dependency tree... 0%\r",
      "\r",
      "Building dependency tree... 0%\r",
      "\r",
      "Building dependency tree... 50%\r",
      "\r",
      "Building dependency tree... 50%\r",
      "\r",
      "Building dependency tree       \r",
      "\r\n",
      "\r",
      "Reading state information... 0%\r",
      "\r",
      "Reading state information... 3%\r",
      "\r",
      "Reading state information... Done\r",
      "\r\n",
      "python is already the newest version (2.7.11-1).\r\n",
      "python-simplejson is already the newest version (3.8.1-1ubuntu2).\r\n",
      "The following package was automatically installed and is no longer required:\r\n",
      "  grub-pc-bin\r\n",
      "Use 'apt autoremove' to remove it.\r\n",
      "0 upgraded, 0 newly installed, 0 to remove and 30 not upgraded.\r\n",
      "Shared connection to arborian-01.class.arborian.com closed.\r\n",
      "\n",
      "arborian-02.class.arborian.com | SUCCESS | rc=0 >>\n",
      "\r",
      "Reading package lists... 0%\r",
      "\r",
      "Reading package lists... 100%\r",
      "\r",
      "Reading package lists... Done\r",
      "\r\n",
      "\r",
      "Building dependency tree... 0%\r",
      "\r",
      "Building dependency tree... 0%\r",
      "\r",
      "Building dependency tree... 50%\r",
      "\r",
      "Building dependency tree... 50%\r",
      "\r",
      "Building dependency tree       \r",
      "\r\n",
      "\r",
      "Reading state information... 0%\r",
      "\r",
      "Reading state information... 3%\r",
      "\r",
      "Reading state information... Done\r",
      "\r\n",
      "python is already the newest version (2.7.11-1).\r\n",
      "python-simplejson is already the newest version (3.8.1-1ubuntu2).\r\n",
      "The following package was automatically installed and is no longer required:\r\n",
      "  grub-pc-bin\r\n",
      "Use 'apt autoremove' to remove it.\r\n",
      "0 upgraded, 0 newly installed, 0 to remove and 24 not upgraded.\r\n",
      "Shared connection to arborian-02.class.arborian.com closed.\r\n",
      "\n",
      "arborian-05.class.arborian.com | SUCCESS | rc=0 >>\n",
      "\r",
      "Reading package lists... 0%\r",
      "\r",
      "Reading package lists... 100%\r",
      "\r",
      "Reading package lists... Done\r",
      "\r\n",
      "\r",
      "Building dependency tree... 0%\r",
      "\r",
      "Building dependency tree... 0%\r",
      "\r",
      "Building dependency tree... 50%\r",
      "\r",
      "Building dependency tree... 50%\r",
      "\r",
      "Building dependency tree       \r",
      "\r\n",
      "\r",
      "Reading state information... 0%\r",
      "\r",
      "Reading state information... 3%\r",
      "\r",
      "Reading state information... Done\r",
      "\r\n",
      "python is already the newest version (2.7.11-1).\r\n",
      "python-simplejson is already the newest version (3.8.1-1ubuntu2).\r\n",
      "The following package was automatically installed and is no longer required:\r\n",
      "  grub-pc-bin\r\n",
      "Use 'apt autoremove' to remove it.\r\n",
      "0 upgraded, 0 newly installed, 0 to remove and 24 not upgraded.\r\n",
      "Shared connection to arborian-05.class.arborian.com closed.\r\n",
      "\n",
      "arborian-06.class.arborian.com | SUCCESS | rc=0 >>\n",
      "\r",
      "Reading package lists... 0%\r",
      "\r",
      "Reading package lists... 100%\r",
      "\r",
      "Reading package lists... Done\r",
      "\r\n",
      "\r",
      "Building dependency tree... 0%\r",
      "\r",
      "Building dependency tree... 0%\r",
      "\r",
      "Building dependency tree... 50%\r",
      "\r",
      "Building dependency tree... 50%\r",
      "\r",
      "Building dependency tree       \r",
      "\r\n",
      "\r",
      "Reading state information... 0%\r",
      "\r",
      "Reading state information... 3%\r",
      "\r",
      "Reading state information... Done\r",
      "\r\n",
      "python is already the newest version (2.7.11-1).\r\n",
      "python-simplejson is already the newest version (3.8.1-1ubuntu2).\r\n",
      "The following package was automatically installed and is no longer required:\r\n",
      "  grub-pc-bin\r\n",
      "Use 'apt autoremove' to remove it.\r\n",
      "0 upgraded, 0 newly installed, 0 to remove and 24 not upgraded.\r\n",
      "Shared connection to arborian-06.class.arborian.com closed.\r\n",
      "\n"
     ]
    }
   ],
   "source": [
    "%%bash\n",
    "# -- become is technically unnecessary here because we set the default user to be 'root'\n",
    "ansible all --become -m raw -a \"apt install -y python python-simplejson\""
   ]
  },
  {
   "cell_type": "markdown",
   "metadata": {
    "slideshow": {
     "slide_type": "slide"
    }
   },
   "source": [
    "We can use the `shell` module to execute commands in a particular shell:"
   ]
  },
  {
   "cell_type": "code",
   "execution_count": 13,
   "metadata": {},
   "outputs": [
    {
     "name": "stdout",
     "output_type": "stream",
     "text": [
      "localhost | SUCCESS | rc=0 >>\n",
      "faramir.local rick446\n"
     ]
    }
   ],
   "source": [
    "%%bash\n",
    "ansible localhost -m shell -a 'echo $(hostname) $USER'"
   ]
  },
  {
   "cell_type": "code",
   "execution_count": 18,
   "metadata": {},
   "outputs": [
    {
     "name": "stdout",
     "output_type": "stream",
     "text": [
      "localhost | FAILED | rc=127 >>\n",
      "/bin/sh: echo faramir.local rick446: command not foundnon-zero return code\n"
     ]
    }
   ],
   "source": [
    "%%bash\n",
    "ansible localhost -m shell -a 'executable=/bin/sh \"echo $(hostname) $USER\"'"
   ]
  },
  {
   "cell_type": "markdown",
   "metadata": {
    "slideshow": {
     "slide_type": "slide"
    }
   },
   "source": [
    "# Misc. Modules"
   ]
  },
  {
   "cell_type": "markdown",
   "metadata": {},
   "source": [
    "## Ping\n",
    "\n",
    "Check to see if the host is up and the Ansible system is working there"
   ]
  },
  {
   "cell_type": "code",
   "execution_count": 19,
   "metadata": {
    "slideshow": {
     "slide_type": "fragment"
    }
   },
   "outputs": [
    {
     "name": "stdout",
     "output_type": "stream",
     "text": [
      "arborian-02.class.arborian.com | SUCCESS => {\n",
      "    \"changed\": false,\n",
      "    \"failed\": false,\n",
      "    \"ping\": \"pong\"\n",
      "}\n",
      "arborian-01.class.arborian.com | SUCCESS => {\n",
      "    \"changed\": false,\n",
      "    \"failed\": false,\n",
      "    \"ping\": \"pong\"\n",
      "}\n",
      "arborian-03.class.arborian.com | SUCCESS => {\n",
      "    \"changed\": false,\n",
      "    \"failed\": false,\n",
      "    \"ping\": \"pong\"\n",
      "}\n",
      "arborian-05.class.arborian.com | SUCCESS => {\n",
      "    \"changed\": false,\n",
      "    \"failed\": false,\n",
      "    \"ping\": \"pong\"\n",
      "}\n",
      "arborian-06.class.arborian.com | SUCCESS => {\n",
      "    \"changed\": false,\n",
      "    \"failed\": false,\n",
      "    \"ping\": \"pong\"\n",
      "}\n",
      "arborian-04.class.arborian.com | SUCCESS => {\n",
      "    \"changed\": false,\n",
      "    \"failed\": false,\n",
      "    \"ping\": \"pong\"\n",
      "}\n"
     ]
    }
   ],
   "source": [
    "%%bash\n",
    "ansible all -m ping "
   ]
  },
  {
   "cell_type": "markdown",
   "metadata": {
    "slideshow": {
     "slide_type": "slide"
    }
   },
   "source": [
    "# Setup\n",
    "\n",
    "Gather facts about the host"
   ]
  },
  {
   "cell_type": "code",
   "execution_count": 21,
   "metadata": {
    "slideshow": {
     "slide_type": "fragment"
    }
   },
   "outputs": [
    {
     "name": "stdout",
     "output_type": "stream",
     "text": [
      "localhost | SUCCESS => {\n",
      "    \"ansible_facts\": {\n",
      "        \"ansible_all_ipv4_addresses\": [\n",
      "            \"172.18.80.125\"\n",
      "        ],\n",
      "        \"ansible_all_ipv6_addresses\": [\n",
      "            \"fe80::2815:7cff:fe63:cf6c%awdl0\",\n",
      "            \"fe80::9822:2add:c15d:ecd3%utun0\",\n",
      "            \"fe80::75fe:a194:e8a3:4cfa%utun1\"\n",
      "        ],\n",
      "        \"ansible_apparmor\": {\n",
      "            \"status\": \"disabled\"\n",
      "        },\n",
      "        \"ansible_architecture\": \"x86_64\",\n",
      "        \"ansible_awdl0\": {\n",
      "            \"device\": \"awdl0\",\n",
      "            \"flags\": [\n",
      "                \"UP\",\n",
      "                \"BROADCAST\",\n",
      "                \"RUNNING\",\n",
      "                \"PROMISC\",\n",
      "                \"SIMPLEX\",\n",
      "                \"MULTICAST\"\n",
      "            ],\n",
      "            \"ipv4\": [],\n",
      "            \"ipv6\": [\n",
      "                {\n",
      "                    \"address\": \"fe80::2815:7cff:fe63:cf6c%awdl0\",\n",
      "                    \"prefix\": \"64\",\n",
      "                    \"scope\": \"0x8\"\n",
      "                }\n",
      "            ],\n",
      "            \"macaddress\": \"2a:15:7c:63:cf:6c\",\n",
      "            \"media\": \"Unknown\",\n",
      "            \"media_select\": \"autoselect\",\n",
      "            \"mtu\": \"1484\",\n",
      "            \"options\": [\n",
      "                \"PERFORMNUD\",\n",
      "                \"DAD\"\n",
      "            ],\n",
      "            \"status\": \"active\",\n",
      "            \"type\": \"ether\"\n",
      "        },\n",
      "        \"ansible_bridge0\": {\n",
      "            \"device\": \"bridge0\",\n",
      "            \"flags\": [\n",
      "                \"UP\",\n",
      "                \"BROADCAST\",\n",
      "                \"SMART\",\n",
      "                \"RUNNING\",\n",
      "                \"SIMPLEX\",\n",
      "                \"MULTICAST\"\n",
      "            ],\n",
      "            \"ipv4\": [],\n",
      "            \"ipv6\": [],\n",
      "            \"macaddress\": \"6a:00:02:2e:02:c0\",\n",
      "            \"media\": \"Unknown\",\n",
      "            \"media_select\": \"Unknown\",\n",
      "            \"media_type\": \"unknown type\",\n",
      "            \"mtu\": \"1500\",\n",
      "            \"options\": [\n",
      "                \"PERFORMNUD\",\n",
      "                \"DAD\"\n",
      "            ],\n",
      "            \"status\": \"inactive\",\n",
      "            \"type\": \"ether\"\n",
      "        },\n",
      "        \"ansible_date_time\": {\n",
      "            \"date\": \"2017-10-11\",\n",
      "            \"day\": \"11\",\n",
      "            \"epoch\": \"1507750838\",\n",
      "            \"hour\": \"15\",\n",
      "            \"iso8601\": \"2017-10-11T19:40:38Z\",\n",
      "            \"iso8601_basic\": \"20171011T154038182663\",\n",
      "            \"iso8601_basic_short\": \"20171011T154038\",\n",
      "            \"iso8601_micro\": \"2017-10-11T19:40:38.182772Z\",\n",
      "            \"minute\": \"40\",\n",
      "            \"month\": \"10\",\n",
      "            \"second\": \"38\",\n",
      "            \"time\": \"15:40:38\",\n",
      "            \"tz\": \"EDT\",\n",
      "            \"tz_offset\": \"-0400\",\n",
      "            \"weekday\": \"Wednesday\",\n",
      "            \"weekday_number\": \"3\",\n",
      "            \"weeknumber\": \"41\",\n",
      "            \"year\": \"2017\"\n",
      "        },\n",
      "        \"ansible_default_ipv4\": {\n",
      "            \"address\": \"172.18.80.125\",\n",
      "            \"broadcast\": \"172.18.80.127\",\n",
      "            \"device\": \"en0\",\n",
      "            \"flags\": [\n",
      "                \"UP\",\n",
      "                \"BROADCAST\",\n",
      "                \"SMART\",\n",
      "                \"RUNNING\",\n",
      "                \"SIMPLEX\",\n",
      "                \"MULTICAST\"\n",
      "            ],\n",
      "            \"gateway\": \"172.18.80.65\",\n",
      "            \"interface\": \"en0\",\n",
      "            \"macaddress\": \"98:01:a7:99:07:a3\",\n",
      "            \"media\": \"Unknown\",\n",
      "            \"media_select\": \"autoselect\",\n",
      "            \"mtu\": \"1500\",\n",
      "            \"netmask\": \"255.255.255.192\",\n",
      "            \"network\": \"172.18.80.64\",\n",
      "            \"status\": \"active\",\n",
      "            \"type\": \"ether\"\n",
      "        },\n",
      "        \"ansible_default_ipv6\": {},\n",
      "        \"ansible_distribution\": \"MacOSX\",\n",
      "        \"ansible_distribution_release\": \"16.7.0\",\n",
      "        \"ansible_distribution_version\": \"10.12.6\",\n",
      "        \"ansible_dns\": {\n",
      "            \"nameservers\": [\n",
      "                \"172.18.80.65\"\n",
      "            ]\n",
      "        },\n",
      "        \"ansible_domain\": \"local\",\n",
      "        \"ansible_effective_group_id\": 20,\n",
      "        \"ansible_effective_user_id\": 501,\n",
      "        \"ansible_en0\": {\n",
      "            \"device\": \"en0\",\n",
      "            \"flags\": [\n",
      "                \"UP\",\n",
      "                \"BROADCAST\",\n",
      "                \"SMART\",\n",
      "                \"RUNNING\",\n",
      "                \"SIMPLEX\",\n",
      "                \"MULTICAST\"\n",
      "            ],\n",
      "            \"ipv4\": [\n",
      "                {\n",
      "                    \"address\": \"172.18.80.125\",\n",
      "                    \"broadcast\": \"172.18.80.127\",\n",
      "                    \"netmask\": \"255.255.255.192\",\n",
      "                    \"network\": \"172.18.80.64\"\n",
      "                }\n",
      "            ],\n",
      "            \"ipv6\": [],\n",
      "            \"macaddress\": \"98:01:a7:99:07:a3\",\n",
      "            \"media\": \"Unknown\",\n",
      "            \"media_select\": \"autoselect\",\n",
      "            \"mtu\": \"1500\",\n",
      "            \"status\": \"active\",\n",
      "            \"type\": \"ether\"\n",
      "        },\n",
      "        \"ansible_en1\": {\n",
      "            \"device\": \"en1\",\n",
      "            \"flags\": [\n",
      "                \"UP\",\n",
      "                \"BROADCAST\",\n",
      "                \"SMART\",\n",
      "                \"RUNNING\",\n",
      "                \"PROMISC\",\n",
      "                \"SIMPLEX\"\n",
      "            ],\n",
      "            \"ipv4\": [],\n",
      "            \"ipv6\": [],\n",
      "            \"macaddress\": \"6a:00:02:2e:02:c1\",\n",
      "            \"media\": \"Unknown\",\n",
      "            \"media_select\": \"autoselect\",\n",
      "            \"media_type\": \"full-duplex\",\n",
      "            \"mtu\": \"1500\",\n",
      "            \"options\": [\n",
      "                \"TSO4\",\n",
      "                \"TSO6\"\n",
      "            ],\n",
      "            \"status\": \"inactive\",\n",
      "            \"type\": \"ether\"\n",
      "        },\n",
      "        \"ansible_en2\": {\n",
      "            \"device\": \"en2\",\n",
      "            \"flags\": [\n",
      "                \"UP\",\n",
      "                \"BROADCAST\",\n",
      "                \"SMART\",\n",
      "                \"RUNNING\",\n",
      "                \"PROMISC\",\n",
      "                \"SIMPLEX\"\n",
      "            ],\n",
      "            \"ipv4\": [],\n",
      "            \"ipv6\": [],\n",
      "            \"macaddress\": \"6a:00:02:2e:02:c0\",\n",
      "            \"media\": \"Unknown\",\n",
      "            \"media_select\": \"autoselect\",\n",
      "            \"media_type\": \"full-duplex\",\n",
      "            \"mtu\": \"1500\",\n",
      "            \"options\": [\n",
      "                \"TSO4\",\n",
      "                \"TSO6\"\n",
      "            ],\n",
      "            \"status\": \"inactive\",\n",
      "            \"type\": \"ether\"\n",
      "        },\n",
      "        \"ansible_env\": {\n",
      "            \"Apple_PubSub_Socket_Render\": \"/private/tmp/com.apple.launchd.QKdFjhlTah/Render\",\n",
      "            \"CLICOLOR\": \"1\",\n",
      "            \"COLORFGBG\": \"7;0\",\n",
      "            \"COLORTERM\": \"truecolor\",\n",
      "            \"COMMAND_MODE\": \"unix2003\",\n",
      "            \"DISPLAY\": \"/private/tmp/com.apple.launchd.aYC8Ldg2d1/org.macosforge.xquartz:0\",\n",
      "            \"EDITOR\": \"subl -w\",\n",
      "            \"GIT_PAGER\": \"cat\",\n",
      "            \"HOME\": \"/Users/rick446\",\n",
      "            \"HOMEBREW_GITHUB_API_TOKEN\": \"5ee69dc00ccd37a0e429933823f1b99b82c94ecd\",\n",
      "            \"ITERM_PROFILE\": \"Default\",\n",
      "            \"ITERM_SESSION_ID\": \"w1t0p0:E06106B6-7DE8-456A-9228-5E567D41100C\",\n",
      "            \"JPY_PARENT_PID\": \"26048\",\n",
      "            \"LANG\": \"en_US.UTF-8\",\n",
      "            \"LOGNAME\": \"rick446\",\n",
      "            \"MPLBACKEND\": \"module://ipykernel.pylab.backend_inline\",\n",
      "            \"NODE_PATH\": \":/usr/local/lib/node_modules\",\n",
      "            \"PAGER\": \"cat\",\n",
      "            \"PATH\": \"/Users/rick446/.virtualenvs/ansible/bin:/Users/rick446/.virtualenvs/ansible/bin:/usr/local/heroku/bin:/usr/local/bin:/usr/local/share/python:/usr/bin:/bin:/usr/sbin:/sbin:/usr/local/bin:/opt/X11/bin:/Library/TeX/texbin:/Users/rick446/bin:/Users/rick446/bin\",\n",
      "            \"PWD\": \"/Users/rick446/src/Classes/Ansible\",\n",
      "            \"SECURITYSESSIONID\": \"186a7\",\n",
      "            \"SHELL\": \"/bin/bash\",\n",
      "            \"SHLVL\": \"4\",\n",
      "            \"SSH_AUTH_SOCK\": \"/private/tmp/com.apple.launchd.S9qFWTCjEw/Listeners\",\n",
      "            \"TERM\": \"xterm-color\",\n",
      "            \"TERM_PROGRAM\": \"iTerm.app\",\n",
      "            \"TERM_PROGRAM_VERSION\": \"3.1.1\",\n",
      "            \"TERM_SESSION_ID\": \"w1t0p0:E06106B6-7DE8-456A-9228-5E567D41100C\",\n",
      "            \"TMPDIR\": \"/var/folders/9k/n5kcz5zn0yn6y3xcbv2kfxhr0000gn/T/\",\n",
      "            \"USER\": \"rick446\",\n",
      "            \"VIRTUALENVWRAPPER_HOOK_DIR\": \"/Users/rick446/.virtualenvs\",\n",
      "            \"VIRTUALENVWRAPPER_LOG_DIR\": \"/Users/rick446/.virtualenvs\",\n",
      "            \"VIRTUALENVWRAPPER_PROJECT_FILENAME\": \".project\",\n",
      "            \"VIRTUAL_ENV\": \"/Users/rick446/.virtualenvs/ansible\",\n",
      "            \"VISUAL\": \"subl -w\",\n",
      "            \"WORKON_HOME\": \"/Users/rick446/.virtualenvs\",\n",
      "            \"XPC_FLAGS\": \"0x0\",\n",
      "            \"XPC_SERVICE_NAME\": \"0\",\n",
      "            \"_\": \"/Users/rick446/.virtualenvs/ansible/bin/python3.6\",\n",
      "            \"__CF_USER_TEXT_ENCODING\": \"0x1F5:0x0:0x0\"\n",
      "        },\n",
      "        \"ansible_fips\": false,\n",
      "        \"ansible_fqdn\": \"faramir.local\",\n",
      "        \"ansible_gif0\": {\n",
      "            \"device\": \"gif0\",\n",
      "            \"flags\": [\n",
      "                \"POINTOPOINT\",\n",
      "                \"MULTICAST\"\n",
      "            ],\n",
      "            \"ipv4\": [],\n",
      "            \"ipv6\": [],\n",
      "            \"macaddress\": \"unknown\",\n",
      "            \"mtu\": \"1280\",\n",
      "            \"type\": \"unknown\"\n",
      "        },\n",
      "        \"ansible_hostname\": \"faramir\",\n",
      "        \"ansible_interfaces\": [\n",
      "            \"awdl0\",\n",
      "            \"bridge0\",\n",
      "            \"en0\",\n",
      "            \"en1\",\n",
      "            \"en2\",\n",
      "            \"gif0\",\n",
      "            \"lo0\",\n",
      "            \"p2p0\",\n",
      "            \"stf0\",\n",
      "            \"utun0\",\n",
      "            \"utun1\"\n",
      "        ],\n",
      "        \"ansible_kernel\": \"16.7.0\",\n",
      "        \"ansible_lo0\": {\n",
      "            \"device\": \"lo0\",\n",
      "            \"flags\": [\n",
      "                \"UP\",\n",
      "                \"LOOPBACK\",\n",
      "                \"RUNNING\",\n",
      "                \"MULTICAST\"\n",
      "            ],\n",
      "            \"ipv4\": [\n",
      "                {\n",
      "                    \"address\": \"127.0.0.1\",\n",
      "                    \"broadcast\": \"127.255.255.255\",\n",
      "                    \"netmask\": \"255.0.0.0\",\n",
      "                    \"network\": \"127.0.0.0\"\n",
      "                }\n",
      "            ],\n",
      "            \"ipv6\": [\n",
      "                {\n",
      "                    \"address\": \"::1\",\n",
      "                    \"prefix\": \"128\"\n",
      "                },\n",
      "                {\n",
      "                    \"address\": \"fe80::1%lo0\",\n",
      "                    \"prefix\": \"64\",\n",
      "                    \"scope\": \"0x1\"\n",
      "                }\n",
      "            ],\n",
      "            \"macaddress\": \"unknown\",\n",
      "            \"mtu\": \"16384\",\n",
      "            \"options\": [\n",
      "                \"PERFORMNUD\",\n",
      "                \"DAD\"\n",
      "            ],\n",
      "            \"type\": \"loopback\"\n",
      "        },\n",
      "        \"ansible_local\": {},\n",
      "        \"ansible_lsb\": {},\n",
      "        \"ansible_machine\": \"x86_64\",\n",
      "        \"ansible_memfree_mb\": -872,\n",
      "        \"ansible_memtotal_mb\": 16384,\n",
      "        \"ansible_model\": \"MacBookPro11,5\",\n",
      "        \"ansible_nodename\": \"faramir.local\",\n",
      "        \"ansible_os_family\": \"Darwin\",\n",
      "        \"ansible_osrevision\": \"199506\",\n",
      "        \"ansible_osversion\": \"16G29\",\n",
      "        \"ansible_p2p0\": {\n",
      "            \"device\": \"p2p0\",\n",
      "            \"flags\": [\n",
      "                \"UP\",\n",
      "                \"BROADCAST\",\n",
      "                \"RUNNING\",\n",
      "                \"SIMPLEX\",\n",
      "                \"MULTICAST\"\n",
      "            ],\n",
      "            \"ipv4\": [],\n",
      "            \"ipv6\": [],\n",
      "            \"macaddress\": \"0a:01:a7:99:07:a3\",\n",
      "            \"media\": \"Unknown\",\n",
      "            \"media_select\": \"autoselect\",\n",
      "            \"mtu\": \"2304\",\n",
      "            \"status\": \"inactive\",\n",
      "            \"type\": \"ether\"\n",
      "        },\n",
      "        \"ansible_pkg_mgr\": \"homebrew\",\n",
      "        \"ansible_processor\": \"Intel(R) Core(TM) i7-4980HQ CPU @ 2.80GHz\",\n",
      "        \"ansible_processor_cores\": \"4\",\n",
      "        \"ansible_python\": {\n",
      "            \"executable\": \"/Users/rick446/.virtualenvs/ansible/bin/python3.6\",\n",
      "            \"has_sslcontext\": true,\n",
      "            \"type\": \"cpython\",\n",
      "            \"version\": {\n",
      "                \"major\": 3,\n",
      "                \"micro\": 0,\n",
      "                \"minor\": 6,\n",
      "                \"releaselevel\": \"final\",\n",
      "                \"serial\": 0\n",
      "            },\n",
      "            \"version_info\": [\n",
      "                3,\n",
      "                6,\n",
      "                0,\n",
      "                \"final\",\n",
      "                0\n",
      "            ]\n",
      "        },\n",
      "        \"ansible_python_version\": \"3.6.0\",\n",
      "        \"ansible_real_group_id\": 20,\n",
      "        \"ansible_real_user_id\": 501,\n",
      "        \"ansible_selinux\": false,\n",
      "        \"ansible_selinux_python_present\": false,\n",
      "        \"ansible_service_mgr\": \"launchd\",\n",
      "        \"ansible_ssh_host_key_dsa_public\": \"AAAAB3NzaC1kc3MAAACBAP8uloENmH0p1cQ/65tOyP8zb9bovQl55yXlLZLG2Oz852OzgpWf6mwNz9Agd3c86IpPIGW3WU9864xjzIV8DO/pL7UADqsqVbcU6iydLalD2DxDlIZqAMPWfs9UblAqnPgLp4+/Y9E5ghFt3QXInyAmj/TWszUlKvcaeDAmfZh7AAAAFQCLM7njtgxXKY7Wperoj0A1e46lKwAAAIBFpHS306j8a8i3GNMg6fPfyBu0mP6A/6U1afIxZh020qjym36OEYPHXSuOyVytmk7RU8SzA2wDkhe63k2w871zov0Ndl+LIB5cYXy1Ti13iYpdwXym53bmHT5AHh4C+eSbd4PrzVlxcBhOTZleUQfQMmGtsRjox3KWuG4z9lL9CwAAAIBCvv6GOxkGTqQ8jCxVJHZ4xcYMCKfeyFdP5UPh1zNpNgXKK3RuNgikKu3UUIUrsaDaNKgnitc6dJcxZXnXyMn/p7DGy4AvDQZuT49Z13sfNeDhMjCN0SZPBJrpo4CzgmSvHB14COSFmozpOGHaSUDTKSiJ3vWnKoiRVYhLOOi+WA==\",\n",
      "        \"ansible_ssh_host_key_ecdsa_public\": \"AAAAE2VjZHNhLXNoYTItbmlzdHAyNTYAAAAIbmlzdHAyNTYAAABBBNW+rqyskzhwXGGQSkR4u8POvqfrFCbsDP/M4Wfco1hdH6dty+6m//XgcSnK12xU5sPJycoz5fHWlPU/7ufM0GM=\",\n",
      "        \"ansible_ssh_host_key_ed25519_public\": \"AAAAC3NzaC1lZDI1NTE5AAAAIN871PTv/KsWS3MWbKKFUFini4IxnzhUCpB98HxYQ6Vv\",\n",
      "        \"ansible_ssh_host_key_rsa_public\": \"AAAAB3NzaC1yc2EAAAADAQABAAABAQC1HLoXVAkCqdvq47r2YTwVDsDy4Omwtb0wsVcBwVAcUH8sGjaJGeqlNdsZyv28cGAWQ5UooIAamOfCBGGu0ulDQqVCekIz4OFImDpEeswyL4SSqWMYmLBZByudeYtTYGdfxd9YkSMPftuk7mt1QdeeLjEOAb4GU2eX46NNLHXpkVRNsr8PA1nRBS2kAiKY+LbBfHzo5x8khZTnNZeMV4V0FX36pq/jPlBYbEdZjuUBLdTnAiYIIWAstS7eQ/KN/cRmnMs2XTRMw6VjChR9/RzadNhjmD5Svb7wcYTnnbsTRQYCWUicrnp76l7xCRQclVhBx524t438/NM62IhkZnKD\",\n",
      "        \"ansible_stf0\": {\n",
      "            \"device\": \"stf0\",\n",
      "            \"flags\": [],\n",
      "            \"ipv4\": [],\n",
      "            \"ipv6\": [],\n",
      "            \"macaddress\": \"unknown\",\n",
      "            \"mtu\": \"1280\",\n",
      "            \"type\": \"unknown\"\n",
      "        },\n",
      "        \"ansible_system\": \"Darwin\",\n",
      "        \"ansible_user_dir\": \"/Users/rick446\",\n",
      "        \"ansible_user_gecos\": \"Rick Copeland\",\n",
      "        \"ansible_user_gid\": 20,\n",
      "        \"ansible_user_id\": \"rick446\",\n",
      "        \"ansible_user_shell\": \"/bin/bash\",\n",
      "        \"ansible_user_uid\": 501,\n",
      "        \"ansible_userspace_architecture\": \"x86_64\",\n",
      "        \"ansible_userspace_bits\": \"64\",\n",
      "        \"ansible_utun0\": {\n",
      "            \"device\": \"utun0\",\n",
      "            \"flags\": [\n",
      "                \"UP\",\n",
      "                \"POINTOPOINT\",\n",
      "                \"RUNNING\",\n",
      "                \"MULTICAST\"\n",
      "            ],\n",
      "            \"ipv4\": [],\n",
      "            \"ipv6\": [\n",
      "                {\n",
      "                    \"address\": \"fe80::9822:2add:c15d:ecd3%utun0\",\n",
      "                    \"prefix\": \"64\",\n",
      "                    \"scope\": \"0xa\"\n",
      "                }\n",
      "            ],\n",
      "            \"macaddress\": \"unknown\",\n",
      "            \"mtu\": \"2000\",\n",
      "            \"options\": [\n",
      "                \"PERFORMNUD\",\n",
      "                \"DAD\"\n",
      "            ],\n",
      "            \"type\": \"unknown\"\n",
      "        },\n",
      "        \"ansible_utun1\": {\n",
      "            \"device\": \"utun1\",\n",
      "            \"flags\": [\n",
      "                \"UP\",\n",
      "                \"POINTOPOINT\",\n",
      "                \"RUNNING\",\n",
      "                \"MULTICAST\"\n",
      "            ],\n",
      "            \"ipv4\": [],\n",
      "            \"ipv6\": [\n",
      "                {\n",
      "                    \"address\": \"fe80::75fe:a194:e8a3:4cfa%utun1\",\n",
      "                    \"prefix\": \"64\",\n",
      "                    \"scope\": \"0xb\"\n",
      "                }\n",
      "            ],\n",
      "            \"macaddress\": \"unknown\",\n",
      "            \"mtu\": \"1380\",\n",
      "            \"options\": [\n",
      "                \"PERFORMNUD\",\n",
      "                \"DAD\"\n",
      "            ],\n",
      "            \"type\": \"unknown\"\n",
      "        },\n",
      "        \"ansible_virtualization_role\": \"\",\n",
      "        \"ansible_virtualization_type\": \"\",\n",
      "        \"gather_subset\": [\n",
      "            \"all\"\n",
      "        ],\n",
      "        \"module_setup\": true\n",
      "    },\n",
      "    \"changed\": false,\n",
      "    \"failed\": false\n",
      "}\n"
     ]
    }
   ],
   "source": [
    "%%bash\n",
    "ansible localhost -m setup"
   ]
  },
  {
   "cell_type": "markdown",
   "metadata": {
    "slideshow": {
     "slide_type": "slide"
    }
   },
   "source": [
    "# `copy`, `file`\n",
    "\n",
    "Manipulate files on the host"
   ]
  },
  {
   "cell_type": "code",
   "execution_count": 25,
   "metadata": {
    "slideshow": {
     "slide_type": "fragment"
    }
   },
   "outputs": [
    {
     "name": "stdout",
     "output_type": "stream",
     "text": [
      "arborian-02.class.arborian.com | SUCCESS => {\n",
      "    \"changed\": false,\n",
      "    \"checksum\": \"9672939689774c8ce591eb21094a00ae285b59c1\",\n",
      "    \"failed\": false,\n",
      "    \"gid\": 0,\n",
      "    \"group\": \"root\",\n",
      "    \"mode\": \"0644\",\n",
      "    \"owner\": \"root\",\n",
      "    \"path\": \"/root/ansible.cfg\",\n",
      "    \"size\": 93,\n",
      "    \"state\": \"file\",\n",
      "    \"uid\": 0\n",
      "}\n",
      "arborian-01.class.arborian.com | SUCCESS => {\n",
      "    \"changed\": false,\n",
      "    \"checksum\": \"9672939689774c8ce591eb21094a00ae285b59c1\",\n",
      "    \"failed\": false,\n",
      "    \"gid\": 0,\n",
      "    \"group\": \"root\",\n",
      "    \"mode\": \"0644\",\n",
      "    \"owner\": \"root\",\n",
      "    \"path\": \"/root/ansible.cfg\",\n",
      "    \"size\": 93,\n",
      "    \"state\": \"file\",\n",
      "    \"uid\": 0\n",
      "}\n",
      "arborian-02.class.arborian.com | SUCCESS => {\n",
      "    \"changed\": true,\n",
      "    \"failed\": false,\n",
      "    \"gid\": 0,\n",
      "    \"group\": \"root\",\n",
      "    \"mode\": \"0600\",\n",
      "    \"owner\": \"nobody\",\n",
      "    \"path\": \"/root/ansible.cfg\",\n",
      "    \"size\": 93,\n",
      "    \"state\": \"file\",\n",
      "    \"uid\": 65534\n",
      "}\n",
      "arborian-01.class.arborian.com | SUCCESS => {\n",
      "    \"changed\": true,\n",
      "    \"failed\": false,\n",
      "    \"gid\": 0,\n",
      "    \"group\": \"root\",\n",
      "    \"mode\": \"0600\",\n",
      "    \"owner\": \"nobody\",\n",
      "    \"path\": \"/root/ansible.cfg\",\n",
      "    \"size\": 93,\n",
      "    \"state\": \"file\",\n",
      "    \"uid\": 65534\n",
      "}\n"
     ]
    }
   ],
   "source": [
    "%%bash\n",
    "ansible web -m copy -a \"src=ansible.cfg dest=/root/ansible.cfg\"\n",
    "ansible web -m file -a \"dest=/root/ansible.cfg mode=0600 owner=nobody\""
   ]
  },
  {
   "cell_type": "markdown",
   "metadata": {
    "slideshow": {
     "slide_type": "slide"
    }
   },
   "source": [
    "# Packaging Modules: Control installed packages\n",
    "\n",
    "http://docs.ansible.com/ansible/latest/list_of_packaging_modules.html"
   ]
  },
  {
   "cell_type": "code",
   "execution_count": null,
   "metadata": {},
   "outputs": [],
   "source": [
    "%%bash\n",
    "ansible web -m apt -a 'name=nginx state=latest'"
   ]
  },
  {
   "cell_type": "code",
   "execution_count": null,
   "metadata": {},
   "outputs": [],
   "source": [
    "%%bash\n",
    "ansible localhost -m homebrew -a 'name=python3 state=latest update_homebrew=yes'"
   ]
  },
  {
   "cell_type": "markdown",
   "metadata": {},
   "source": [
    "`user` to create users\n",
    "`authorized_key` to add ssh keys"
   ]
  },
  {
   "cell_type": "code",
   "execution_count": 29,
   "metadata": {
    "slideshow": {
     "slide_type": "fragment"
    }
   },
   "outputs": [
    {
     "name": "stdout",
     "output_type": "stream",
     "text": [
      "arborian-02.class.arborian.com | SUCCESS => {\n",
      "    \"append\": false,\n",
      "    \"changed\": false,\n",
      "    \"comment\": \"\",\n",
      "    \"failed\": false,\n",
      "    \"group\": 1000,\n",
      "    \"home\": \"/home/rick\",\n",
      "    \"move_home\": false,\n",
      "    \"name\": \"rick\",\n",
      "    \"shell\": \"\",\n",
      "    \"state\": \"present\",\n",
      "    \"uid\": 1000\n",
      "}\n",
      "arborian-01.class.arborian.com | SUCCESS => {\n",
      "    \"append\": false,\n",
      "    \"changed\": false,\n",
      "    \"comment\": \"\",\n",
      "    \"failed\": false,\n",
      "    \"group\": 1000,\n",
      "    \"home\": \"/home/rick\",\n",
      "    \"move_home\": false,\n",
      "    \"name\": \"rick\",\n",
      "    \"shell\": \"\",\n",
      "    \"state\": \"present\",\n",
      "    \"uid\": 1000\n",
      "}\n",
      "arborian-01.class.arborian.com | SUCCESS => {\n",
      "    \"changed\": true,\n",
      "    \"comment\": null,\n",
      "    \"exclusive\": false,\n",
      "    \"failed\": false,\n",
      "    \"key\": \"https://raw.githubusercontent.com/Arborian/ansible-class/master/training-ssh-key.pub\",\n",
      "    \"key_options\": null,\n",
      "    \"keyfile\": \"/home/rick/.ssh/authorized_keys\",\n",
      "    \"manage_dir\": true,\n",
      "    \"path\": null,\n",
      "    \"state\": \"present\",\n",
      "    \"unique\": false,\n",
      "    \"user\": \"rick\",\n",
      "    \"validate_certs\": true\n",
      "}\n",
      "arborian-02.class.arborian.com | SUCCESS => {\n",
      "    \"changed\": true,\n",
      "    \"comment\": null,\n",
      "    \"exclusive\": false,\n",
      "    \"failed\": false,\n",
      "    \"key\": \"https://raw.githubusercontent.com/Arborian/ansible-class/master/training-ssh-key.pub\",\n",
      "    \"key_options\": null,\n",
      "    \"keyfile\": \"/home/rick/.ssh/authorized_keys\",\n",
      "    \"manage_dir\": true,\n",
      "    \"path\": null,\n",
      "    \"state\": \"present\",\n",
      "    \"unique\": false,\n",
      "    \"user\": \"rick\",\n",
      "    \"validate_certs\": true\n",
      "}\n"
     ]
    }
   ],
   "source": [
    "%%bash\n",
    "ansible web -m user -a 'name=rick'\n",
    "ansible web -m authorized_key -a 'user=rick state=present key=https://raw.githubusercontent.com/Arborian/ansible-class/master/training-ssh-key.pub'"
   ]
  },
  {
   "cell_type": "markdown",
   "metadata": {
    "slideshow": {
     "slide_type": "slide"
    }
   },
   "source": [
    "`git` for deploying from source control"
   ]
  },
  {
   "cell_type": "code",
   "execution_count": 30,
   "metadata": {
    "slideshow": {
     "slide_type": "fragment"
    }
   },
   "outputs": [
    {
     "name": "stdout",
     "output_type": "stream",
     "text": [
      "arborian-01.class.arborian.com | SUCCESS => {\n",
      "    \"after\": \"ee2e973a35df551fdf622b41d2942de810a6bcfe\",\n",
      "    \"before\": null,\n",
      "    \"changed\": true,\n",
      "    \"failed\": false\n",
      "}\n",
      "arborian-02.class.arborian.com | SUCCESS => {\n",
      "    \"after\": \"ee2e973a35df551fdf622b41d2942de810a6bcfe\",\n",
      "    \"before\": null,\n",
      "    \"changed\": true,\n",
      "    \"failed\": false\n",
      "}\n"
     ]
    }
   ],
   "source": [
    "%%bash\n",
    "ansible web -m git -u rick -a 'repo=https://github.com/Arborian/ansible-class.git dest=/home/rick/ansible-class'"
   ]
  },
  {
   "cell_type": "markdown",
   "metadata": {},
   "source": [
    "# Lab: Ad-hoc Commands\n",
    "\n",
    "Using Ansible one-off commands:\n",
    "\n",
    "- Create a user for yourself on the `web` hosts\n",
    "- Make sure you can use the training key to ssh into the hosts as your user without a password\n",
    "- Check out the class repository into your user's account"
   ]
  }
 ],
 "metadata": {
  "celltoolbar": "Slideshow",
  "kernelspec": {
   "display_name": "Python 3",
   "language": "python",
   "name": "python3"
  },
  "language_info": {
   "codemirror_mode": {
    "name": "ipython",
    "version": 3
   },
   "file_extension": ".py",
   "mimetype": "text/x-python",
   "name": "python",
   "nbconvert_exporter": "python",
   "pygments_lexer": "ipython3",
   "version": "3.6.0"
  }
 },
 "nbformat": 4,
 "nbformat_minor": 2
}
