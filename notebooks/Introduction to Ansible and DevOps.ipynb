{
 "cells": [
  {
   "cell_type": "markdown",
   "metadata": {
    "slideshow": {
     "slide_type": "slide"
    }
   },
   "source": [
    "# What is DevOps?\n",
    "\n",
    "> DevOps (a clipped compound of \"development\" and \"operations\") is a software engineering culture and practice that aims at unifying software development (Dev) and software operation (Ops). The main characteristic of the DevOps movement is to strongly advocate automation and monitoring at all steps of software construction, from integration, testing, releasing to deployment and infrastructure management. DevOps aims at shorter development cycles, increased deployment frequency, more dependable releases, in close alignment with business objectives.\n",
    "\n",
    "&mdash; [Wikipedia][1]\n",
    "\n",
    "[1]: https://en.wikipedia.org/wiki/DevOps"
   ]
  },
  {
   "cell_type": "markdown",
   "metadata": {
    "slideshow": {
     "slide_type": "slide"
    }
   },
   "source": [
    "## But really?\n",
    "\n",
    "- Development and operations are no longer separate organizations \n",
    "  - developers deploy code\n",
    "  - operators develop code\n",
    "- Operations uses software development principles and tools to manage infrastructure\n",
    "  - revision control (i.e, git)\n",
    "  - configuration management (i.e. Ansible/Puppet/Chef)\n",
    "\n",
    "Executed well, your infrastructure has a *repeatable* and *revertable* configuration\n",
    "\n",
    "(Some even disable ssh for production machines...)"
   ]
  },
  {
   "cell_type": "markdown",
   "metadata": {
    "slideshow": {
     "slide_type": "slide"
    }
   },
   "source": [
    "## What is it not?\n",
    "\n",
    "- An excuse to give the workload of two people to just one \n",
    "- An excuse to deploy sloppy code to production\n",
    "\n",
    "We want to bring the best of both worlds together, not the worst."
   ]
  },
  {
   "cell_type": "markdown",
   "metadata": {
    "slideshow": {
     "slide_type": "slide"
    }
   },
   "source": [
    "# Why and How of Ansible\n",
    "\n",
    "- Configuration management tool (a-la Puppet, Chef)\n",
    "- Ad-hoc management tool (some overlap with Fabric, Capistrano)\n",
    "- Python library / tool\n",
    "- \"Push\" model (generally via ssh)\n",
    "- Managed hosts need minimal \"bootstrapping\"\n",
    "  - Puppet, Chef, Salt, etc. all need an agent on the managed host.\n",
    "  - Ansible only needs sshd (Python is helpful, as well, but we can bootstrap that)"
   ]
  },
  {
   "cell_type": "markdown",
   "metadata": {
    "slideshow": {
     "slide_type": "slide"
    }
   },
   "source": [
    "### Comparisons\n",
    "\n",
    "Caveat: the below bullet points are generalizations; there are generally ways to do anything in any of these systems. The bullets below are the *common* way to do things.\n",
    "\n",
    "#### Big Config Management Systems\n",
    "\n",
    "Ansible\n",
    "\n",
    "- push-based\n",
    "- no agent required\n",
    "- implemented in Python\n",
    "- uses SSH to communicate with hosts\n",
    "- config is via YAML+Jinja2\n",
    "- ad-hoc commands are common\n",
    "\n",
    "Puppet\n",
    "\n",
    "- pull-based\n",
    "- requires agent\n",
    "- implemented in Ruby\n",
    "- config is via Ruby-like DSL\n",
    "\n",
    "Chef\n",
    "\n",
    "- pull-based\n",
    "- requires agent\n",
    "- implemented in Ruby\n",
    "- config is via Ruby (they call it a DSL)\n",
    "\n",
    "SaltStack\n",
    "\n",
    "- pull-based (0MQ) - low latency, high scalability\n",
    "- requires agent\n",
    "- implemented in Python\n",
    "- config is via YAML+Jinja2\n",
    "- lots of teminology (Pillars, Masters/Minions, Mine)\n",
    "\n",
    "#### Ad-hoc systems\n",
    "\n",
    "Ruby\n",
    "- capistrano\n",
    "\n",
    "Python\n",
    "- fabric"
   ]
  }
 ],
 "metadata": {
  "celltoolbar": "Slideshow",
  "kernelspec": {
   "display_name": "Python 3",
   "language": "python",
   "name": "python3"
  },
  "language_info": {
   "codemirror_mode": {
    "name": "ipython",
    "version": 3
   },
   "file_extension": ".py",
   "mimetype": "text/x-python",
   "name": "python",
   "nbconvert_exporter": "python",
   "pygments_lexer": "ipython3",
   "version": "3.6.0"
  }
 },
 "nbformat": 4,
 "nbformat_minor": 2
}
