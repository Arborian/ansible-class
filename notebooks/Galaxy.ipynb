{
 "cells": [
  {
   "cell_type": "code",
   "execution_count": 1,
   "metadata": {
    "slideshow": {
     "slide_type": "skip"
    }
   },
   "outputs": [
    {
     "name": "stdout",
     "output_type": "stream",
     "text": [
      "/Users/rick446/src/Classes/Ansible\n"
     ]
    }
   ],
   "source": [
    "cd ~/src/Classes/Ansible/"
   ]
  },
  {
   "cell_type": "markdown",
   "metadata": {
    "slideshow": {
     "slide_type": "slide"
    }
   },
   "source": [
    "# Sharing Roles with Ansible Galaxy\n",
    "\n",
    "We've already seen how you can install roles locally from Ansible Galaxy. In this module, you'll see how to create your own role and upload it."
   ]
  },
  {
   "cell_type": "markdown",
   "metadata": {
    "slideshow": {
     "slide_type": "slide"
    }
   },
   "source": [
    "### Create a repository and clone it.\n",
    "\n",
    "The first step is to create a repository on Github with the name \"ansible-role-ROLENAME\". I've created one at https://github.com/Arborian/ansible-role-arborian\n",
    "\n",
    "Next, we'll clone the repository locally"
   ]
  },
  {
   "cell_type": "code",
   "execution_count": 14,
   "metadata": {
    "slideshow": {
     "slide_type": "fragment"
    }
   },
   "outputs": [
    {
     "name": "stderr",
     "output_type": "stream",
     "text": [
      "fatal: destination path 'arborian' already exists and is not an empty directory.\n"
     ]
    }
   ],
   "source": [
    "%%bash\n",
    "git clone git@github.com:Arborian/ansible-role-arborian.git arborian"
   ]
  },
  {
   "cell_type": "markdown",
   "metadata": {
    "slideshow": {
     "slide_type": "slide"
    }
   },
   "source": [
    "### Setup role scaffolding\n",
    "\n",
    "Create the role scaffolding using the `ansible-galaxy` tool:"
   ]
  },
  {
   "cell_type": "code",
   "execution_count": 8,
   "metadata": {
    "slideshow": {
     "slide_type": "fragment"
    }
   },
   "outputs": [
    {
     "name": "stdout",
     "output_type": "stream",
     "text": [
      "- arborian was created successfully\n"
     ]
    }
   ],
   "source": [
    "%%bash\n",
    "ansible-galaxy init --force arborian"
   ]
  },
  {
   "cell_type": "code",
   "execution_count": 9,
   "metadata": {
    "scrolled": true,
    "slideshow": {
     "slide_type": "fragment"
    }
   },
   "outputs": [
    {
     "name": "stdout",
     "output_type": "stream",
     "text": [
      "arborian\n",
      "├── README.md\n",
      "├── defaults\n",
      "│   └── main.yml\n",
      "├── files\n",
      "├── handlers\n",
      "│   └── main.yml\n",
      "├── meta\n",
      "│   └── main.yml\n",
      "├── tasks\n",
      "│   └── main.yml\n",
      "├── templates\n",
      "├── tests\n",
      "│   ├── inventory\n",
      "│   └── test.yml\n",
      "└── vars\n",
      "    └── main.yml\n",
      "\n",
      "8 directories, 8 files\n"
     ]
    }
   ],
   "source": [
    "%%bash\n",
    "tree arborian"
   ]
  },
  {
   "cell_type": "markdown",
   "metadata": {
    "slideshow": {
     "slide_type": "slide"
    }
   },
   "source": [
    "### Upload the role to Galaxy\n",
    "\n",
    "Now, if we commit and push the repository, we'll be able to import it into Galaxy from the website"
   ]
  },
  {
   "cell_type": "code",
   "execution_count": 13,
   "metadata": {
    "slideshow": {
     "slide_type": "fragment"
    }
   },
   "outputs": [
    {
     "name": "stdout",
     "output_type": "stream",
     "text": [
      "On branch master\n",
      "Your branch is ahead of 'origin/master' by 1 commit.\n",
      "  (use \"git push\" to publish your local commits)\n",
      "nothing to commit, working directory clean\n"
     ]
    },
    {
     "name": "stderr",
     "output_type": "stream",
     "text": [
      "Warning: untrusted X11 forwarding setup failed: xauth key data not generated\r\n",
      "To git@github.com:Arborian/ansible-role-arborian.git\n",
      "   21552e8..517973c  master -> master\n"
     ]
    }
   ],
   "source": [
    "%%bash\n",
    "cd arborian\n",
    "git add .\n",
    "git commit -m \"Initial commit of scaffolding\"\n",
    "git push"
   ]
  },
  {
   "cell_type": "markdown",
   "metadata": {
    "slideshow": {
     "slide_type": "fragment"
    }
   },
   "source": [
    "To import it to Galaxy, log into Galaxy using Github and visit \"My Roles\", and switch it on. You can also trigger re-import with the icon on the right."
   ]
  },
  {
   "cell_type": "markdown",
   "metadata": {
    "slideshow": {
     "slide_type": "slide"
    }
   },
   "source": [
    "### Install your role\n",
    "\n",
    "Once it's on Galaxy, you can install your role:"
   ]
  },
  {
   "cell_type": "code",
   "execution_count": 15,
   "metadata": {
    "slideshow": {
     "slide_type": "fragment"
    }
   },
   "outputs": [
    {
     "name": "stdout",
     "output_type": "stream",
     "text": [
      "- downloading role 'arborian', owned by Arborian\n",
      "- downloading role from https://github.com/Arborian/ansible-role-arborian/archive/master.tar.gz\n",
      "- extracting Arborian.arborian to /Users/rick446/src/Classes/Ansible/roles/Arborian.arborian\n",
      "- Arborian.arborian (master) was installed successfully\n"
     ]
    }
   ],
   "source": [
    "%%bash\n",
    "ansible-galaxy install Arborian.arborian"
   ]
  },
  {
   "cell_type": "markdown",
   "metadata": {
    "slideshow": {
     "slide_type": "slide"
    }
   },
   "source": [
    "# Lab\n",
    "\n",
    "Create a demo role and upload it to Ansible Galaxy\n"
   ]
  }
 ],
 "metadata": {
  "celltoolbar": "Slideshow",
  "kernelspec": {
   "display_name": "Python 3",
   "language": "python",
   "name": "python3"
  },
  "language_info": {
   "codemirror_mode": {
    "name": "ipython",
    "version": 3
   },
   "file_extension": ".py",
   "mimetype": "text/x-python",
   "name": "python",
   "nbconvert_exporter": "python",
   "pygments_lexer": "ipython3",
   "version": "3.6.0"
  }
 },
 "nbformat": 4,
 "nbformat_minor": 2
}
