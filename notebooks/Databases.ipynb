{
 "cells": [
  {
   "cell_type": "code",
   "execution_count": 1,
   "metadata": {},
   "outputs": [
    {
     "name": "stdout",
     "output_type": "stream",
     "text": [
      "/Users/rick446/src/Classes/Ansible\n"
     ]
    }
   ],
   "source": [
    "cd ~/src/Classes/Ansible"
   ]
  },
  {
   "cell_type": "markdown",
   "metadata": {
    "slideshow": {
     "slide_type": "slide"
    }
   },
   "source": [
    "# Database Modules\n",
    "\n",
    "Ansible includes support for configuring several popular databases:\n",
    "\n",
    "- SQLServer (`mssql_db`)\n",
    "- MySQL (`mysql_db`)\n",
    "- Postgresql (`postgresql_eb`)\n",
    "\n",
    "It also includes support for a few NoSQL databases:\n",
    "\n",
    "- MongoDB (`mongodb_parameter`, `mongodb_user`)\n",
    "- ElasticSearch (`elasticsearch_plugin`)\n",
    "- Redis (`redis`)\n",
    "- Riak (`riak`)\n",
    "\n",
    "http://docs.ansible.com/ansible/latest/list_of_database_modules.html"
   ]
  }
 ],
 "metadata": {
  "celltoolbar": "Slideshow",
  "kernelspec": {
   "display_name": "Python 3",
   "language": "python",
   "name": "python3"
  },
  "language_info": {
   "codemirror_mode": {
    "name": "ipython",
    "version": 3
   },
   "file_extension": ".py",
   "mimetype": "text/x-python",
   "name": "python",
   "nbconvert_exporter": "python",
   "pygments_lexer": "ipython3",
   "version": "3.6.0"
  }
 },
 "nbformat": 4,
 "nbformat_minor": 2
}
