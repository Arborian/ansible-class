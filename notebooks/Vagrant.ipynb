{
 "cells": [
  {
   "cell_type": "markdown",
   "metadata": {
    "slideshow": {
     "slide_type": "slide"
    }
   },
   "source": [
    "# Vagrant\n",
    "\n",
    "> Vagrant is a tool for building and managing virtual machine environments in a single workflow. \n",
    "\n",
    "&mdash; [Vagrant Website][vagrantup]\n",
    "\n",
    "[vagrantup]: https://www.vagrantup.com"
   ]
  },
  {
   "cell_type": "markdown",
   "metadata": {
    "slideshow": {
     "slide_type": "slide"
    }
   },
   "source": [
    "# Vagrant is\n",
    "\n",
    "- A system for defining virtual machine infrastructure through a `Vagrantfile`\n",
    "    - Virtualization providers (including Virtualbox and VMware)\n",
    "    - Provisioning tools\n",
    "- A convenient set of command-line tools to manage it"
   ]
  },
  {
   "cell_type": "markdown",
   "metadata": {
    "slideshow": {
     "slide_type": "slide"
    }
   },
   "source": [
    "# Quick demo"
   ]
  },
  {
   "cell_type": "code",
   "execution_count": 1,
   "metadata": {
    "slideshow": {
     "slide_type": "fragment"
    }
   },
   "outputs": [
    {
     "name": "stdout",
     "output_type": "stream",
     "text": [
      "A `Vagrantfile` has been placed in this directory. You are now\n",
      "ready to `vagrant up` your first virtual environment! Please read\n",
      "the comments in the Vagrantfile as well as documentation on\n",
      "`vagrantup.com` for more information on using Vagrant.\n"
     ]
    }
   ],
   "source": [
    "%%bash\n",
    "vagrant init ubuntu/trusty64"
   ]
  },
  {
   "cell_type": "code",
   "execution_count": 3,
   "metadata": {
    "slideshow": {
     "slide_type": "fragment"
    }
   },
   "outputs": [
    {
     "name": "stdout",
     "output_type": "stream",
     "text": [
      "Bringing machine 'default' up with 'virtualbox' provider...\n",
      "==> default: Importing base box 'ubuntu/trusty64'...\n",
      "\r",
      "\u001b[KProgress: 90%\r",
      "\u001b[K==> default: Matching MAC address for NAT networking...\n",
      "==> default: Checking if box 'ubuntu/trusty64' is up to date...\n",
      "==> default: Setting the name of the VM: notebooks_default_1513030228694_90664\n",
      "==> default: Clearing any previously set forwarded ports...\n",
      "==> default: Clearing any previously set network interfaces...\n",
      "==> default: Preparing network interfaces based on configuration...\n",
      "    default: Adapter 1: nat\n",
      "==> default: Forwarding ports...\n",
      "    default: 22 (guest) => 2222 (host) (adapter 1)\n",
      "==> default: Booting VM...\n",
      "==> default: Waiting for machine to boot. This may take a few minutes...\n",
      "    default: SSH address: 127.0.0.1:2222\n",
      "    default: SSH username: vagrant\n",
      "    default: SSH auth method: private key\n",
      "    default: \n",
      "    default: Vagrant insecure key detected. Vagrant will automatically replace\n",
      "    default: this with a newly generated keypair for better security.\n",
      "    default: \n",
      "    default: Inserting generated public key within guest...\n",
      "    default: Removing insecure key from the guest if it's present...\n",
      "    default: Key inserted! Disconnecting and reconnecting using new SSH key...\n",
      "==> default: Machine booted and ready!\n",
      "==> default: Checking for guest additions in VM...\n",
      "    default: The guest additions on this VM do not match the installed version of\n",
      "    default: VirtualBox! In most cases this is fine, but in rare cases it can\n",
      "    default: prevent things such as shared folders from working properly. If you see\n",
      "    default: shared folder errors, please make sure the guest additions within the\n",
      "    default: virtual machine match the version of VirtualBox you have installed on\n",
      "    default: your host and reload your VM.\n",
      "    default: \n",
      "    default: Guest Additions Version: 4.3.36\n",
      "    default: VirtualBox Version: 5.1\n",
      "==> default: Mounting shared folders...\n",
      "    default: /vagrant => /Users/rick446/src/Classes/Ansible/notebooks\n"
     ]
    }
   ],
   "source": [
    "%%bash\n",
    "vagrant up"
   ]
  },
  {
   "cell_type": "code",
   "execution_count": 2,
   "metadata": {
    "slideshow": {
     "slide_type": "slide"
    }
   },
   "outputs": [
    {
     "name": "stdout",
     "output_type": "stream",
     "text": [
      "==> default: Forcing shutdown of VM...\n",
      "==> default: Destroying VM and associated drives...\n"
     ]
    }
   ],
   "source": [
    "%%bash\n",
    "vagrant destroy -f"
   ]
  },
  {
   "cell_type": "code",
   "execution_count": 3,
   "metadata": {
    "slideshow": {
     "slide_type": "fragment"
    }
   },
   "outputs": [],
   "source": [
    "rm Vagrantfile"
   ]
  },
  {
   "cell_type": "markdown",
   "metadata": {
    "slideshow": {
     "slide_type": "slide"
    }
   },
   "source": [
    "# Another demo\n",
    "\n",
    "The Vagrantfile:\n",
    "\n",
    "```ruby\n",
    "Vagrant.configure(\"2\") do |config|\n",
    "  config.vm.box = \"ubuntu/trusty64\"\n",
    "\n",
    "  config.vm.provision \"ansible\" do |ansible|\n",
    "    ansible.playbook = \"playbooks/basic.yaml\"\n",
    "  end\n",
    "\n",
    "  config.vm.define \"web\" do |web|\n",
    "    web.vm.provision \"shell\", inline: \"echo Hello from web!\"\n",
    "  end\n",
    "\n",
    "  config.vm.define \"db\" do |db|\n",
    "    db.vm.provision \"shell\", inline: \"echo Hello from db!\"\n",
    "  end\n",
    "end\n",
    "\n",
    "```"
   ]
  },
  {
   "cell_type": "markdown",
   "metadata": {
    "slideshow": {
     "slide_type": "slide"
    }
   },
   "source": [
    "# Lab: Getting started with Vagrant and Ansible\n",
    "\n",
    "## Install Virtualbox\n",
    "\n",
    "https://www.virtualbox.org/wiki/Downloads\n",
    "\n",
    "## Install Vagrant\n",
    "\n",
    "https://www.vagrantup.com/docs/installation/\n",
    "\n",
    "## Create a Vagrant environment\n",
    "\n",
    "```bash\n",
    "mkdir test\n",
    "cd test\n",
    "vagrant init ubuntu/trusty64\n",
    "vagrant up\n",
    "vagrant ssh\n",
    "# look around a bit, then exit\n",
    "vagrant destroy\n",
    "```\n",
    "\n",
    "## Install Ansible\n",
    "\n",
    "http://docs.ansible.com/ansible/latest/intro_installation.html\n",
    "\n",
    "(For Python users, you can also just `pip install ansible`)\n",
    "\n",
    "## Clone the class repository & test out Vagrant + Ansible\n",
    "\n",
    "https://github.com/Arborian/ansible-class\n",
    "\n",
    "`git clone https://github.com/Arborian/ansible-class.git`\n",
    "\n",
    "Go to the directory where you cloned the class repo....\n",
    "\n",
    "## Create a Vagrant environment\n",
    "\n",
    "```bash\n",
    "vagrant up\n",
    "ansible all -m ping\n",
    "ansible all -a whoami\n",
    "```\n",
    "\n"
   ]
  },
  {
   "cell_type": "markdown",
   "metadata": {},
   "source": [
    "# Windows step-by-step\n",
    "\n",
    "- Install Virtualbox\n",
    "- Install Vagrant\n",
    "- Get the class repository and start the 3 machines:\n",
    "\n",
    "```\n",
    "git clone https://github.com/Arborian/ansible-class.git\n",
    "cd ansible-class\n",
    "vagrant box add ansible-class https://bit.ly/ansible-box\n",
    "vagrant up\n",
    "vagrant ssh controller\n",
    "```\n",
    "\n",
    "# From `vagrant ssh controller`:\n",
    "\n",
    "```\n",
    "cp /vagrant/.vagrant/machines/web/virtualbox/private_key /home/vagrant/web-private-key\n",
    "cp /vagrant/.vagrant/machines/db/virtualbox/private_key /home/vagrant/db-private-key\n",
    "chmod 600 /home/vagrant/*-private-key\n",
    "cd /vagrant\n",
    "git reset --hard   # discards changes in working directory\n",
    "git pull\n",
    "ansible all -m ping\n",
    "```\n",
    "\n",
    "\n",
    "\n",
    "\n",
    "\n",
    "\n",
    "\n"
   ]
  },
  {
   "cell_type": "code",
   "execution_count": null,
   "metadata": {},
   "outputs": [],
   "source": []
  }
 ],
 "metadata": {
  "celltoolbar": "Slideshow",
  "kernelspec": {
   "display_name": "Python 3",
   "language": "python",
   "name": "python3"
  },
  "language_info": {
   "codemirror_mode": {
    "name": "ipython",
    "version": 3
   },
   "file_extension": ".py",
   "mimetype": "text/x-python",
   "name": "python",
   "nbconvert_exporter": "python",
   "pygments_lexer": "ipython3",
   "version": "3.6.0"
  }
 },
 "nbformat": 4,
 "nbformat_minor": 2
}
