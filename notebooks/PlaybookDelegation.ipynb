{
 "cells": [
  {
   "cell_type": "code",
   "execution_count": 1,
   "metadata": {
    "slideshow": {
     "slide_type": "skip"
    }
   },
   "outputs": [
    {
     "name": "stdout",
     "output_type": "stream",
     "text": [
      "/Users/rick446/src/Classes/Ansible\n"
     ]
    }
   ],
   "source": [
    "cd ~/src/Classes/Ansible/"
   ]
  },
  {
   "cell_type": "markdown",
   "metadata": {
    "slideshow": {
     "slide_type": "slide"
    }
   },
   "source": [
    "# Playbook Delegation\n",
    "\n",
    "Sometimes we may want to run one (or more) tasks on a host that is *not* the targeted host.\n",
    "\n",
    "For instance, a common need is to do the following three steps when deploying an app server:\n",
    "\n",
    "- remove a host from the load balancer\n",
    "- update the code on the host\n",
    "- add the host to the load balancer\n",
    "\n",
    "While you *can* run the 'add/remove from load balancer' code on the app server, it's often better to run those API calls from another \"control\" server."
   ]
  },
  {
   "cell_type": "code",
   "execution_count": 2,
   "metadata": {
    "slideshow": {
     "slide_type": "slide"
    }
   },
   "outputs": [
    {
     "name": "stdout",
     "output_type": "stream",
     "text": [
      "- hosts: web\r\n",
      "  become: true\r\n",
      "  tasks:\r\n",
      "    - name: Remove host from load balancer\r\n",
      "      debug:\r\n",
      "        msg: \"This would probably be a custom module or the ec2_elb module\"\r\n",
      "      delegate_to: arborian-06.class.arborian.com\r\n",
      "    - name: Deploy some code\r\n",
      "      debug:\r\n",
      "        msg: \"Hey, I'm deploying code!\"\r\n",
      "    - name: Re-add host to load balancer\r\n",
      "      debug:\r\n",
      "        msg: \"This would probably be a custom module or the ec2_elb module\"\r\n",
      "      delegate_to: arborian-06.class.arborian.com\r\n"
     ]
    }
   ],
   "source": [
    "cat playbooks/delegate-demo.yaml"
   ]
  },
  {
   "cell_type": "code",
   "execution_count": 3,
   "metadata": {
    "slideshow": {
     "slide_type": "slide"
    }
   },
   "outputs": [
    {
     "name": "stdout",
     "output_type": "stream",
     "text": [
      "\n",
      "PLAY [r-web] *******************************************************************\n",
      "\n",
      "TASK [Gathering Facts] *********************************************************\n",
      "ok: [arborian-02.class.arborian.com]\n",
      "ok: [arborian-01.class.arborian.com]\n",
      "\n",
      "TASK [Remove host from load balancer] ******************************************\n",
      "ok: [arborian-01.class.arborian.com -> arborian-06.class.arborian.com] => {\n",
      "    \"msg\": \"This would probably be a custom module or the ec2_elb module\"\n",
      "}\n",
      "ok: [arborian-02.class.arborian.com -> arborian-06.class.arborian.com] => {\n",
      "    \"msg\": \"This would probably be a custom module or the ec2_elb module\"\n",
      "}\n",
      "\n",
      "TASK [Deploy some code] ********************************************************\n",
      "ok: [arborian-01.class.arborian.com] => {\n",
      "    \"msg\": \"Hey, I'm deploying code!\"\n",
      "}\n",
      "ok: [arborian-02.class.arborian.com] => {\n",
      "    \"msg\": \"Hey, I'm deploying code!\"\n",
      "}\n",
      "\n",
      "TASK [Re-add host to load balancer] ********************************************\n",
      "ok: [arborian-01.class.arborian.com -> arborian-06.class.arborian.com] => {\n",
      "    \"msg\": \"This would probably be a custom module or the ec2_elb module\"\n",
      "}\n",
      "ok: [arborian-02.class.arborian.com -> arborian-06.class.arborian.com] => {\n",
      "    \"msg\": \"This would probably be a custom module or the ec2_elb module\"\n",
      "}\n",
      "\n",
      "PLAY RECAP *********************************************************************\n",
      "arborian-01.class.arborian.com : ok=4    changed=0    unreachable=0    failed=0   \n",
      "arborian-02.class.arborian.com : ok=4    changed=0    unreachable=0    failed=0   \n",
      "\n"
     ]
    }
   ],
   "source": [
    "%%bash\n",
    "ansible-playbook -i inventory playbooks/delegate-demo.yaml"
   ]
  },
  {
   "cell_type": "markdown",
   "metadata": {
    "slideshow": {
     "slide_type": "slide"
    }
   },
   "source": [
    "Frequently, delegation is done to the local machine (the machine running Ansible)."
   ]
  },
  {
   "cell_type": "code",
   "execution_count": 4,
   "metadata": {
    "slideshow": {
     "slide_type": "fragment"
    }
   },
   "outputs": [
    {
     "name": "stdout",
     "output_type": "stream",
     "text": [
      "- hosts: web\r\n",
      "  become: true\r\n",
      "  tasks:\r\n",
      "    - name: Remove host from load balancer\r\n",
      "      debug:\r\n",
      "        msg: \"This would probably be a custom module or the ec2_elb module\"\r\n",
      "      delegate_to: 127.0.0.1\r\n",
      "    - name: Deploy some code\r\n",
      "      debug:\r\n",
      "        msg: \"Hey, I'm deploying code!\"\r\n",
      "    - name: Re-add host to load balancer\r\n",
      "      debug:\r\n",
      "        msg: \"This would probably be a custom module or the ec2_elb module\"\r\n",
      "      delegate_to: 127.0.0.1\r\n"
     ]
    }
   ],
   "source": [
    "cat playbooks/delegate-demo2.yaml"
   ]
  },
  {
   "cell_type": "code",
   "execution_count": 6,
   "metadata": {
    "slideshow": {
     "slide_type": "slide"
    }
   },
   "outputs": [
    {
     "name": "stdout",
     "output_type": "stream",
     "text": [
      "\n",
      "PLAY [web] *********************************************************************\n",
      "\n",
      "TASK [Gathering Facts] *********************************************************\n",
      "ok: [arborian-02.class.arborian.com]\n",
      "ok: [arborian-01.class.arborian.com]\n",
      "\n",
      "TASK [Remove host from load balancer] ******************************************\n",
      "ok: [arborian-01.class.arborian.com -> 127.0.0.1] => {\n",
      "    \"msg\": \"This would probably be a custom module or the ec2_elb module\"\n",
      "}\n",
      "ok: [arborian-02.class.arborian.com -> 127.0.0.1] => {\n",
      "    \"msg\": \"This would probably be a custom module or the ec2_elb module\"\n",
      "}\n",
      "\n",
      "TASK [Deploy some code] ********************************************************\n",
      "ok: [arborian-01.class.arborian.com] => {\n",
      "    \"msg\": \"Hey, I'm deploying code!\"\n",
      "}\n",
      "ok: [arborian-02.class.arborian.com] => {\n",
      "    \"msg\": \"Hey, I'm deploying code!\"\n",
      "}\n",
      "\n",
      "TASK [Re-add host to load balancer] ********************************************\n",
      "ok: [arborian-01.class.arborian.com -> 127.0.0.1] => {\n",
      "    \"msg\": \"This would probably be a custom module or the ec2_elb module\"\n",
      "}\n",
      "ok: [arborian-02.class.arborian.com -> 127.0.0.1] => {\n",
      "    \"msg\": \"This would probably be a custom module or the ec2_elb module\"\n",
      "}\n",
      "\n",
      "PLAY RECAP *********************************************************************\n",
      "arborian-01.class.arborian.com : ok=4    changed=0    unreachable=0    failed=0   \n",
      "arborian-02.class.arborian.com : ok=4    changed=0    unreachable=0    failed=0   \n",
      "\n"
     ]
    }
   ],
   "source": [
    "%%bash\n",
    "ansible-playbook playbooks/delegate-demo2.yaml"
   ]
  },
  {
   "cell_type": "markdown",
   "metadata": {
    "slideshow": {
     "slide_type": "slide"
    }
   },
   "source": [
    "In the special case of delegation to localhost, we can use the `local_action` module:"
   ]
  },
  {
   "cell_type": "code",
   "execution_count": 7,
   "metadata": {
    "slideshow": {
     "slide_type": "fragment"
    }
   },
   "outputs": [
    {
     "name": "stdout",
     "output_type": "stream",
     "text": [
      "- hosts: web\r\n",
      "  become: true\r\n",
      "  tasks:\r\n",
      "    - name: Remove host from load balancer\r\n",
      "      local_action:\r\n",
      "        module: debug\r\n",
      "        msg: \"This would probably be a custom module or the ec2_elb module\"\r\n",
      "    - name: Deploy some code\r\n",
      "      debug:\r\n",
      "        msg: \"Hey, I'm deploying code!\"\r\n",
      "    - name: Re-add host to load balancer\r\n",
      "      local_action:\r\n",
      "        module: debug\r\n",
      "        msg: \"This would probably be a custom module or the ec2_elb module\"\r\n"
     ]
    }
   ],
   "source": [
    "cat playbooks/delegate-demo3.yaml"
   ]
  },
  {
   "cell_type": "code",
   "execution_count": 8,
   "metadata": {
    "slideshow": {
     "slide_type": "slide"
    }
   },
   "outputs": [
    {
     "name": "stdout",
     "output_type": "stream",
     "text": [
      "\n",
      "PLAY [web] *********************************************************************\n",
      "\n",
      "TASK [Gathering Facts] *********************************************************\n",
      "ok: [arborian-02.class.arborian.com]\n",
      "ok: [arborian-01.class.arborian.com]\n",
      "\n",
      "TASK [Remove host from load balancer] ******************************************\n",
      "ok: [arborian-01.class.arborian.com -> localhost] => {\n",
      "    \"msg\": \"This would probably be a custom module or the ec2_elb module\"\n",
      "}\n",
      "ok: [arborian-02.class.arborian.com -> localhost] => {\n",
      "    \"msg\": \"This would probably be a custom module or the ec2_elb module\"\n",
      "}\n",
      "\n",
      "TASK [Deploy some code] ********************************************************\n",
      "ok: [arborian-01.class.arborian.com] => {\n",
      "    \"msg\": \"Hey, I'm deploying code!\"\n",
      "}\n",
      "ok: [arborian-02.class.arborian.com] => {\n",
      "    \"msg\": \"Hey, I'm deploying code!\"\n",
      "}\n",
      "\n",
      "TASK [Re-add host to load balancer] ********************************************\n",
      "ok: [arborian-01.class.arborian.com -> localhost] => {\n",
      "    \"msg\": \"This would probably be a custom module or the ec2_elb module\"\n",
      "}\n",
      "ok: [arborian-02.class.arborian.com -> localhost] => {\n",
      "    \"msg\": \"This would probably be a custom module or the ec2_elb module\"\n",
      "}\n",
      "\n",
      "PLAY RECAP *********************************************************************\n",
      "arborian-01.class.arborian.com : ok=4    changed=0    unreachable=0    failed=0   \n",
      "arborian-02.class.arborian.com : ok=4    changed=0    unreachable=0    failed=0   \n",
      "\n"
     ]
    }
   ],
   "source": [
    "%%bash\n",
    "ansible-playbook playbooks/delegate-demo3.yaml"
   ]
  },
  {
   "cell_type": "markdown",
   "metadata": {
    "slideshow": {
     "slide_type": "slide"
    }
   },
   "source": [
    "## Serializing tasks\n",
    "\n",
    "By default, Ansible will run tasks in parallel across all hosts targeted. \n",
    "\n",
    "If you'd prefer some level of serialization, Ansible provides the `serial` key in plays. The value is the number of hosts to execute in parallel."
   ]
  },
  {
   "cell_type": "code",
   "execution_count": 9,
   "metadata": {
    "slideshow": {
     "slide_type": "fragment"
    }
   },
   "outputs": [
    {
     "name": "stdout",
     "output_type": "stream",
     "text": [
      "- hosts: all\r\n",
      "  serial: 1\r\n",
      "  tasks:\r\n",
      "    - name: Do something to each host, one at a time\r\n",
      "      debug: \"I am on host {{ansible_host}}\"\r\n"
     ]
    }
   ],
   "source": [
    "cat playbooks/serialize.yaml"
   ]
  },
  {
   "cell_type": "code",
   "execution_count": 10,
   "metadata": {
    "slideshow": {
     "slide_type": "slide"
    }
   },
   "outputs": [
    {
     "name": "stdout",
     "output_type": "stream",
     "text": [
      "\n",
      "PLAY [all] *********************************************************************\n",
      "\n",
      "TASK [Gathering Facts] *********************************************************\n",
      "ok: [arborian-01.class.arborian.com]\n",
      "\n",
      "TASK [Do something to each host, one at a time] ********************************\n",
      "ok: [arborian-01.class.arborian.com] => {\n",
      "    \"msg\": \"Hello world!\"\n",
      "}\n",
      "\n",
      "PLAY [all] *********************************************************************\n",
      "\n",
      "TASK [Gathering Facts] *********************************************************\n",
      "ok: [arborian-02.class.arborian.com]\n",
      "\n",
      "TASK [Do something to each host, one at a time] ********************************\n",
      "ok: [arborian-02.class.arborian.com] => {\n",
      "    \"msg\": \"Hello world!\"\n",
      "}\n",
      "\n",
      "PLAY [all] *********************************************************************\n",
      "\n",
      "TASK [Gathering Facts] *********************************************************\n",
      "ok: [arborian-03.class.arborian.com]\n",
      "\n",
      "TASK [Do something to each host, one at a time] ********************************\n",
      "ok: [arborian-03.class.arborian.com] => {\n",
      "    \"msg\": \"Hello world!\"\n",
      "}\n",
      "\n",
      "PLAY [all] *********************************************************************\n",
      "\n",
      "TASK [Gathering Facts] *********************************************************\n",
      "ok: [arborian-04.class.arborian.com]\n",
      "\n",
      "TASK [Do something to each host, one at a time] ********************************\n",
      "ok: [arborian-04.class.arborian.com] => {\n",
      "    \"msg\": \"Hello world!\"\n",
      "}\n",
      "\n",
      "PLAY [all] *********************************************************************\n",
      "\n",
      "TASK [Gathering Facts] *********************************************************\n",
      "ok: [arborian-05.class.arborian.com]\n",
      "\n",
      "TASK [Do something to each host, one at a time] ********************************\n",
      "ok: [arborian-05.class.arborian.com] => {\n",
      "    \"msg\": \"Hello world!\"\n",
      "}\n",
      "\n",
      "PLAY [all] *********************************************************************\n",
      "\n",
      "TASK [Gathering Facts] *********************************************************\n",
      "ok: [arborian-06.class.arborian.com]\n",
      "\n",
      "TASK [Do something to each host, one at a time] ********************************\n",
      "ok: [arborian-06.class.arborian.com] => {\n",
      "    \"msg\": \"Hello world!\"\n",
      "}\n",
      "\n",
      "PLAY RECAP *********************************************************************\n",
      "arborian-01.class.arborian.com : ok=2    changed=0    unreachable=0    failed=0   \n",
      "arborian-02.class.arborian.com : ok=2    changed=0    unreachable=0    failed=0   \n",
      "arborian-03.class.arborian.com : ok=2    changed=0    unreachable=0    failed=0   \n",
      "arborian-04.class.arborian.com : ok=2    changed=0    unreachable=0    failed=0   \n",
      "arborian-05.class.arborian.com : ok=2    changed=0    unreachable=0    failed=0   \n",
      "arborian-06.class.arborian.com : ok=2    changed=0    unreachable=0    failed=0   \n",
      "\n"
     ]
    }
   ],
   "source": [
    "%%bash\n",
    "ansible-playbook playbooks/serialize.yaml"
   ]
  },
  {
   "cell_type": "markdown",
   "metadata": {
    "slideshow": {
     "slide_type": "slide"
    }
   },
   "source": [
    "We can also give Ansible a list of values for `serial` to enable gradual rolling deployments:"
   ]
  },
  {
   "cell_type": "code",
   "execution_count": 11,
   "metadata": {
    "slideshow": {
     "slide_type": "fragment"
    }
   },
   "outputs": [
    {
     "name": "stdout",
     "output_type": "stream",
     "text": [
      "- hosts: all\r\n",
      "  serial:\r\n",
      "    - 1\r\n",
      "    - 20%\r\n",
      "    - 100%\r\n",
      "  tasks:\r\n",
      "    - name: Do something to each host, one at a time\r\n",
      "      debug: \"I am on host {{ansible_host}}\"\r\n"
     ]
    }
   ],
   "source": [
    "cat playbooks/serialize2.yaml"
   ]
  },
  {
   "cell_type": "code",
   "execution_count": 12,
   "metadata": {
    "slideshow": {
     "slide_type": "slide"
    }
   },
   "outputs": [
    {
     "name": "stdout",
     "output_type": "stream",
     "text": [
      "\n",
      "PLAY [all] *********************************************************************\n",
      "\n",
      "TASK [Gathering Facts] *********************************************************\n",
      "ok: [arborian-01.class.arborian.com]\n",
      "\n",
      "TASK [Do something to each host, one at a time] ********************************\n",
      "ok: [arborian-01.class.arborian.com] => {\n",
      "    \"msg\": \"Hello world!\"\n",
      "}\n",
      "\n",
      "PLAY [all] *********************************************************************\n",
      "\n",
      "TASK [Gathering Facts] *********************************************************\n",
      "ok: [arborian-02.class.arborian.com]\n",
      "\n",
      "TASK [Do something to each host, one at a time] ********************************\n",
      "ok: [arborian-02.class.arborian.com] => {\n",
      "    \"msg\": \"Hello world!\"\n",
      "}\n",
      "\n",
      "PLAY [all] *********************************************************************\n",
      "\n",
      "TASK [Gathering Facts] *********************************************************\n",
      "ok: [arborian-03.class.arborian.com]\n",
      "ok: [arborian-06.class.arborian.com]\n",
      "ok: [arborian-04.class.arborian.com]\n",
      "ok: [arborian-05.class.arborian.com]\n",
      "\n",
      "TASK [Do something to each host, one at a time] ********************************\n",
      "ok: [arborian-03.class.arborian.com] => {\n",
      "    \"msg\": \"Hello world!\"\n",
      "}\n",
      "ok: [arborian-04.class.arborian.com] => {\n",
      "    \"msg\": \"Hello world!\"\n",
      "}\n",
      "ok: [arborian-05.class.arborian.com] => {\n",
      "    \"msg\": \"Hello world!\"\n",
      "}\n",
      "ok: [arborian-06.class.arborian.com] => {\n",
      "    \"msg\": \"Hello world!\"\n",
      "}\n",
      "\n",
      "PLAY RECAP *********************************************************************\n",
      "arborian-01.class.arborian.com : ok=2    changed=0    unreachable=0    failed=0   \n",
      "arborian-02.class.arborian.com : ok=2    changed=0    unreachable=0    failed=0   \n",
      "arborian-03.class.arborian.com : ok=2    changed=0    unreachable=0    failed=0   \n",
      "arborian-04.class.arborian.com : ok=2    changed=0    unreachable=0    failed=0   \n",
      "arborian-05.class.arborian.com : ok=2    changed=0    unreachable=0    failed=0   \n",
      "arborian-06.class.arborian.com : ok=2    changed=0    unreachable=0    failed=0   \n",
      "\n"
     ]
    }
   ],
   "source": [
    "%%bash\n",
    "ansible-playbook playbooks/serialize2.yaml"
   ]
  },
  {
   "cell_type": "markdown",
   "metadata": {
    "slideshow": {
     "slide_type": "slide"
    }
   },
   "source": [
    "# Lab\n",
    "\n",
    "Using `serial` and `delegate_to` (or `local_action`), write a playbook that simulates a rolling deployment of application servers. \n",
    "\n",
    "- Start with playbooks/serialize2.yaml\n",
    "- Add a local_action to add / remove servers from a load balancer (just use the debug module to print a message)\n",
    "\n",
    "```ansible-playbook -i digital_ocean.py playbooks/serialize2.yaml```\n"
   ]
  },
  {
   "cell_type": "markdown",
   "metadata": {},
   "source": [
    "# Some additional notes\n",
    "\n",
    "A list of \"magic\" variables can be found at http://docs.ansible.com/ansible/latest/playbooks_variables.html#magic-variables-and-how-to-access-information-about-other-hosts"
   ]
  },
  {
   "cell_type": "code",
   "execution_count": null,
   "metadata": {},
   "outputs": [],
   "source": []
  }
 ],
 "metadata": {
  "celltoolbar": "Slideshow",
  "kernelspec": {
   "display_name": "Python 3",
   "language": "python",
   "name": "python3"
  },
  "language_info": {
   "codemirror_mode": {
    "name": "ipython",
    "version": 3
   },
   "file_extension": ".py",
   "mimetype": "text/x-python",
   "name": "python",
   "nbconvert_exporter": "python",
   "pygments_lexer": "ipython3",
   "version": "3.6.0"
  }
 },
 "nbformat": 4,
 "nbformat_minor": 2
}
