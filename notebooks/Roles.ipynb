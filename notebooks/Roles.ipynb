{
 "cells": [
  {
   "cell_type": "code",
   "execution_count": 1,
   "metadata": {
    "slideshow": {
     "slide_type": "skip"
    }
   },
   "outputs": [
    {
     "name": "stdout",
     "output_type": "stream",
     "text": [
      "/Users/rick446/src/Classes/Ansible\n"
     ]
    }
   ],
   "source": [
    "cd ~/src/Classes/Ansible/"
   ]
  },
  {
   "cell_type": "markdown",
   "metadata": {
    "slideshow": {
     "slide_type": "slide"
    }
   },
   "source": [
    "# Roles: _Really_ organizing your code\n",
    "\n",
    "A *Role* is a directory structure organizing different parts of plays in ways that let them be included in other playbooks easily:\n",
    "\n",
    "- **role_name**\n",
    "  - files\n",
    "  - templates\n",
    "  - tasks\n",
    "  - handlers\n",
    "  - vars\n",
    "  - defaults\n",
    "  - meta"
   ]
  },
  {
   "cell_type": "markdown",
   "metadata": {
    "slideshow": {
     "slide_type": "slide"
    }
   },
   "source": [
    "If you have a role defined, it cab be used in a play using the `roles:` key, e.g.:\n",
    "\n",
    "```\n",
    "---\n",
    "- hosts: all\n",
    "  roles:\n",
    "    - my_custom_role\n",
    "```"
   ]
  },
  {
   "cell_type": "markdown",
   "metadata": {
    "slideshow": {
     "slide_type": "fragment"
    }
   },
   "source": [
    "This means to look in `my_custom_role` files named `main.yml` and add them to the play. Particularly, \n",
    "\n",
    "- If `my_custom_role/tasks/main.yml` exists, it is added to the `tasks:` part of the play\n",
    "- If `my_custom_role/handlers/main.yml` exists, it is added to the `handlers:` part of the play\n",
    "- If `my_custom_role/vars/main.yml` exists, it is added to the `vars:` part of the play\n",
    "- If `my_custom_role/defaults/main.yml` exists, it is added to the `vars:` part of the play (as super-low priority)\n",
    "- If `my_custom_role/meta/main.yml` exists, it is added to the `roles:` part of the play (think \"sub-roles\")"
   ]
  },
  {
   "cell_type": "markdown",
   "metadata": {
    "slideshow": {
     "slide_type": "slide"
    }
   },
   "source": [
    "# Ansible Galaxy: A shared repository of Roles\n",
    "\n",
    "To use Ansible Galaxy, we first should set up a `roles_path` in `ansible.cfg`. Mine looks like this now:\n",
    "\n",
    "```\n",
    "[defaults]\n",
    "# ...\n",
    "roles_path = ./roles\n",
    "```\n",
    "\n",
    "Now we can browse the [Ansible Galaxy](https://galaxy.ansible.com/) website and use the `ansible-galaxy` command-line tool to install roles. "
   ]
  },
  {
   "cell_type": "markdown",
   "metadata": {
    "slideshow": {
     "slide_type": "slide"
    }
   },
   "source": [
    "## Examining a popular Galaxy role: nginx"
   ]
  },
  {
   "cell_type": "code",
   "execution_count": null,
   "metadata": {},
   "outputs": [],
   "source": [
    "%%bash\n",
    "ansible-galaxy install bennojoy.nginx\n",
    "tree roles"
   ]
  },
  {
   "cell_type": "markdown",
   "metadata": {
    "slideshow": {
     "slide_type": "slide"
    }
   },
   "source": [
    " To use the role, we just need to add it to the `roles` key in our playbook. In this case, we'll also add some role variables to it:"
   ]
  },
  {
   "cell_type": "code",
   "execution_count": null,
   "metadata": {
    "slideshow": {
     "slide_type": "fragment"
    }
   },
   "outputs": [],
   "source": [
    "cat playbooks/setup-webservers.yaml"
   ]
  },
  {
   "cell_type": "code",
   "execution_count": null,
   "metadata": {
    "slideshow": {
     "slide_type": "slide"
    }
   },
   "outputs": [],
   "source": [
    "%%bash\n",
    "ansible-playbook playbooks/setup-webservers.yaml"
   ]
  },
  {
   "cell_type": "markdown",
   "metadata": {
    "slideshow": {
     "slide_type": "slide"
    }
   },
   "source": [
    "Here is another playbook to set up per-user directories on the web hosts:"
   ]
  },
  {
   "cell_type": "code",
   "execution_count": null,
   "metadata": {
    "slideshow": {
     "slide_type": "fragment"
    }
   },
   "outputs": [],
   "source": [
    "cat playbooks/make-site.yaml"
   ]
  },
  {
   "cell_type": "code",
   "execution_count": null,
   "metadata": {
    "slideshow": {
     "slide_type": "slide"
    }
   },
   "outputs": [],
   "source": [
    "%%bash\n",
    "ansible-playbook playbooks/make-site.yaml"
   ]
  },
  {
   "cell_type": "markdown",
   "metadata": {
    "slideshow": {
     "slide_type": "slide"
    }
   },
   "source": [
    "# Lab: Install a per-user nginx site\n",
    "\n",
    "Ensure that your username and roles path is set in the ansible.cfg\n",
    "\n",
    "```\n",
    "ansible-galaxy install bennojoy.nginx\n",
    "\n",
    "```\n",
    "\n",
    "Create your own personal home page using the make-site playbook:\n",
    "\n",
    "```\n",
    "ansible-playbook playbooks/make-site.yaml\n",
    "```\n",
    "\n",
    "Access your website: http://arborian-01.class.arborian.com/~rick/ (use your username)"
   ]
  },
  {
   "cell_type": "code",
   "execution_count": null,
   "metadata": {},
   "outputs": [],
   "source": []
  }
 ],
 "metadata": {
  "celltoolbar": "Slideshow",
  "kernelspec": {
   "display_name": "Python 3",
   "language": "python",
   "name": "python3"
  },
  "language_info": {
   "codemirror_mode": {
    "name": "ipython",
    "version": 3
   },
   "file_extension": ".py",
   "mimetype": "text/x-python",
   "name": "python",
   "nbconvert_exporter": "python",
   "pygments_lexer": "ipython3",
   "version": "3.6.0"
  }
 },
 "nbformat": 4,
 "nbformat_minor": 2
}
