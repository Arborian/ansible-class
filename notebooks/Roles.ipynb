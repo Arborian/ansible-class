{
 "cells": [
  {
   "cell_type": "code",
   "execution_count": 4,
   "metadata": {
    "slideshow": {
     "slide_type": "skip"
    }
   },
   "outputs": [
    {
     "name": "stdout",
     "output_type": "stream",
     "text": [
      "/Users/rick446/src/Classes/Ansible\n"
     ]
    }
   ],
   "source": [
    "cd ~/src/Classes/Ansible/"
   ]
  },
  {
   "cell_type": "markdown",
   "metadata": {
    "slideshow": {
     "slide_type": "slide"
    }
   },
   "source": [
    "# Roles: _Really_ organizing your code\n",
    "\n",
    "A *Role* is a directory structure organizing different parts of plays in ways that let them be included in other playbooks easily:\n",
    "\n",
    "- **role_name**\n",
    "  - files\n",
    "  - templates\n",
    "  - tasks\n",
    "  - handlers\n",
    "  - vars\n",
    "  - defaults\n",
    "  - meta"
   ]
  },
  {
   "cell_type": "markdown",
   "metadata": {
    "slideshow": {
     "slide_type": "slide"
    }
   },
   "source": [
    "If you have a role defined, it cab be used in a play using the `roles:` key, e.g.:\n",
    "\n",
    "```\n",
    "---\n",
    "- hosts: all\n",
    "  roles:\n",
    "    - my_custom_role\n",
    "```"
   ]
  },
  {
   "cell_type": "markdown",
   "metadata": {
    "slideshow": {
     "slide_type": "fragment"
    }
   },
   "source": [
    "This means to look in `my_custom_role` files named `main.yml` and add them to the play. Particularly, \n",
    "\n",
    "- If `my_custom_role/tasks/main.yml` exists, it is added to the `tasks:` part of the play\n",
    "- If `my_custom_role/handlers/main.yml` exists, it is added to the `handlers:` part of the play\n",
    "- If `my_custom_role/vars/main.yml` exists, it is added to the `vars:` part of the play\n",
    "- If `my_custom_role/defaults/main.yml` exists, it is added to the `vars:` part of the play (as super-low priority)\n",
    "- If `my_custom_role/meta/main.yml` exists, it is added to the `roles:` part of the play (think \"sub-roles\")"
   ]
  },
  {
   "cell_type": "markdown",
   "metadata": {
    "slideshow": {
     "slide_type": "slide"
    }
   },
   "source": [
    "# Ansible Galaxy: A shared repository of Roles\n",
    "\n",
    "To use Ansible Galaxy, we first should set up a `roles_path` in `ansible.cfg`. Mine looks like this now:\n",
    "\n",
    "```\n",
    "[defaults]\n",
    "# ...\n",
    "roles_path = ./roles\n",
    "```\n",
    "\n",
    "Now we can browse the [Ansible Galaxy](https://galaxy.ansible.com/) website and use the `ansible-galaxy` command-line tool to install roles. "
   ]
  },
  {
   "cell_type": "markdown",
   "metadata": {
    "slideshow": {
     "slide_type": "slide"
    }
   },
   "source": [
    "## Examining a popular Galaxy role: nginx"
   ]
  },
  {
   "cell_type": "code",
   "execution_count": 5,
   "metadata": {},
   "outputs": [
    {
     "name": "stdout",
     "output_type": "stream",
     "text": [
      "roles\n",
      "└── bennojoy.nginx\n",
      "    ├── README.md\n",
      "    ├── defaults\n",
      "    │   └── main.yml\n",
      "    ├── files\n",
      "    │   └── epel.repo\n",
      "    ├── handlers\n",
      "    │   └── main.yml\n",
      "    ├── meta\n",
      "    │   └── main.yml\n",
      "    ├── tasks\n",
      "    │   └── main.yml\n",
      "    ├── templates\n",
      "    │   ├── default.conf.j2\n",
      "    │   ├── default.j2\n",
      "    │   ├── nginx.conf.j2\n",
      "    │   └── site.j2\n",
      "    └── vars\n",
      "        └── main.yml\n",
      "\n",
      "8 directories, 11 files\n"
     ]
    },
    {
     "name": "stderr",
     "output_type": "stream",
     "text": [
      " [WARNING]: - bennojoy.nginx (master) is already installed - use --force to\n",
      "change version to unspecified\n"
     ]
    }
   ],
   "source": [
    "%%bash\n",
    "ansible-galaxy install bennojoy.nginx\n",
    "tree roles"
   ]
  },
  {
   "cell_type": "markdown",
   "metadata": {
    "slideshow": {
     "slide_type": "slide"
    }
   },
   "source": [
    " To use the role, we just need to add it to the `roles` key in our playbook. In this case, we'll also add some role variables to it:"
   ]
  },
  {
   "cell_type": "code",
   "execution_count": 6,
   "metadata": {
    "slideshow": {
     "slide_type": "fragment"
    }
   },
   "outputs": [
    {
     "name": "stdout",
     "output_type": "stream",
     "text": [
      "- hosts: web\r\n",
      "  roles:\r\n",
      "    - role: nginx\r\n",
      "      nginx_http_params:\r\n",
      "        sendfile: 'on'\r\n",
      "        access_log: '/var/log/nginx/access.log'\r\n",
      "      nginx_sites:\r\n",
      "       - server:\r\n",
      "          file_name: foo\r\n",
      "          listen: 8080\r\n",
      "          server_name: localhost\r\n",
      "          root: '/tmp/site1'\r\n",
      "          location1: {name: /, try_files: '$uri $uri/ /index.html'}\r\n",
      "          location2: {name: /images/, try_files: '$uri $uri/ /index.html'}\r\n",
      "       - server:\r\n",
      "          file_name: bar\r\n",
      "          listen: 9090\r\n",
      "          server_name: ansible\r\n",
      "          root: '/tmp/site2'\r\n",
      "          location1: {name: /, try_files: '$uri $uri/ /index.html'}\r\n",
      "          location2: {name: /images/, try_files: '$uri $uri/ /index.html'}"
     ]
    }
   ],
   "source": [
    "cat playbooks/setup-webservers.yaml"
   ]
  },
  {
   "cell_type": "code",
   "execution_count": null,
   "metadata": {
    "slideshow": {
     "slide_type": "slide"
    }
   },
   "outputs": [],
   "source": [
    "%%bash\n",
    "ansible-playbook playbooks/setup-webservers.yaml"
   ]
  },
  {
   "cell_type": "markdown",
   "metadata": {},
   "source": [
    "Here is another playbook to set up per-user directories on the web hosts:"
   ]
  },
  {
   "cell_type": "code",
   "execution_count": 13,
   "metadata": {},
   "outputs": [
    {
     "name": "stdout",
     "output_type": "stream",
     "text": [
      "- hosts: web\r\n",
      "\r\n",
      "  pre_tasks:\r\n",
      "  - name: Ensure public_html exists\r\n",
      "    file: path=~/public_html state=directory mode=755\r\n",
      "  - name: Put a file in public_html\r\n",
      "    file: path=~/public_html/index.html state=touch mode=644\r\n",
      "  - name: Put a message in the file\r\n",
      "    lineinfile: line=\"Hello there {{ansible_ssh_user}}\" dest=~/public_html/index.html\r\n",
      "\r\n",
      "  roles:\r\n",
      "  - role: bennojoy.nginx\r\n",
      "    become: on\r\n",
      "    nginx_sites:\r\n",
      "    - server:\r\n",
      "        file_name: \"{{ansible_ssh_user}}-site\"\r\n",
      "        location1:\r\n",
      "          name: \"/\"\r\n",
      "          root: \"/usr/share/nginx/html\"\r\n",
      "        location2:\r\n",
      "          name: \"/~{{ansible_ssh_user}}\"\r\n",
      "          alias: \"/home/{{ansible_ssh_user}}/public_html\"\r\n",
      "          try_files: \"$uri $uri/ /index.html\"\r\n",
      "\r\n"
     ]
    }
   ],
   "source": [
    "cat playbooks/make-site.yaml"
   ]
  },
  {
   "cell_type": "code",
   "execution_count": null,
   "metadata": {},
   "outputs": [],
   "source": []
  }
 ],
 "metadata": {
  "celltoolbar": "Slideshow",
  "kernelspec": {
   "display_name": "Python 3",
   "language": "python",
   "name": "python3"
  },
  "language_info": {
   "codemirror_mode": {
    "name": "ipython",
    "version": 3
   },
   "file_extension": ".py",
   "mimetype": "text/x-python",
   "name": "python",
   "nbconvert_exporter": "python",
   "pygments_lexer": "ipython3",
   "version": "3.6.0"
  }
 },
 "nbformat": 4,
 "nbformat_minor": 2
}
