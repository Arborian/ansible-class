{
 "cells": [
  {
   "cell_type": "markdown",
   "metadata": {
    "slideshow": {
     "slide_type": "slide"
    }
   },
   "source": [
    "# Ansible Fundamentals\n",
    "\n",
    "## DevelopIntelligence\n",
    "\n",
    "Instructor: Rick Copeland <rick@arborian.com>\n",
    "\n",
    "Class Repository: https://github.com/Arborian/ansible-class\n",
    "\n",
    "Class Times\n",
    "- 09:00 - 05:00\n",
    "- Lunch 11:45 - 12:45\n",
    "\n",
    "Class Format:\n",
    "\n",
    " - Interactive demo / lecture\n",
    " - Hands-on, with frequent labs\n",
    " - In addition to lab times, breaks every 60 ~ 90 minutes"
   ]
  },
  {
   "cell_type": "markdown",
   "metadata": {
    "slideshow": {
     "slide_type": "slide"
    }
   },
   "source": [
    "# Getting to Know You\n",
    "\n",
    "- Name\n",
    "- Programming / operations experience? (e.g. Chef, Puppet, Salt, Fabric?)\n",
    "- Job role\n",
    "- Specific thing you'd like to learn"
   ]
  },
  {
   "cell_type": "markdown",
   "metadata": {
    "slideshow": {
     "slide_type": "slide"
    }
   },
   "source": [
    "# Logistics\n",
    "\n",
    "- Please sign in each day!\n",
    "- Each student will need to fill out a class evaluation via HIVE at the conclusion of the course"
   ]
  },
  {
   "cell_type": "markdown",
   "metadata": {
    "slideshow": {
     "slide_type": "slide"
    }
   },
   "source": [
    "# (Rough) Outline\n",
    "\n",
    "## Day 1\n",
    "\n",
    "- Introduction to Ansible and Devops\n",
    "    - What is Devops\n",
    "    - What is Ansible\n",
    "    - Comparison with other automation tools\n",
    "- Setting up Learning Environment\n",
    "    - Vagrant overview / quick demo\n",
    "    - Additional Setup Tasks\n",
    "- Inventorying your Infrastructure\n",
    "    - What is Hosts Inventory?\n",
    "    - Hosts and Groups\n",
    "    - Host/Group Variables\n",
    "    - Dynamic Inventory\n",
    "    - Building Patterns\n",
    "    - Grouping Hosts with Patterns\n",
    "    - Ansible Host Patterns & Roles\n",
    "- Ad Hoc Server Management\n",
    "    - Running one time tasks/commands\n",
    "    - Running commands in parallel\n",
    "    - Interesting Modules\n",
    "        - File Transfer\n",
    "        - Managing Packages\n",
    "        - Managing Users\n",
    "        - Deploying from Source Control\n",
    "        - Managing Services\n",
    "- Playbooks – the real magic\n",
    "    - Introduction to Ansible Playbooks\n",
    "    - Plays\n",
    "    - Tasks\n",
    "    - Actions\n",
    "    - Modules"
   ]
  },
  {
   "cell_type": "markdown",
   "metadata": {
    "slideshow": {
     "slide_type": "slide"
    }
   },
   "source": [
    "## Day 2\n",
    "\n",
    "- Roles for Modularizing Code\n",
    "    - Playbook Roles and Include Statements\n",
    "    - Directory Layout for Modules\n",
    "    - Notifications and Handlers\n",
    "- Writing a simple module to install web server\n",
    "    - Variables and Templates\n",
    "    - Variables and Facts\n",
    "    - Variable Precedence\n",
    "    - Registered Variables\n",
    "    - Metadata\n",
    "    - Static Contents Explosion\n",
    "- Using Dynamic Content with Templates\n",
    "    - Templates Overview\n",
    "    - Jinja\n",
    "- Advanced topics"
   ]
  },
  {
   "cell_type": "markdown",
   "metadata": {
    "slideshow": {
     "slide_type": "slide"
    }
   },
   "source": [
    "# Topic List\n",
    "\n",
    "- [Introduction to Ansible][intro] ([slides][intro-slides])\n",
    "- [Learning Environment][vagrant] ([slides][vagrant-slides])\n",
    "- [Inventory, Hosts, and Groups][inventory] ([slides][inventory-slides])\n",
    "- [Ad-Hoc Commands][adhoc] ([slides][adhoc-slides])\n",
    "- [Playbooks][playbooks] ([slides][playbooks-slides])\n",
    "- [Playbook Debugging][playbook-debugging] ([slides][playbook-debugging-slides])\n",
    "<hr>\n",
    "\n",
    "- [Roles][roles] ([slides][roles-slides])\n",
    "- [Custom Modules][modules] ([slides][modules-slides])\n",
    "- [Using the Vault for Sensitive Data][vault] ([slides][vault-slides])\n",
    "- [Fact Caching][factcache] ([slides][factcache-slides])\n",
    "\n",
    "- [Playbook Delegation][playbook-delegation] ([slides][playbook-delegation-slides])\n",
    "- [Ansible Galaxy: Sharing Roles][galaxy] ([slides][galaxy-slides])\n",
    "- [Ansible and Docker][docker] ([slides][docker-slides])\n",
    "- [Cloud Modules][cloud] ([slides][cloud-slides])\n",
    "- [Notifications][notifications] ([slides][notifications-slides])\n",
    "- [Source Control][scm] ([slides][scm-slides])\n",
    "- [Databases][db] ([slides][db-slides])\n",
    "- [Monitoring][monitor] ([monitor][monitor-slides])\n",
    "\n",
    "[intro]: ./Introduction%20to%20Ansible%20and%20DevOps.ipynb\n",
    "[vagrant]: ./Vagrant.ipynb\n",
    "[inventory]: ./Inventory-Hosts-Groups.ipynb\n",
    "\n",
    "[start]: ./Getting%20started%20with%20Ansible.ipynb\n",
    "[adhoc]: ./AdHoc.ipynb\n",
    "[playbooks]: ./Playbooks.ipynb\n",
    "[roles]: ./Roles.ipynb\n",
    "[modules]: ./Modules.ipynb\n",
    "[vault]: ./Vault.ipynb\n",
    "[factcache]: ./FactCache.ipynb\n",
    "[playbook-debugging]: ./PlaybookDebugging.ipynb\n",
    "[playbook-delegation]: ./PlaybookDelegation.ipynb\n",
    "[galaxy]: ./Galaxy.ipynb\n",
    "[docker]: ./AnsibleAndDocker.ipynb\n",
    "[cloud]: ./AnsibleCloud.ipynb\n",
    "[notifications]: ./Notifications.ipynb\n",
    "[scm]: ./SourceControl.ipynb\n",
    "[db]: ./Databases.ipynb\n",
    "[monitor]: ./Monitoring.ipynb\n",
    "\n",
    "[intro-slides]: ./Introduction%20to%20Ansible%20and%20DevOps.slides.html\n",
    "[vagrant-slides]: ./Vagrant.slides.html\n",
    "[inventory-slides]: ./Inventory-Hosts-Groups.slides.html\n",
    "\n",
    "\n",
    "[start-slides]: ./Getting%20started%20with%20Ansible.slides.html\n",
    "[adhoc-slides]: ./Adhoc.slides.html\n",
    "[playbooks-slides]: ./Playbooks.slides.html\n",
    "[roles-slides]: ./Roles.slides.html\n",
    "[modules-slides]: ./Modules.slides.html\n",
    "[vault-slides]: ./Vault.slides.html\n",
    "[factcache-slides]: ./FactCache.slides.html\n",
    "[playbook-debugging-slides]: ./PlaybookDebugging.slides.html\n",
    "[playbook-delegation-slides]: ./PlaybookDelegation.slides.html\n",
    "[galaxy-slides]: ./Galaxy.slides.html\n",
    "[docker-slides]: ./AnsibleAndDocker.slides.html\n",
    "[cloud-slides]: ./AnsibleCloud.slides.html\n",
    "[notifications-slides]: ./Notifications.slides.html\n",
    "[scm-slides]: ./SourceControl.slides.html\n",
    "[db-slides]: ./Databases.slides.html\n",
    "[monitor-slides]: ./Monitoring.slides.html\n"
   ]
  },
  {
   "cell_type": "code",
   "execution_count": null,
   "metadata": {},
   "outputs": [],
   "source": []
  }
 ],
 "metadata": {
  "celltoolbar": "Slideshow",
  "kernelspec": {
   "display_name": "Python 3",
   "language": "python",
   "name": "python3"
  },
  "language_info": {
   "codemirror_mode": {
    "name": "ipython",
    "version": 3
   },
   "file_extension": ".py",
   "mimetype": "text/x-python",
   "name": "python",
   "nbconvert_exporter": "python",
   "pygments_lexer": "ipython3",
   "version": "3.6.0"
  }
 },
 "nbformat": 4,
 "nbformat_minor": 2
}
