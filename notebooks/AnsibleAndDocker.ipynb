{
 "cells": [
  {
   "cell_type": "code",
   "execution_count": 1,
   "metadata": {
    "slideshow": {
     "slide_type": "skip"
    }
   },
   "outputs": [
    {
     "name": "stdout",
     "output_type": "stream",
     "text": [
      "/Users/rick446/src/Classes/Ansible\n"
     ]
    }
   ],
   "source": [
    "cd ~/src/Classes/Ansible/"
   ]
  },
  {
   "cell_type": "markdown",
   "metadata": {
    "slideshow": {
     "slide_type": "slide"
    }
   },
   "source": [
    "# Managing Docker via Ansible\n",
    "\n",
    "Ansible includes several modules for running container commands on a host:\n",
    "\n",
    "- `docker_container` - manage docker containers\n",
    "- `docker_image` - Manage docker images.\n",
    "- `docker_image_facts` - Inspect docker images\n",
    "- `docker_login` - Log into a Docker registry.\n",
    "- `docker_network` - Manage Docker networks\n",
    "- `docker_secret` - Manage docker secrets.\n",
    "- `docker_service` - Manage docker services and containers.\n",
    "- `docker_volume` - Manage Docker volumes"
   ]
  },
  {
   "cell_type": "markdown",
   "metadata": {
    "slideshow": {
     "slide_type": "slide"
    }
   },
   "source": [
    "## Bootstrapping Docker\n",
    "\n",
    "Hosts require a few things to run the Ansible Docker modules. In particular, hosts must have:\n",
    "\n",
    "- Docker installed\n",
    "- docker-py installed\n",
    "\n",
    "To get these dependencies installed, we can use a playbook:"
   ]
  },
  {
   "cell_type": "code",
   "execution_count": 2,
   "metadata": {
    "scrolled": false,
    "slideshow": {
     "slide_type": "slide"
    }
   },
   "outputs": [
    {
     "name": "stdout",
     "output_type": "stream",
     "text": [
      "- hosts: db\r\n",
      "  gather_facts: no\r\n",
      "  become: yes\r\n",
      "  tasks:\r\n",
      "  - name: Install Docker\r\n",
      "    apt:\r\n",
      "      name: docker.io\r\n",
      "      state: installed\r\n",
      "  - name: start docker\r\n",
      "    service:\r\n",
      "      name: docker\r\n",
      "      state: started\r\n",
      "  - name: Adding user {{ ansible_ssh_user }} as a docker user\r\n",
      "    user:\r\n",
      "      name: '{{ansible_ssh_user}}'\r\n",
      "      groups: docker\r\n",
      "      append: yes\r\n",
      "  - name: Install pip\r\n",
      "    apt:\r\n",
      "      name: python-pip\r\n",
      "      state: installed\r\n",
      "  - name: Add docker dependencies\r\n",
      "    pip:\r\n",
      "      name: docker-py\r\n",
      "      state: latest\r\n"
     ]
    }
   ],
   "source": [
    "cat playbooks/bootstrap-docker.yaml"
   ]
  },
  {
   "cell_type": "code",
   "execution_count": 4,
   "metadata": {
    "slideshow": {
     "slide_type": "slide"
    }
   },
   "outputs": [
    {
     "name": "stdout",
     "output_type": "stream",
     "text": [
      "\n",
      "PLAY [db] **********************************************************************\n",
      "\n",
      "TASK [Install Docker] **********************************************************\n",
      "ok: [arborian-03.class.arborian.com]\n",
      "ok: [arborian-04.class.arborian.com]\n",
      "\n",
      "TASK [start docker] ************************************************************\n",
      "ok: [arborian-03.class.arborian.com]\n",
      "ok: [arborian-04.class.arborian.com]\n",
      "\n",
      "TASK [Adding user {{ ansible_ssh_user }} as a docker user] *********************\n",
      "ok: [arborian-03.class.arborian.com]\n",
      "ok: [arborian-04.class.arborian.com]\n",
      "\n",
      "TASK [Install pip] *************************************************************\n",
      "ok: [arborian-03.class.arborian.com]\n",
      "ok: [arborian-04.class.arborian.com]\n",
      "\n",
      "TASK [Add docker dependencies] *************************************************\n",
      "ok: [arborian-03.class.arborian.com]\n",
      "ok: [arborian-04.class.arborian.com]\n",
      "\n",
      "PLAY RECAP *********************************************************************\n",
      "arborian-03.class.arborian.com : ok=5    changed=0    unreachable=0    failed=0   \n",
      "arborian-04.class.arborian.com : ok=5    changed=0    unreachable=0    failed=0   \n",
      "\n"
     ]
    }
   ],
   "source": [
    "%%bash\n",
    "ansible-playbook playbooks/bootstrap-docker.yaml"
   ]
  },
  {
   "cell_type": "markdown",
   "metadata": {
    "slideshow": {
     "slide_type": "slide"
    }
   },
   "source": [
    "Now that that's done, we can run playbooks with our `docker_container` module, or just invoke it as a one-off:"
   ]
  },
  {
   "cell_type": "code",
   "execution_count": 6,
   "metadata": {
    "scrolled": true,
    "slideshow": {
     "slide_type": "fragment"
    }
   },
   "outputs": [
    {
     "name": "stdout",
     "output_type": "stream",
     "text": [
      "arborian-04.class.arborian.com | SUCCESS => {\n",
      "    \"ansible_facts\": {\n",
      "        \"docker_container\": {\n",
      "            \"AppArmorProfile\": \"\",\n",
      "            \"Args\": [\n",
      "                \"redis-server\"\n",
      "            ],\n",
      "            \"Config\": {\n",
      "                \"AttachStderr\": false,\n",
      "                \"AttachStdin\": false,\n",
      "                \"AttachStdout\": false,\n",
      "                \"Cmd\": [\n",
      "                    \"redis-server\"\n",
      "                ],\n",
      "                \"Domainname\": \"\",\n",
      "                \"Entrypoint\": [\n",
      "                    \"docker-entrypoint.sh\"\n",
      "                ],\n",
      "                \"Env\": [\n",
      "                    \"PATH=/usr/local/sbin:/usr/local/bin:/usr/sbin:/usr/bin:/sbin:/bin\",\n",
      "                    \"GOSU_VERSION=1.10\",\n",
      "                    \"REDIS_VERSION=4.0.2\",\n",
      "                    \"REDIS_DOWNLOAD_URL=http://download.redis.io/releases/redis-4.0.2.tar.gz\",\n",
      "                    \"REDIS_DOWNLOAD_SHA=b1a0915dbc91b979d06df1977fe594c3fa9b189f1f3d38743a2948c9f7634813\"\n",
      "                ],\n",
      "                \"ExposedPorts\": {\n",
      "                    \"6379/tcp\": {}\n",
      "                },\n",
      "                \"Hostname\": \"8d0173eba400\",\n",
      "                \"Image\": \"redis:latest\",\n",
      "                \"Labels\": {},\n",
      "                \"OnBuild\": null,\n",
      "                \"OpenStdin\": false,\n",
      "                \"StdinOnce\": false,\n",
      "                \"Tty\": false,\n",
      "                \"User\": \"\",\n",
      "                \"Volumes\": {\n",
      "                    \"/data\": {}\n",
      "                },\n",
      "                \"WorkingDir\": \"/data\"\n",
      "            },\n",
      "            \"Created\": \"2017-10-13T02:49:15.340064639Z\",\n",
      "            \"Driver\": \"aufs\",\n",
      "            \"ExecIDs\": null,\n",
      "            \"GraphDriver\": {\n",
      "                \"Data\": null,\n",
      "                \"Name\": \"aufs\"\n",
      "            },\n",
      "            \"HostConfig\": {\n",
      "                \"AutoRemove\": false,\n",
      "                \"Binds\": [],\n",
      "                \"BlkioDeviceReadBps\": null,\n",
      "                \"BlkioDeviceReadIOps\": null,\n",
      "                \"BlkioDeviceWriteBps\": null,\n",
      "                \"BlkioDeviceWriteIOps\": null,\n",
      "                \"BlkioWeight\": 0,\n",
      "                \"BlkioWeightDevice\": null,\n",
      "                \"CapAdd\": null,\n",
      "                \"CapDrop\": null,\n",
      "                \"Cgroup\": \"\",\n",
      "                \"CgroupParent\": \"\",\n",
      "                \"ConsoleSize\": [\n",
      "                    0,\n",
      "                    0\n",
      "                ],\n",
      "                \"ContainerIDFile\": \"\",\n",
      "                \"CpuCount\": 0,\n",
      "                \"CpuPercent\": 0,\n",
      "                \"CpuPeriod\": 0,\n",
      "                \"CpuQuota\": 0,\n",
      "                \"CpuShares\": 0,\n",
      "                \"CpusetCpus\": \"\",\n",
      "                \"CpusetMems\": \"\",\n",
      "                \"Devices\": null,\n",
      "                \"DiskQuota\": 0,\n",
      "                \"Dns\": null,\n",
      "                \"DnsOptions\": null,\n",
      "                \"DnsSearch\": null,\n",
      "                \"ExtraHosts\": null,\n",
      "                \"GroupAdd\": null,\n",
      "                \"IOMaximumBandwidth\": 0,\n",
      "                \"IOMaximumIOps\": 0,\n",
      "                \"IpcMode\": \"\",\n",
      "                \"Isolation\": \"\",\n",
      "                \"KernelMemory\": 0,\n",
      "                \"Links\": null,\n",
      "                \"LogConfig\": {\n",
      "                    \"Config\": {},\n",
      "                    \"Type\": \"json-file\"\n",
      "                },\n",
      "                \"Memory\": 0,\n",
      "                \"MemoryReservation\": 0,\n",
      "                \"MemorySwap\": 0,\n",
      "                \"MemorySwappiness\": -1,\n",
      "                \"NetworkMode\": \"default\",\n",
      "                \"OomKillDisable\": false,\n",
      "                \"OomScoreAdj\": 0,\n",
      "                \"PidMode\": \"\",\n",
      "                \"PidsLimit\": 0,\n",
      "                \"PortBindings\": null,\n",
      "                \"Privileged\": false,\n",
      "                \"PublishAllPorts\": false,\n",
      "                \"ReadonlyRootfs\": false,\n",
      "                \"RestartPolicy\": {\n",
      "                    \"MaximumRetryCount\": 0,\n",
      "                    \"Name\": \"\"\n",
      "                },\n",
      "                \"Runtime\": \"runc\",\n",
      "                \"SecurityOpt\": null,\n",
      "                \"ShmSize\": 67108864,\n",
      "                \"UTSMode\": \"\",\n",
      "                \"Ulimits\": null,\n",
      "                \"UsernsMode\": \"\",\n",
      "                \"VolumeDriver\": \"\",\n",
      "                \"VolumesFrom\": null\n",
      "            },\n",
      "            \"HostnamePath\": \"/var/lib/docker/containers/8d0173eba400446f647c7bbb80ea5666780e5e9a0b7da113a87067b03c586010/hostname\",\n",
      "            \"HostsPath\": \"/var/lib/docker/containers/8d0173eba400446f647c7bbb80ea5666780e5e9a0b7da113a87067b03c586010/hosts\",\n",
      "            \"Id\": \"8d0173eba400446f647c7bbb80ea5666780e5e9a0b7da113a87067b03c586010\",\n",
      "            \"Image\": \"sha256:1fb7b6c8c0d0713640c99dc75f7f39849cb9fc5619c1ba4ff6da286e6af759ee\",\n",
      "            \"LogPath\": \"/var/lib/docker/containers/8d0173eba400446f647c7bbb80ea5666780e5e9a0b7da113a87067b03c586010/8d0173eba400446f647c7bbb80ea5666780e5e9a0b7da113a87067b03c586010-json.log\",\n",
      "            \"MountLabel\": \"\",\n",
      "            \"Mounts\": [\n",
      "                {\n",
      "                    \"Destination\": \"/data\",\n",
      "                    \"Driver\": \"local\",\n",
      "                    \"Mode\": \"\",\n",
      "                    \"Name\": \"14edebf69f4ca34d9c5e0aa50cb2d96e4e7c55f9e85dd762be8e23b8f922d630\",\n",
      "                    \"Propagation\": \"\",\n",
      "                    \"RW\": true,\n",
      "                    \"Source\": \"/var/lib/docker/volumes/14edebf69f4ca34d9c5e0aa50cb2d96e4e7c55f9e85dd762be8e23b8f922d630/_data\"\n",
      "                }\n",
      "            ],\n",
      "            \"Name\": \"/redis\",\n",
      "            \"NetworkSettings\": {\n",
      "                \"Bridge\": \"\",\n",
      "                \"EndpointID\": \"1b9ef8c478f856f651d1ab7685290c8584c37f053ef023423ef270e26a51d53c\",\n",
      "                \"Gateway\": \"172.17.0.1\",\n",
      "                \"GlobalIPv6Address\": \"\",\n",
      "                \"GlobalIPv6PrefixLen\": 0,\n",
      "                \"HairpinMode\": false,\n",
      "                \"IPAddress\": \"172.17.0.3\",\n",
      "                \"IPPrefixLen\": 16,\n",
      "                \"IPv6Gateway\": \"\",\n",
      "                \"LinkLocalIPv6Address\": \"\",\n",
      "                \"LinkLocalIPv6PrefixLen\": 0,\n",
      "                \"MacAddress\": \"02:42:ac:11:00:03\",\n",
      "                \"Networks\": {\n",
      "                    \"bridge\": {\n",
      "                        \"Aliases\": null,\n",
      "                        \"EndpointID\": \"1b9ef8c478f856f651d1ab7685290c8584c37f053ef023423ef270e26a51d53c\",\n",
      "                        \"Gateway\": \"172.17.0.1\",\n",
      "                        \"GlobalIPv6Address\": \"\",\n",
      "                        \"GlobalIPv6PrefixLen\": 0,\n",
      "                        \"IPAMConfig\": null,\n",
      "                        \"IPAddress\": \"172.17.0.3\",\n",
      "                        \"IPPrefixLen\": 16,\n",
      "                        \"IPv6Gateway\": \"\",\n",
      "                        \"Links\": null,\n",
      "                        \"MacAddress\": \"02:42:ac:11:00:03\",\n",
      "                        \"NetworkID\": \"91619a5f7b1f18b6cd24584e856cd9524f3bffb227e856f0924ec940967388cc\"\n",
      "                    }\n",
      "                },\n",
      "                \"Ports\": {\n",
      "                    \"6379/tcp\": null\n",
      "                },\n",
      "                \"SandboxID\": \"c8d7ec0d93873dd8611a2a902a00b08bcb86f6031981a9dc2b06bbade3fcc0ea\",\n",
      "                \"SandboxKey\": \"/var/run/docker/netns/c8d7ec0d9387\",\n",
      "                \"SecondaryIPAddresses\": null,\n",
      "                \"SecondaryIPv6Addresses\": null\n",
      "            },\n",
      "            \"Path\": \"docker-entrypoint.sh\",\n",
      "            \"ProcessLabel\": \"\",\n",
      "            \"ResolvConfPath\": \"/var/lib/docker/containers/8d0173eba400446f647c7bbb80ea5666780e5e9a0b7da113a87067b03c586010/resolv.conf\",\n",
      "            \"RestartCount\": 0,\n",
      "            \"State\": {\n",
      "                \"Dead\": false,\n",
      "                \"Error\": \"\",\n",
      "                \"ExitCode\": 0,\n",
      "                \"FinishedAt\": \"0001-01-01T00:00:00Z\",\n",
      "                \"OOMKilled\": false,\n",
      "                \"Paused\": false,\n",
      "                \"Pid\": 8384,\n",
      "                \"Restarting\": false,\n",
      "                \"Running\": true,\n",
      "                \"StartedAt\": \"2017-10-13T02:49:15.623286123Z\",\n",
      "                \"Status\": \"running\"\n",
      "            }\n",
      "        }\n",
      "    },\n",
      "    \"changed\": true,\n",
      "    \"failed\": false\n",
      "}\n",
      "arborian-03.class.arborian.com | SUCCESS => {\n",
      "    \"ansible_facts\": {\n",
      "        \"docker_container\": {\n",
      "            \"AppArmorProfile\": \"\",\n",
      "            \"Args\": [\n",
      "                \"redis-server\"\n",
      "            ],\n",
      "            \"Config\": {\n",
      "                \"AttachStderr\": false,\n",
      "                \"AttachStdin\": false,\n",
      "                \"AttachStdout\": false,\n",
      "                \"Cmd\": [\n",
      "                    \"redis-server\"\n",
      "                ],\n",
      "                \"Domainname\": \"\",\n",
      "                \"Entrypoint\": [\n",
      "                    \"docker-entrypoint.sh\"\n",
      "                ],\n",
      "                \"Env\": [\n",
      "                    \"PATH=/usr/local/sbin:/usr/local/bin:/usr/sbin:/usr/bin:/sbin:/bin\",\n",
      "                    \"GOSU_VERSION=1.10\",\n",
      "                    \"REDIS_VERSION=4.0.2\",\n",
      "                    \"REDIS_DOWNLOAD_URL=http://download.redis.io/releases/redis-4.0.2.tar.gz\",\n",
      "                    \"REDIS_DOWNLOAD_SHA=b1a0915dbc91b979d06df1977fe594c3fa9b189f1f3d38743a2948c9f7634813\"\n",
      "                ],\n",
      "                \"ExposedPorts\": {\n",
      "                    \"6379/tcp\": {}\n",
      "                },\n",
      "                \"Hostname\": \"3abc8554cad5\",\n",
      "                \"Image\": \"redis:latest\",\n",
      "                \"Labels\": {},\n",
      "                \"OnBuild\": null,\n",
      "                \"OpenStdin\": false,\n",
      "                \"StdinOnce\": false,\n",
      "                \"Tty\": false,\n",
      "                \"User\": \"\",\n",
      "                \"Volumes\": {\n",
      "                    \"/data\": {}\n",
      "                },\n",
      "                \"WorkingDir\": \"/data\"\n",
      "            },\n",
      "            \"Created\": \"2017-10-13T02:49:16.419650946Z\",\n",
      "            \"Driver\": \"aufs\",\n",
      "            \"ExecIDs\": null,\n",
      "            \"GraphDriver\": {\n",
      "                \"Data\": null,\n",
      "                \"Name\": \"aufs\"\n",
      "            },\n",
      "            \"HostConfig\": {\n",
      "                \"AutoRemove\": false,\n",
      "                \"Binds\": [],\n",
      "                \"BlkioDeviceReadBps\": null,\n",
      "                \"BlkioDeviceReadIOps\": null,\n",
      "                \"BlkioDeviceWriteBps\": null,\n",
      "                \"BlkioDeviceWriteIOps\": null,\n",
      "                \"BlkioWeight\": 0,\n",
      "                \"BlkioWeightDevice\": null,\n",
      "                \"CapAdd\": null,\n",
      "                \"CapDrop\": null,\n",
      "                \"Cgroup\": \"\",\n",
      "                \"CgroupParent\": \"\",\n",
      "                \"ConsoleSize\": [\n",
      "                    0,\n",
      "                    0\n",
      "                ],\n",
      "                \"ContainerIDFile\": \"\",\n",
      "                \"CpuCount\": 0,\n",
      "                \"CpuPercent\": 0,\n",
      "                \"CpuPeriod\": 0,\n",
      "                \"CpuQuota\": 0,\n",
      "                \"CpuShares\": 0,\n",
      "                \"CpusetCpus\": \"\",\n",
      "                \"CpusetMems\": \"\",\n",
      "                \"Devices\": null,\n",
      "                \"DiskQuota\": 0,\n",
      "                \"Dns\": null,\n",
      "                \"DnsOptions\": null,\n",
      "                \"DnsSearch\": null,\n",
      "                \"ExtraHosts\": null,\n",
      "                \"GroupAdd\": null,\n",
      "                \"IOMaximumBandwidth\": 0,\n",
      "                \"IOMaximumIOps\": 0,\n",
      "                \"IpcMode\": \"\",\n",
      "                \"Isolation\": \"\",\n",
      "                \"KernelMemory\": 0,\n",
      "                \"Links\": null,\n",
      "                \"LogConfig\": {\n",
      "                    \"Config\": {},\n",
      "                    \"Type\": \"json-file\"\n",
      "                },\n",
      "                \"Memory\": 0,\n",
      "                \"MemoryReservation\": 0,\n",
      "                \"MemorySwap\": 0,\n",
      "                \"MemorySwappiness\": -1,\n",
      "                \"NetworkMode\": \"default\",\n",
      "                \"OomKillDisable\": false,\n",
      "                \"OomScoreAdj\": 0,\n",
      "                \"PidMode\": \"\",\n",
      "                \"PidsLimit\": 0,\n",
      "                \"PortBindings\": null,\n",
      "                \"Privileged\": false,\n",
      "                \"PublishAllPorts\": false,\n",
      "                \"ReadonlyRootfs\": false,\n",
      "                \"RestartPolicy\": {\n",
      "                    \"MaximumRetryCount\": 0,\n",
      "                    \"Name\": \"\"\n",
      "                },\n",
      "                \"Runtime\": \"runc\",\n",
      "                \"SecurityOpt\": null,\n",
      "                \"ShmSize\": 67108864,\n",
      "                \"UTSMode\": \"\",\n",
      "                \"Ulimits\": null,\n",
      "                \"UsernsMode\": \"\",\n",
      "                \"VolumeDriver\": \"\",\n",
      "                \"VolumesFrom\": null\n",
      "            },\n",
      "            \"HostnamePath\": \"/var/lib/docker/containers/3abc8554cad5ca518c802d02e31eb45496a9ceb8f35da53b89cdd6fc3d249948/hostname\",\n",
      "            \"HostsPath\": \"/var/lib/docker/containers/3abc8554cad5ca518c802d02e31eb45496a9ceb8f35da53b89cdd6fc3d249948/hosts\",\n",
      "            \"Id\": \"3abc8554cad5ca518c802d02e31eb45496a9ceb8f35da53b89cdd6fc3d249948\",\n",
      "            \"Image\": \"sha256:1fb7b6c8c0d0713640c99dc75f7f39849cb9fc5619c1ba4ff6da286e6af759ee\",\n",
      "            \"LogPath\": \"/var/lib/docker/containers/3abc8554cad5ca518c802d02e31eb45496a9ceb8f35da53b89cdd6fc3d249948/3abc8554cad5ca518c802d02e31eb45496a9ceb8f35da53b89cdd6fc3d249948-json.log\",\n",
      "            \"MountLabel\": \"\",\n",
      "            \"Mounts\": [\n",
      "                {\n",
      "                    \"Destination\": \"/data\",\n",
      "                    \"Driver\": \"local\",\n",
      "                    \"Mode\": \"\",\n",
      "                    \"Name\": \"9a4665bbcfb9e30ca041b85626a5054b2c91aec000688a484715cd6cfc44c750\",\n",
      "                    \"Propagation\": \"\",\n",
      "                    \"RW\": true,\n",
      "                    \"Source\": \"/var/lib/docker/volumes/9a4665bbcfb9e30ca041b85626a5054b2c91aec000688a484715cd6cfc44c750/_data\"\n",
      "                }\n",
      "            ],\n",
      "            \"Name\": \"/redis\",\n",
      "            \"NetworkSettings\": {\n",
      "                \"Bridge\": \"\",\n",
      "                \"EndpointID\": \"f046c09955823d9de9ea931f3274f829ead940c49689f5be9834f6a6d3256108\",\n",
      "                \"Gateway\": \"172.17.0.1\",\n",
      "                \"GlobalIPv6Address\": \"\",\n",
      "                \"GlobalIPv6PrefixLen\": 0,\n",
      "                \"HairpinMode\": false,\n",
      "                \"IPAddress\": \"172.17.0.3\",\n",
      "                \"IPPrefixLen\": 16,\n",
      "                \"IPv6Gateway\": \"\",\n",
      "                \"LinkLocalIPv6Address\": \"\",\n",
      "                \"LinkLocalIPv6PrefixLen\": 0,\n",
      "                \"MacAddress\": \"02:42:ac:11:00:03\",\n",
      "                \"Networks\": {\n",
      "                    \"bridge\": {\n",
      "                        \"Aliases\": null,\n",
      "                        \"EndpointID\": \"f046c09955823d9de9ea931f3274f829ead940c49689f5be9834f6a6d3256108\",\n",
      "                        \"Gateway\": \"172.17.0.1\",\n",
      "                        \"GlobalIPv6Address\": \"\",\n",
      "                        \"GlobalIPv6PrefixLen\": 0,\n",
      "                        \"IPAMConfig\": null,\n",
      "                        \"IPAddress\": \"172.17.0.3\",\n",
      "                        \"IPPrefixLen\": 16,\n",
      "                        \"IPv6Gateway\": \"\",\n",
      "                        \"Links\": null,\n",
      "                        \"MacAddress\": \"02:42:ac:11:00:03\",\n",
      "                        \"NetworkID\": \"b2133f1679afd72e3032bb9eacbf562784c37ec75d4ab11c4c2976e22bc7d8bd\"\n",
      "                    }\n",
      "                },\n",
      "                \"Ports\": {\n",
      "                    \"6379/tcp\": null\n",
      "                },\n",
      "                \"SandboxID\": \"0a565ad1a0ba5fbad4c767a89997af7e0fbd68b44d20b2f77c66748060d91769\",\n",
      "                \"SandboxKey\": \"/var/run/docker/netns/0a565ad1a0ba\",\n",
      "                \"SecondaryIPAddresses\": null,\n",
      "                \"SecondaryIPv6Addresses\": null\n",
      "            },\n",
      "            \"Path\": \"docker-entrypoint.sh\",\n",
      "            \"ProcessLabel\": \"\",\n",
      "            \"ResolvConfPath\": \"/var/lib/docker/containers/3abc8554cad5ca518c802d02e31eb45496a9ceb8f35da53b89cdd6fc3d249948/resolv.conf\",\n",
      "            \"RestartCount\": 0,\n",
      "            \"State\": {\n",
      "                \"Dead\": false,\n",
      "                \"Error\": \"\",\n",
      "                \"ExitCode\": 0,\n",
      "                \"FinishedAt\": \"0001-01-01T00:00:00Z\",\n",
      "                \"OOMKilled\": false,\n",
      "                \"Paused\": false,\n",
      "                \"Pid\": 12408,\n",
      "                \"Restarting\": false,\n",
      "                \"Running\": true,\n",
      "                \"StartedAt\": \"2017-10-13T02:49:16.794031862Z\",\n",
      "                \"Status\": \"running\"\n",
      "            }\n",
      "        }\n",
      "    },\n",
      "    \"changed\": true,\n",
      "    \"failed\": false\n",
      "}\n"
     ]
    }
   ],
   "source": [
    "%%bash\n",
    "ansible db -m docker_container -a 'name=redis image=redis:latest state=started'"
   ]
  },
  {
   "cell_type": "markdown",
   "metadata": {
    "slideshow": {
     "slide_type": "slide"
    }
   },
   "source": [
    "# Lab: Starting and Stopping Containers\n",
    "\n",
    "Start (and then remove) a few containers on the `db` servers. Examine the output of the `docker_container` command.\n",
    "\n",
    "You can find many containers to start at https://hub.docker.com/explore/"
   ]
  },
  {
   "cell_type": "markdown",
   "metadata": {
    "slideshow": {
     "slide_type": "slide"
    }
   },
   "source": [
    "# Managing Containers using Ansible-Container\n",
    "\n",
    "Where the Ansible docker_* modules allow you to manage Docker via command-line tools, the Ansible-Container project provides for the management and orchestration of containers via Ansible playbooks. (The container becomes the managed host)."
   ]
  },
  {
   "cell_type": "markdown",
   "metadata": {
    "slideshow": {
     "slide_type": "slide"
    }
   },
   "source": [
    "## Creating an ansible-container project\n",
    "\n",
    "To get started, we use the `ansible-container init` command.\n",
    "\n",
    "### Create an 'empty' project\n",
    "\n",
    "`$ ansible-container init` with no arguments will create a small set of files in the current directory with minimal configuration. I did this in the simple_container directory:"
   ]
  },
  {
   "cell_type": "code",
   "execution_count": 13,
   "metadata": {
    "slideshow": {
     "slide_type": "slide"
    }
   },
   "outputs": [
    {
     "name": "stdout",
     "output_type": "stream",
     "text": [
      "\u001b[34mansible-deployment\u001b[m\u001b[m/       ansible.cfg               meta.yml\r\n",
      "ansible-requirements.txt  container.yml             requirements.yml\r\n"
     ]
    }
   ],
   "source": [
    "ls simple-container/"
   ]
  },
  {
   "cell_type": "markdown",
   "metadata": {
    "slideshow": {
     "slide_type": "slide"
    }
   },
   "source": [
    "To actually build our set of containers, we use the `build` and `run` commands:"
   ]
  },
  {
   "cell_type": "code",
   "execution_count": 14,
   "metadata": {
    "scrolled": true,
    "slideshow": {
     "slide_type": "fragment"
    }
   },
   "outputs": [
    {
     "name": "stderr",
     "output_type": "stream",
     "text": [
      "Building Docker Engine context...\t\n",
      "Starting Docker build of Ansible Container Conductor image (please be patient)...\t\n",
      "Parsing conductor CLI args.\n",
      "Docker™ daemon integration engine loaded. Build starting.\tproject=simple-container\n",
      "All images successfully built.\n",
      "Conductor terminated. Cleaning up.\tcommand_rc=0 conductor_id=9312ab758b6862b06ca196675db5f253932bdd7a6c8e10038d2e98ce80b9d95b save_container=False\n",
      "Parsing conductor CLI args.\n",
      "Engine integration loaded. Preparing run.\tengine=Docker™ daemon\n",
      " [WARNING]: Could not match supplied host pattern, ignoring: all\n",
      " [WARNING]: provided hosts list is empty, only localhost is available\n",
      "\n",
      "PLAY [Deploy simple-container] *************************************************\n",
      "\n",
      "TASK [docker_service] **********************************************************\n",
      "ok: [localhost]\n",
      "\n",
      "PLAY RECAP *********************************************************************\n",
      "localhost                  : ok=1    changed=0    unreachable=0    failed=0\n",
      "\n",
      "All services running.\tplaybook_rc=0\n",
      "Conductor terminated. Cleaning up.\tcommand_rc=0 conductor_id=4ff585ecd282f9409c24c80ed048a23169313f9287c2e74004cbb8e4cf725b5a save_container=False\n"
     ]
    }
   ],
   "source": [
    "%%bash\n",
    "cd simple-container/\n",
    "ansible-container build\n",
    "ansible-container run"
   ]
  },
  {
   "cell_type": "markdown",
   "metadata": {
    "slideshow": {
     "slide_type": "slide"
    }
   },
   "source": [
    "## Starting from the galaxy\n",
    "\n",
    "We can also start from a project on Ansible Galaxy by adding its name to our `ansible-container init` command. (I did this in the `container` directory:\n",
    "\n",
    "`ansible-container init ansible.django-template`"
   ]
  },
  {
   "cell_type": "markdown",
   "metadata": {
    "slideshow": {
     "slide_type": "slide"
    }
   },
   "source": [
    "## Lab: Installing and using Ansible-Container\n",
    "\n",
    "- Install Ansible-Container (or use the playbook playbooks/prepare-ansible-container.yaml)\n",
    "- Install and run the ansible.django-template app in the `container` directory\n",
    "- Change the database password in container.yml and rebuild and rerun the container"
   ]
  },
  {
   "cell_type": "markdown",
   "metadata": {
    "slideshow": {
     "slide_type": "slide"
    }
   },
   "source": [
    "# Some notes\n",
    "\n",
    "`ansible-container build` creates a **Conductor Container** which is responsible for doing all the actual ansible work. \n",
    "\n",
    "The *conductor* will build the various containers (\"Services\") in your `container.yml` file. Each Ansible role for a service becomes a *layer* in the generated image.\n",
    "\n",
    "You can install various Ansible requirements in the *conductor* by adding them to the ansible-requirements.txt file\n",
    "\n",
    "There's much more, including deployment to Docker Swarm or K8S. See http://docs.ansible.com/ansible-container/ for more information."
   ]
  }
 ],
 "metadata": {
  "celltoolbar": "Slideshow",
  "kernelspec": {
   "display_name": "Python 3",
   "language": "python",
   "name": "python3"
  },
  "language_info": {
   "codemirror_mode": {
    "name": "ipython",
    "version": 3
   },
   "file_extension": ".py",
   "mimetype": "text/x-python",
   "name": "python",
   "nbconvert_exporter": "python",
   "pygments_lexer": "ipython3",
   "version": "3.6.0"
  }
 },
 "nbformat": 4,
 "nbformat_minor": 2
}
